{
 "cells": [
  {
   "cell_type": "markdown",
   "metadata": {},
   "source": [
    "#### smote + enn\n",
    "          precision    recall  f1-score   support\n",
    "\n",
    "          0       0.98      0.96      0.97      1920\n",
    "          1       0.35      0.51      0.41        80\n",
    "\n",
    "avg / total       0.95      0.94      0.95      2000\n",
    "\n",
    "ACCURACY: 0.942"
   ]
  },
  {
   "cell_type": "markdown",
   "metadata": {},
   "source": [
    "#### smote enn 결측치 2개 delete 했을 때\n",
    "\n",
    "          precision    recall  f1-score   support\n",
    "\n",
    "          0       0.98      0.95      0.96      1920\n",
    "          1       0.28      0.51      0.37        80\n",
    "\n",
    "avg / total       0.95      0.93      0.94      2000\n",
    "\n",
    "ACCURACY: 0.929"
   ]
  },
  {
   "cell_type": "markdown",
   "metadata": {},
   "source": [
    "#### ADASYN\n",
    "\n",
    "          precision    recall  f1-score   support\n",
    "\n",
    "          0       0.98      0.97      0.97      1920\n",
    "          1       0.38      0.46      0.42        80\n",
    "\n",
    "avg / total       0.95      0.95      0.95      2000\n",
    "\n",
    "ACCURACY: 0.9485\n"
   ]
  },
  {
   "cell_type": "markdown",
   "metadata": {},
   "source": [
    "#### Random oversampling\n",
    "             precision    recall  f1-score   support\n",
    "\n",
    "          0       0.98      0.94      0.96      1920\n",
    "          1       0.30      0.65      0.41        80\n",
    "\n",
    "avg / total       0.96      0.93      0.94      2000\n",
    "\n",
    "ACCURACY: 0.9265\n"
   ]
  },
  {
   "cell_type": "markdown",
   "metadata": {},
   "source": [
    "### 비식별처리 replace , fillna 해도 비식별처리로 인식됨"
   ]
  },
  {
   "cell_type": "code",
   "execution_count": 1,
   "metadata": {},
   "outputs": [
    {
     "name": "stderr",
     "output_type": "stream",
     "text": [
      "/home/rosa/miniconda3/envs/py36/lib/python3.6/site-packages/sklearn/cross_validation.py:41: DeprecationWarning: This module was deprecated in version 0.18 in favor of the model_selection module into which all the refactored classes and functions are moved. Also note that the interface of the new CV iterators are different from that of this module. This module will be removed in 0.20.\n",
      "  \"This module will be removed in 0.20.\", DeprecationWarning)\n"
     ]
    }
   ],
   "source": [
    "import pandas as pd\n",
    "import numpy as np\n",
    "import os\n",
    "from imblearn.combine import SMOTEENN\n",
    "import matplotlib.pyplot as plt\n",
    "from sklearn import preprocessing\n",
    "from sklearn import linear_model\n",
    "from sklearn.metrics import classification_report\n",
    "from numpy import loadtxt\n",
    "from xgboost import XGBClassifier\n",
    "from sklearn.model_selection import train_test_split\n",
    "from sklearn.metrics import accuracy_score\n",
    "from sklearn.pipeline import Pipeline\n",
    "from sklearn.preprocessing import StandardScaler, MinMaxScaler ,normalize\n",
    "from sklearn import preprocessing\n",
    "import seaborn as sns\n",
    "import matplotlib as mpl\n",
    "import matplotlib.pyplot as plt\n",
    "import matplotlib.pylab as pylab\n",
    "import seaborn as sns\n",
    "%matplotlib inline\n",
    "mpl.style.use( 'ggplot' )\n",
    "sns.set_style( 'white' )\n",
    "pylab.rcParams[ 'figure.figsize' ] = 8 , 6\n"
   ]
  },
  {
   "cell_type": "code",
   "execution_count": 2,
   "metadata": {},
   "outputs": [
    {
     "data": {
      "text/plain": [
       "50    382\n",
       "45    374\n",
       "55    322\n",
       "40    309\n",
       "35    214\n",
       "60    191\n",
       "30     92\n",
       "65     68\n",
       "25     53\n",
       "20      5\n",
       "70      5\n",
       "*       4\n",
       "Name: AGE, dtype: int64"
      ]
     },
     "execution_count": 2,
     "metadata": {},
     "output_type": "execute_result"
    }
   ],
   "source": [
    "df = pd.read_csv('./Data_set.csv',encoding='cp949')\n",
    "df1 = pd.read_csv('./Test_set.csv',encoding='cp949')\n",
    "df1.AGE.value_counts(0)"
   ]
  },
  {
   "cell_type": "code",
   "execution_count": 3,
   "metadata": {},
   "outputs": [
    {
     "name": "stdout",
     "output_type": "stream",
     "text": [
      "<class 'pandas.core.frame.DataFrame'>\n",
      "RangeIndex: 100233 entries, 0 to 100232\n",
      "Data columns (total 69 columns):\n",
      "CUST_ID              100233 non-null int64\n",
      "TARGET               100233 non-null int64\n",
      "BNK_LNIF_CNT         100233 non-null int64\n",
      "CPT_LNIF_CNT         100233 non-null int64\n",
      "SPART_LNIF_CNT       100233 non-null int64\n",
      "ECT_LNIF_CNT         100233 non-null int64\n",
      "TOT_LNIF_AMT         100233 non-null int64\n",
      "TOT_CLIF_AMT         100233 non-null int64\n",
      "BNK_LNIF_AMT         100233 non-null int64\n",
      "CPT_LNIF_AMT         100233 non-null int64\n",
      "CRDT_OCCR_MDIF       100233 non-null int64\n",
      "SPTCT_OCCR_MDIF      100233 non-null int64\n",
      "CRDT_CARD_CNT        100233 non-null int64\n",
      "CTCD_OCCR_MDIF       100233 non-null int64\n",
      "CB_GUIF_CNT          100233 non-null int64\n",
      "CB_GUIF_AMT          100233 non-null int64\n",
      "OCCP_NAME_G          99769 non-null object\n",
      "CUST_JOB_INCM        100233 non-null int64\n",
      "HSHD_INFR_INCM       100233 non-null int64\n",
      "ACTL_FMLY_NUM        100233 non-null int64\n",
      "CUST_FMLY_NUM        100233 non-null int64\n",
      "LAST_CHLD_AGE        99206 non-null float64\n",
      "MATE_OCCP_NAME_G     54524 non-null object\n",
      "MATE_JOB_INCM        100233 non-null int64\n",
      "CRDT_LOAN_CNT        100233 non-null int64\n",
      "MIN_CNTT_DATE        100233 non-null int64\n",
      "TOT_CRLN_AMT         100233 non-null int64\n",
      "TOT_REPY_AMT         100233 non-null int64\n",
      "CRLN_OVDU_RATE       100233 non-null int64\n",
      "CRLN_30OVDU_RATE     100233 non-null int64\n",
      "LT1Y_CLOD_RATE       100233 non-null int64\n",
      "STRT_CRDT_GRAD       100233 non-null int64\n",
      "LTST_CRDT_GRAD       100233 non-null int64\n",
      "PREM_OVDU_RATE       100233 non-null int64\n",
      "LT1Y_PEOD_RATE       100233 non-null object\n",
      "AVG_STLN_RATE        100233 non-null int64\n",
      "STLN_REMN_AMT        100233 non-null int64\n",
      "LT1Y_STLN_AMT        100233 non-null int64\n",
      "LT1Y_SLOD_RATE       100233 non-null int64\n",
      "GDINS_MON_PREM       100233 non-null int64\n",
      "SVINS_MON_PREM       100233 non-null int64\n",
      "FMLY_GDINS_MNPREM    100233 non-null int64\n",
      "FMLY_SVINS_MNPREM    100233 non-null int64\n",
      "MAX_MON_PREM         100233 non-null int64\n",
      "TOT_PREM             100233 non-null int64\n",
      "FMLY_TOT_PREM        100233 non-null int64\n",
      "CNTT_LAMT_CNT        100233 non-null int64\n",
      "LT1Y_CTLT_CNT        100233 non-null int64\n",
      "AUTR_FAIL_MCNT       100233 non-null int64\n",
      "FYCM_PAID_AMT        100233 non-null int64\n",
      "FMLY_CLAM_CNT        100233 non-null int64\n",
      "FMLY_PLPY_CNT        100233 non-null int64\n",
      "AGE                  100233 non-null object\n",
      "SEX                  100233 non-null object\n",
      "AVG_CALL_TIME        100233 non-null int64\n",
      "AVG_CALL_FREQ        100233 non-null int64\n",
      "TEL_MBSP_GRAD        54218 non-null object\n",
      "ARPU                 100233 non-null int64\n",
      "MON_TLFE_AMT         100233 non-null int64\n",
      "CBPT_MBSP_YN         100233 non-null object\n",
      "MOBL_FATY_PRC        100233 non-null int64\n",
      "TEL_CNTT_QTR         100233 non-null int64\n",
      "NUM_DAY_SUSP         100233 non-null int64\n",
      "CRMM_OVDU_AMT        100233 non-null int64\n",
      "TLFE_UNPD_CNT        100233 non-null int64\n",
      "LT1Y_MXOD_AMT        100233 non-null int64\n",
      "PAYM_METD            97400 non-null object\n",
      "LINE_STUS            100233 non-null object\n",
      "MOBL_PRIN            100233 non-null int64\n",
      "dtypes: float64(1), int64(59), object(9)\n",
      "memory usage: 52.8+ MB\n"
     ]
    }
   ],
   "source": [
    "df.info()"
   ]
  },
  {
   "cell_type": "code",
   "execution_count": 4,
   "metadata": {
    "scrolled": true
   },
   "outputs": [
    {
     "name": "stderr",
     "output_type": "stream",
     "text": [
      "/home/rosa/miniconda3/envs/py36/lib/python3.6/site-packages/ipykernel_launcher.py:4: FutureWarning: convert_objects is deprecated.  Use the data-type specific converters pd.to_datetime, pd.to_timedelta and pd.to_numeric.\n",
      "  after removing the cwd from sys.path.\n"
     ]
    },
    {
     "data": {
      "text/plain": [
       "0         50\n",
       "1         50\n",
       "2         60\n",
       "3         35\n",
       "4         45\n",
       "5         45\n",
       "6         40\n",
       "7         60\n",
       "8         40\n",
       "9         40\n",
       "10        55\n",
       "11        40\n",
       "12        25\n",
       "13        40\n",
       "14        25\n",
       "15        30\n",
       "16        55\n",
       "17        60\n",
       "18        45\n",
       "19        50\n",
       "20        35\n",
       "21        35\n",
       "22        46\n",
       "23        46\n",
       "24        55\n",
       "25        50\n",
       "26        60\n",
       "27        60\n",
       "28        45\n",
       "29        30\n",
       "          ..\n",
       "100203    50\n",
       "100204    30\n",
       "100205    35\n",
       "100206    50\n",
       "100207    60\n",
       "100208    55\n",
       "100209    45\n",
       "100210    55\n",
       "100211    50\n",
       "100212    55\n",
       "100213    60\n",
       "100214    30\n",
       "100215    45\n",
       "100216    35\n",
       "100217    35\n",
       "100218    50\n",
       "100219    55\n",
       "100220    40\n",
       "100221    50\n",
       "100222    25\n",
       "100223    40\n",
       "100224    40\n",
       "100225    25\n",
       "100226    46\n",
       "100227    55\n",
       "100228    55\n",
       "100229    45\n",
       "100230    45\n",
       "100231    45\n",
       "100232    55\n",
       "Name: AGE, Length: 100233, dtype: int64"
      ]
     },
     "execution_count": 4,
     "metadata": {},
     "output_type": "execute_result"
    }
   ],
   "source": [
    "df.AGE\n",
    "\n",
    "df.AGE = df.AGE.replace('*',46)\n",
    "df.AGE = pd.Series(df.AGE).convert_objects(convert_numeric=True)\n",
    "df.AGE = df.AGE.replace(0,df.AGE.mean())\n",
    "df.AGE\n"
   ]
  },
  {
   "cell_type": "code",
   "execution_count": 5,
   "metadata": {},
   "outputs": [
    {
     "name": "stderr",
     "output_type": "stream",
     "text": [
      "/home/rosa/miniconda3/envs/py36/lib/python3.6/site-packages/ipykernel_launcher.py:3: FutureWarning: convert_objects is deprecated.  Use the data-type specific converters pd.to_datetime, pd.to_timedelta and pd.to_numeric.\n",
      "  This is separate from the ipykernel package so we can avoid doing imports until\n"
     ]
    },
    {
     "data": {
      "text/plain": [
       "0         1\n",
       "1         1\n",
       "2         2\n",
       "3         1\n",
       "4         1\n",
       "5         1\n",
       "6         2\n",
       "7         1\n",
       "8         2\n",
       "9         1\n",
       "10        2\n",
       "11        1\n",
       "12        2\n",
       "13        1\n",
       "14        2\n",
       "15        1\n",
       "16        2\n",
       "17        2\n",
       "18        2\n",
       "19        2\n",
       "20        1\n",
       "21        2\n",
       "22        1\n",
       "23        1\n",
       "24        1\n",
       "25        2\n",
       "26        2\n",
       "27        1\n",
       "28        2\n",
       "29        1\n",
       "         ..\n",
       "100203    2\n",
       "100204    2\n",
       "100205    2\n",
       "100206    2\n",
       "100207    1\n",
       "100208    1\n",
       "100209    2\n",
       "100210    2\n",
       "100211    2\n",
       "100212    2\n",
       "100213    2\n",
       "100214    1\n",
       "100215    2\n",
       "100216    1\n",
       "100217    1\n",
       "100218    2\n",
       "100219    1\n",
       "100220    2\n",
       "100221    2\n",
       "100222    1\n",
       "100223    1\n",
       "100224    1\n",
       "100225    1\n",
       "100226    1\n",
       "100227    1\n",
       "100228    2\n",
       "100229    2\n",
       "100230    1\n",
       "100231    1\n",
       "100232    2\n",
       "Name: SEX, Length: 100233, dtype: int64"
      ]
     },
     "execution_count": 5,
     "metadata": {},
     "output_type": "execute_result"
    }
   ],
   "source": [
    "df.SEX\n",
    "df.SEX = df.SEX.replace('*',1)\n",
    "df.SEX = pd.Series(df.SEX).convert_objects(convert_numeric=True)\n",
    "df.SEX"
   ]
  },
  {
   "cell_type": "code",
   "execution_count": 6,
   "metadata": {
    "collapsed": true,
    "scrolled": true
   },
   "outputs": [],
   "source": [
    "df.TEL_CNTT_QTR = df.TEL_CNTT_QTR.astype(str)"
   ]
  },
  {
   "cell_type": "code",
   "execution_count": 7,
   "metadata": {},
   "outputs": [
    {
     "name": "stdout",
     "output_type": "stream",
     "text": [
      "<class 'pandas.core.frame.DataFrame'>\n",
      "RangeIndex: 100233 entries, 0 to 100232\n",
      "Data columns (total 69 columns):\n",
      "CUST_ID              100233 non-null int64\n",
      "TARGET               100233 non-null int64\n",
      "BNK_LNIF_CNT         100233 non-null int64\n",
      "CPT_LNIF_CNT         100233 non-null int64\n",
      "SPART_LNIF_CNT       100233 non-null int64\n",
      "ECT_LNIF_CNT         100233 non-null int64\n",
      "TOT_LNIF_AMT         100233 non-null int64\n",
      "TOT_CLIF_AMT         100233 non-null int64\n",
      "BNK_LNIF_AMT         100233 non-null int64\n",
      "CPT_LNIF_AMT         100233 non-null int64\n",
      "CRDT_OCCR_MDIF       100233 non-null int64\n",
      "SPTCT_OCCR_MDIF      100233 non-null int64\n",
      "CRDT_CARD_CNT        100233 non-null int64\n",
      "CTCD_OCCR_MDIF       100233 non-null int64\n",
      "CB_GUIF_CNT          100233 non-null int64\n",
      "CB_GUIF_AMT          100233 non-null int64\n",
      "OCCP_NAME_G          99769 non-null object\n",
      "CUST_JOB_INCM        100233 non-null int64\n",
      "HSHD_INFR_INCM       100233 non-null int64\n",
      "ACTL_FMLY_NUM        100233 non-null int64\n",
      "CUST_FMLY_NUM        100233 non-null int64\n",
      "LAST_CHLD_AGE        99206 non-null float64\n",
      "MATE_OCCP_NAME_G     54524 non-null object\n",
      "MATE_JOB_INCM        100233 non-null int64\n",
      "CRDT_LOAN_CNT        100233 non-null int64\n",
      "MIN_CNTT_DATE        100233 non-null int64\n",
      "TOT_CRLN_AMT         100233 non-null int64\n",
      "TOT_REPY_AMT         100233 non-null int64\n",
      "CRLN_OVDU_RATE       100233 non-null int64\n",
      "CRLN_30OVDU_RATE     100233 non-null int64\n",
      "LT1Y_CLOD_RATE       100233 non-null int64\n",
      "STRT_CRDT_GRAD       100233 non-null int64\n",
      "LTST_CRDT_GRAD       100233 non-null int64\n",
      "PREM_OVDU_RATE       100233 non-null int64\n",
      "LT1Y_PEOD_RATE       100233 non-null object\n",
      "AVG_STLN_RATE        100233 non-null int64\n",
      "STLN_REMN_AMT        100233 non-null int64\n",
      "LT1Y_STLN_AMT        100233 non-null int64\n",
      "LT1Y_SLOD_RATE       100233 non-null int64\n",
      "GDINS_MON_PREM       100233 non-null int64\n",
      "SVINS_MON_PREM       100233 non-null int64\n",
      "FMLY_GDINS_MNPREM    100233 non-null int64\n",
      "FMLY_SVINS_MNPREM    100233 non-null int64\n",
      "MAX_MON_PREM         100233 non-null int64\n",
      "TOT_PREM             100233 non-null int64\n",
      "FMLY_TOT_PREM        100233 non-null int64\n",
      "CNTT_LAMT_CNT        100233 non-null int64\n",
      "LT1Y_CTLT_CNT        100233 non-null int64\n",
      "AUTR_FAIL_MCNT       100233 non-null int64\n",
      "FYCM_PAID_AMT        100233 non-null int64\n",
      "FMLY_CLAM_CNT        100233 non-null int64\n",
      "FMLY_PLPY_CNT        100233 non-null int64\n",
      "AGE                  100233 non-null int64\n",
      "SEX                  100233 non-null int64\n",
      "AVG_CALL_TIME        100233 non-null int64\n",
      "AVG_CALL_FREQ        100233 non-null int64\n",
      "TEL_MBSP_GRAD        54218 non-null object\n",
      "ARPU                 100233 non-null int64\n",
      "MON_TLFE_AMT         100233 non-null int64\n",
      "CBPT_MBSP_YN         100233 non-null object\n",
      "MOBL_FATY_PRC        100233 non-null int64\n",
      "TEL_CNTT_QTR         100233 non-null object\n",
      "NUM_DAY_SUSP         100233 non-null int64\n",
      "CRMM_OVDU_AMT        100233 non-null int64\n",
      "TLFE_UNPD_CNT        100233 non-null int64\n",
      "LT1Y_MXOD_AMT        100233 non-null int64\n",
      "PAYM_METD            97400 non-null object\n",
      "LINE_STUS            100233 non-null object\n",
      "MOBL_PRIN            100233 non-null int64\n",
      "dtypes: float64(1), int64(60), object(8)\n",
      "memory usage: 52.8+ MB\n"
     ]
    }
   ],
   "source": [
    "df.info()"
   ]
  },
  {
   "cell_type": "code",
   "execution_count": 8,
   "metadata": {
    "collapsed": true
   },
   "outputs": [],
   "source": [
    "# df.PAYM_METD = df.PAYM_METD.fillna('O')\n",
    "# df.TEL_MBSP_GRAD = df.TEL_MBSP_GRAD.fillna('R')\n",
    "# df.MATE_OCCP_NAME_G = df.MATE_OCCP_NAME_G.fillna('주부')\n",
    "# df.OCCP_NAME_G = df.OCCP_NAME_G.fillna('주부')\n",
    "# df.LAST_CHLD_AGE = df.LAST_CHLD_AGE.fillna(df.LAST_CHLD_AGE.mean())"
   ]
  },
  {
   "cell_type": "code",
   "execution_count": 9,
   "metadata": {
    "collapsed": true
   },
   "outputs": [],
   "source": [
    "# # *가 있으면 그 줄을 그냥 지워버려라\n",
    "# for i in range(100234):\n",
    "#     print (df['OCCCP_NAME_G'](i) is '*')\n",
    "        \n",
    "    \n",
    "    "
   ]
  },
  {
   "cell_type": "code",
   "execution_count": 10,
   "metadata": {
    "collapsed": true
   },
   "outputs": [],
   "source": [
    "#무조건\n",
    "del df['CUST_ID']\n",
    "#null\n",
    "del df['MATE_OCCP_NAME_G']\n",
    "del df['OCCP_NAME_G']\n",
    "del df['LAST_CHLD_AGE']\n",
    "del df['TEL_MBSP_GRAD']\n",
    "del df['PAYM_METD']\n"
   ]
  },
  {
   "cell_type": "code",
   "execution_count": 11,
   "metadata": {},
   "outputs": [],
   "source": [
    "#값이 오브젝트인거 다뺏을때\n",
    "del df['LINE_STUS']\n",
    "del df['CBPT_MBSP_YN']"
   ]
  },
  {
   "cell_type": "code",
   "execution_count": 12,
   "metadata": {
    "collapsed": true
   },
   "outputs": [],
   "source": [
    "df = pd.get_dummies(df)"
   ]
  },
  {
   "cell_type": "code",
   "execution_count": 13,
   "metadata": {
    "collapsed": true
   },
   "outputs": [],
   "source": [
    "df_test = df[:2000]\n",
    "df_train = df[2000:]"
   ]
  },
  {
   "cell_type": "code",
   "execution_count": 14,
   "metadata": {
    "collapsed": true
   },
   "outputs": [],
   "source": [
    "x_data = df_train.drop('TARGET',axis=1)\n",
    "y_data = df_train.TARGET"
   ]
  },
  {
   "cell_type": "code",
   "execution_count": 15,
   "metadata": {
    "collapsed": true
   },
   "outputs": [],
   "source": [
    "X = x_data\n",
    "y = y_data\n",
    "from imblearn.over_sampling import ADASYN \n",
    "from imblearn.over_sampling import RandomOverSampler\n",
    "from imblearn.under_sampling import CondensedNearestNeighbour \n",
    "\n",
    "# undersampling\n",
    "# cnn = CondensedNearestNeighbour(random_state=42) \n",
    "# X_resampled, y_resampled = cnn.fit_sample(X, y)\n",
    "\n",
    "#RANDOM \n",
    "# ros = RandomOverSampler(random_state=42)\n",
    "# X_resampled, y_resampled = ros.fit_sample(X, y)\n",
    "\n",
    "#ADASYN\n",
    "# ada = ADASYN(random_state=42,n_neighbors=3)\n",
    "# X_resampled, y_resampled = ada.fit_sample(X, y)\n",
    "\n",
    "# Apply SMOTE + ENN\n",
    "sm = SMOTEENN()\n",
    "X_resampled, y_resampled = sm.fit_sample(X, y)"
   ]
  },
  {
   "cell_type": "code",
   "execution_count": null,
   "metadata": {
    "collapsed": true
   },
   "outputs": [],
   "source": []
  },
  {
   "cell_type": "code",
   "execution_count": 16,
   "metadata": {},
   "outputs": [
    {
     "data": {
      "text/html": [
       "<div>\n",
       "<style>\n",
       "    .dataframe thead tr:only-child th {\n",
       "        text-align: right;\n",
       "    }\n",
       "\n",
       "    .dataframe thead th {\n",
       "        text-align: left;\n",
       "    }\n",
       "\n",
       "    .dataframe tbody tr th {\n",
       "        vertical-align: top;\n",
       "    }\n",
       "</style>\n",
       "<table border=\"1\" class=\"dataframe\">\n",
       "  <thead>\n",
       "    <tr style=\"text-align: right;\">\n",
       "      <th></th>\n",
       "      <th>0</th>\n",
       "      <th>1</th>\n",
       "      <th>2</th>\n",
       "      <th>3</th>\n",
       "      <th>4</th>\n",
       "      <th>5</th>\n",
       "      <th>6</th>\n",
       "      <th>7</th>\n",
       "      <th>8</th>\n",
       "      <th>9</th>\n",
       "      <th>...</th>\n",
       "      <th>149</th>\n",
       "      <th>150</th>\n",
       "      <th>151</th>\n",
       "      <th>152</th>\n",
       "      <th>153</th>\n",
       "      <th>154</th>\n",
       "      <th>155</th>\n",
       "      <th>156</th>\n",
       "      <th>157</th>\n",
       "      <th>TARGET</th>\n",
       "    </tr>\n",
       "  </thead>\n",
       "  <tbody>\n",
       "    <tr>\n",
       "      <th>0</th>\n",
       "      <td>0.0</td>\n",
       "      <td>0.0</td>\n",
       "      <td>1.0</td>\n",
       "      <td>1.0</td>\n",
       "      <td>48001.0</td>\n",
       "      <td>48001.0</td>\n",
       "      <td>0.0</td>\n",
       "      <td>0.0</td>\n",
       "      <td>1.0</td>\n",
       "      <td>1.0</td>\n",
       "      <td>...</td>\n",
       "      <td>0.0</td>\n",
       "      <td>0.0</td>\n",
       "      <td>0.0</td>\n",
       "      <td>0.0</td>\n",
       "      <td>0.0</td>\n",
       "      <td>0.0</td>\n",
       "      <td>0.0</td>\n",
       "      <td>0.0</td>\n",
       "      <td>0.0</td>\n",
       "      <td>0</td>\n",
       "    </tr>\n",
       "    <tr>\n",
       "      <th>1</th>\n",
       "      <td>2.0</td>\n",
       "      <td>0.0</td>\n",
       "      <td>0.0</td>\n",
       "      <td>0.0</td>\n",
       "      <td>48001.0</td>\n",
       "      <td>1.0</td>\n",
       "      <td>48001.0</td>\n",
       "      <td>0.0</td>\n",
       "      <td>13.0</td>\n",
       "      <td>0.0</td>\n",
       "      <td>...</td>\n",
       "      <td>0.0</td>\n",
       "      <td>0.0</td>\n",
       "      <td>0.0</td>\n",
       "      <td>0.0</td>\n",
       "      <td>0.0</td>\n",
       "      <td>0.0</td>\n",
       "      <td>0.0</td>\n",
       "      <td>0.0</td>\n",
       "      <td>0.0</td>\n",
       "      <td>0</td>\n",
       "    </tr>\n",
       "    <tr>\n",
       "      <th>2</th>\n",
       "      <td>1.0</td>\n",
       "      <td>0.0</td>\n",
       "      <td>0.0</td>\n",
       "      <td>0.0</td>\n",
       "      <td>9001.0</td>\n",
       "      <td>9001.0</td>\n",
       "      <td>9001.0</td>\n",
       "      <td>0.0</td>\n",
       "      <td>25.0</td>\n",
       "      <td>0.0</td>\n",
       "      <td>...</td>\n",
       "      <td>0.0</td>\n",
       "      <td>0.0</td>\n",
       "      <td>0.0</td>\n",
       "      <td>0.0</td>\n",
       "      <td>0.0</td>\n",
       "      <td>0.0</td>\n",
       "      <td>0.0</td>\n",
       "      <td>0.0</td>\n",
       "      <td>0.0</td>\n",
       "      <td>0</td>\n",
       "    </tr>\n",
       "    <tr>\n",
       "      <th>3</th>\n",
       "      <td>2.0</td>\n",
       "      <td>0.0</td>\n",
       "      <td>0.0</td>\n",
       "      <td>0.0</td>\n",
       "      <td>39001.0</td>\n",
       "      <td>39001.0</td>\n",
       "      <td>39001.0</td>\n",
       "      <td>0.0</td>\n",
       "      <td>1.0</td>\n",
       "      <td>0.0</td>\n",
       "      <td>...</td>\n",
       "      <td>1.0</td>\n",
       "      <td>0.0</td>\n",
       "      <td>0.0</td>\n",
       "      <td>0.0</td>\n",
       "      <td>0.0</td>\n",
       "      <td>0.0</td>\n",
       "      <td>0.0</td>\n",
       "      <td>0.0</td>\n",
       "      <td>0.0</td>\n",
       "      <td>0</td>\n",
       "    </tr>\n",
       "    <tr>\n",
       "      <th>4</th>\n",
       "      <td>0.0</td>\n",
       "      <td>0.0</td>\n",
       "      <td>0.0</td>\n",
       "      <td>1.0</td>\n",
       "      <td>132001.0</td>\n",
       "      <td>132001.0</td>\n",
       "      <td>0.0</td>\n",
       "      <td>0.0</td>\n",
       "      <td>1.0</td>\n",
       "      <td>0.0</td>\n",
       "      <td>...</td>\n",
       "      <td>0.0</td>\n",
       "      <td>0.0</td>\n",
       "      <td>0.0</td>\n",
       "      <td>0.0</td>\n",
       "      <td>0.0</td>\n",
       "      <td>0.0</td>\n",
       "      <td>0.0</td>\n",
       "      <td>0.0</td>\n",
       "      <td>0.0</td>\n",
       "      <td>0</td>\n",
       "    </tr>\n",
       "  </tbody>\n",
       "</table>\n",
       "<p>5 rows × 159 columns</p>\n",
       "</div>"
      ],
      "text/plain": [
       "     0    1    2    3         4         5        6    7     8    9   ...    \\\n",
       "0  0.0  0.0  1.0  1.0   48001.0   48001.0      0.0  0.0   1.0  1.0   ...     \n",
       "1  2.0  0.0  0.0  0.0   48001.0       1.0  48001.0  0.0  13.0  0.0   ...     \n",
       "2  1.0  0.0  0.0  0.0    9001.0    9001.0   9001.0  0.0  25.0  0.0   ...     \n",
       "3  2.0  0.0  0.0  0.0   39001.0   39001.0  39001.0  0.0   1.0  0.0   ...     \n",
       "4  0.0  0.0  0.0  1.0  132001.0  132001.0      0.0  0.0   1.0  0.0   ...     \n",
       "\n",
       "   149  150  151  152  153  154  155  156  157  TARGET  \n",
       "0  0.0  0.0  0.0  0.0  0.0  0.0  0.0  0.0  0.0       0  \n",
       "1  0.0  0.0  0.0  0.0  0.0  0.0  0.0  0.0  0.0       0  \n",
       "2  0.0  0.0  0.0  0.0  0.0  0.0  0.0  0.0  0.0       0  \n",
       "3  1.0  0.0  0.0  0.0  0.0  0.0  0.0  0.0  0.0       0  \n",
       "4  0.0  0.0  0.0  0.0  0.0  0.0  0.0  0.0  0.0       0  \n",
       "\n",
       "[5 rows x 159 columns]"
      ]
     },
     "execution_count": 16,
     "metadata": {},
     "output_type": "execute_result"
    }
   ],
   "source": [
    "df_1 = pd.DataFrame(X_resampled)\n",
    "df_2 = pd.DataFrame(y_resampled)\n",
    "df_2.columns = ['TARGET']\n",
    "df_final = pd.concat([df_1,df_2],axis=1)\n",
    "df_final.head()"
   ]
  },
  {
   "cell_type": "code",
   "execution_count": 17,
   "metadata": {},
   "outputs": [
    {
     "data": {
      "text/html": [
       "<div>\n",
       "<style>\n",
       "    .dataframe thead tr:only-child th {\n",
       "        text-align: right;\n",
       "    }\n",
       "\n",
       "    .dataframe thead th {\n",
       "        text-align: left;\n",
       "    }\n",
       "\n",
       "    .dataframe tbody tr th {\n",
       "        vertical-align: top;\n",
       "    }\n",
       "</style>\n",
       "<table border=\"1\" class=\"dataframe\">\n",
       "  <thead>\n",
       "    <tr style=\"text-align: right;\">\n",
       "      <th></th>\n",
       "      <th>0</th>\n",
       "      <th>1</th>\n",
       "      <th>2</th>\n",
       "      <th>3</th>\n",
       "      <th>4</th>\n",
       "      <th>5</th>\n",
       "      <th>6</th>\n",
       "      <th>7</th>\n",
       "      <th>8</th>\n",
       "      <th>9</th>\n",
       "      <th>...</th>\n",
       "      <th>149</th>\n",
       "      <th>150</th>\n",
       "      <th>151</th>\n",
       "      <th>152</th>\n",
       "      <th>153</th>\n",
       "      <th>154</th>\n",
       "      <th>155</th>\n",
       "      <th>156</th>\n",
       "      <th>157</th>\n",
       "      <th>TARGET</th>\n",
       "    </tr>\n",
       "  </thead>\n",
       "  <tbody>\n",
       "    <tr>\n",
       "      <th>115300</th>\n",
       "      <td>1.000000</td>\n",
       "      <td>2.000000</td>\n",
       "      <td>2.746354</td>\n",
       "      <td>0.746354</td>\n",
       "      <td>31120.531269</td>\n",
       "      <td>31120.531269</td>\n",
       "      <td>6761.937462</td>\n",
       "      <td>18001.000000</td>\n",
       "      <td>16.043750</td>\n",
       "      <td>60.825001</td>\n",
       "      <td>...</td>\n",
       "      <td>0.0</td>\n",
       "      <td>0.373177</td>\n",
       "      <td>0.0</td>\n",
       "      <td>0.0</td>\n",
       "      <td>0.0</td>\n",
       "      <td>0.0</td>\n",
       "      <td>0.0</td>\n",
       "      <td>0.0</td>\n",
       "      <td>0.0</td>\n",
       "      <td>1</td>\n",
       "    </tr>\n",
       "    <tr>\n",
       "      <th>87876</th>\n",
       "      <td>0.071863</td>\n",
       "      <td>0.143726</td>\n",
       "      <td>1.071863</td>\n",
       "      <td>0.928137</td>\n",
       "      <td>4078.946781</td>\n",
       "      <td>3216.589356</td>\n",
       "      <td>431.250576</td>\n",
       "      <td>646.839932</td>\n",
       "      <td>19.898859</td>\n",
       "      <td>12.065779</td>\n",
       "      <td>...</td>\n",
       "      <td>0.0</td>\n",
       "      <td>0.000000</td>\n",
       "      <td>0.0</td>\n",
       "      <td>0.0</td>\n",
       "      <td>0.0</td>\n",
       "      <td>0.0</td>\n",
       "      <td>0.0</td>\n",
       "      <td>0.0</td>\n",
       "      <td>0.0</td>\n",
       "      <td>1</td>\n",
       "    </tr>\n",
       "    <tr>\n",
       "      <th>121896</th>\n",
       "      <td>0.000000</td>\n",
       "      <td>2.977202</td>\n",
       "      <td>5.908809</td>\n",
       "      <td>2.931607</td>\n",
       "      <td>32248.673096</td>\n",
       "      <td>32248.673096</td>\n",
       "      <td>0.000000</td>\n",
       "      <td>2932.606645</td>\n",
       "      <td>2.094294</td>\n",
       "      <td>13.820720</td>\n",
       "      <td>...</td>\n",
       "      <td>0.0</td>\n",
       "      <td>0.977202</td>\n",
       "      <td>0.0</td>\n",
       "      <td>0.0</td>\n",
       "      <td>0.0</td>\n",
       "      <td>0.0</td>\n",
       "      <td>0.0</td>\n",
       "      <td>0.0</td>\n",
       "      <td>0.0</td>\n",
       "      <td>1</td>\n",
       "    </tr>\n",
       "    <tr>\n",
       "      <th>50981</th>\n",
       "      <td>1.000000</td>\n",
       "      <td>0.000000</td>\n",
       "      <td>1.000000</td>\n",
       "      <td>1.000000</td>\n",
       "      <td>72001.000000</td>\n",
       "      <td>48001.000000</td>\n",
       "      <td>48001.000000</td>\n",
       "      <td>0.000000</td>\n",
       "      <td>25.000000</td>\n",
       "      <td>0.000000</td>\n",
       "      <td>...</td>\n",
       "      <td>0.0</td>\n",
       "      <td>0.000000</td>\n",
       "      <td>0.0</td>\n",
       "      <td>0.0</td>\n",
       "      <td>0.0</td>\n",
       "      <td>0.0</td>\n",
       "      <td>0.0</td>\n",
       "      <td>0.0</td>\n",
       "      <td>0.0</td>\n",
       "      <td>0</td>\n",
       "    </tr>\n",
       "    <tr>\n",
       "      <th>122179</th>\n",
       "      <td>0.000000</td>\n",
       "      <td>2.010814</td>\n",
       "      <td>2.010814</td>\n",
       "      <td>0.000000</td>\n",
       "      <td>7044.254909</td>\n",
       "      <td>7044.254909</td>\n",
       "      <td>0.000000</td>\n",
       "      <td>7044.254909</td>\n",
       "      <td>8.956745</td>\n",
       "      <td>25.000000</td>\n",
       "      <td>...</td>\n",
       "      <td>0.0</td>\n",
       "      <td>0.000000</td>\n",
       "      <td>0.0</td>\n",
       "      <td>0.0</td>\n",
       "      <td>0.0</td>\n",
       "      <td>0.0</td>\n",
       "      <td>0.0</td>\n",
       "      <td>0.0</td>\n",
       "      <td>0.0</td>\n",
       "      <td>1</td>\n",
       "    </tr>\n",
       "  </tbody>\n",
       "</table>\n",
       "<p>5 rows × 159 columns</p>\n",
       "</div>"
      ],
      "text/plain": [
       "               0         1         2         3             4             5  \\\n",
       "115300  1.000000  2.000000  2.746354  0.746354  31120.531269  31120.531269   \n",
       "87876   0.071863  0.143726  1.071863  0.928137   4078.946781   3216.589356   \n",
       "121896  0.000000  2.977202  5.908809  2.931607  32248.673096  32248.673096   \n",
       "50981   1.000000  0.000000  1.000000  1.000000  72001.000000  48001.000000   \n",
       "122179  0.000000  2.010814  2.010814  0.000000   7044.254909   7044.254909   \n",
       "\n",
       "                   6             7          8          9   ...    149  \\\n",
       "115300   6761.937462  18001.000000  16.043750  60.825001   ...    0.0   \n",
       "87876     431.250576    646.839932  19.898859  12.065779   ...    0.0   \n",
       "121896      0.000000   2932.606645   2.094294  13.820720   ...    0.0   \n",
       "50981   48001.000000      0.000000  25.000000   0.000000   ...    0.0   \n",
       "122179      0.000000   7044.254909   8.956745  25.000000   ...    0.0   \n",
       "\n",
       "             150  151  152  153  154  155  156  157  TARGET  \n",
       "115300  0.373177  0.0  0.0  0.0  0.0  0.0  0.0  0.0       1  \n",
       "87876   0.000000  0.0  0.0  0.0  0.0  0.0  0.0  0.0       1  \n",
       "121896  0.977202  0.0  0.0  0.0  0.0  0.0  0.0  0.0       1  \n",
       "50981   0.000000  0.0  0.0  0.0  0.0  0.0  0.0  0.0       0  \n",
       "122179  0.000000  0.0  0.0  0.0  0.0  0.0  0.0  0.0       1  \n",
       "\n",
       "[5 rows x 159 columns]"
      ]
     },
     "execution_count": 17,
     "metadata": {},
     "output_type": "execute_result"
    }
   ],
   "source": [
    "df_final = df_final.sample(frac=1)\n",
    "df_final.head()"
   ]
  },
  {
   "cell_type": "code",
   "execution_count": 18,
   "metadata": {
    "collapsed": true
   },
   "outputs": [],
   "source": [
    "train_y = df_final.TARGET\n",
    "train_x = df_final.drop('TARGET',axis=1)"
   ]
  },
  {
   "cell_type": "code",
   "execution_count": 19,
   "metadata": {
    "collapsed": true
   },
   "outputs": [],
   "source": [
    "test_y = df_test.TARGET\n",
    "test_x = df_test.drop('TARGET',axis=1)"
   ]
  },
  {
   "cell_type": "code",
   "execution_count": 20,
   "metadata": {
    "collapsed": true
   },
   "outputs": [],
   "source": [
    "min_max_scaler = preprocessing.MinMaxScaler(feature_range=(0,5))\n",
    "train_x = min_max_scaler.fit_transform(train_x)\n",
    "test_x = min_max_scaler.fit_transform(test_x)"
   ]
  },
  {
   "cell_type": "code",
   "execution_count": 21,
   "metadata": {},
   "outputs": [
    {
     "name": "stdout",
     "output_type": "stream",
     "text": [
      "Logistic Regression Accuracy :  0.8265\n"
     ]
    }
   ],
   "source": [
    "from sklearn import linear_model\n",
    "reg = linear_model.LogisticRegression()\n",
    "reg.fit(train_x,train_y)\n",
    "score = reg.score(test_x,test_y)\n",
    "print('Logistic Regression Accuracy : ',score)"
   ]
  },
  {
   "cell_type": "code",
   "execution_count": 22,
   "metadata": {},
   "outputs": [
    {
     "name": "stdout",
     "output_type": "stream",
     "text": [
      "             precision    recall  f1-score   support\n",
      "\n",
      "          0       0.99      0.83      0.90      1920\n",
      "          1       0.16      0.81      0.27        80\n",
      "\n",
      "avg / total       0.96      0.83      0.88      2000\n",
      "\n"
     ]
    }
   ],
   "source": [
    "from sklearn.metrics import classification_report\n",
    "print(classification_report(test_y,reg.predict(test_x)))"
   ]
  },
  {
   "cell_type": "code",
   "execution_count": 23,
   "metadata": {},
   "outputs": [
    {
     "name": "stdout",
     "output_type": "stream",
     "text": [
      "Logistic Regression used class weight  0.8445\n",
      "             precision    recall  f1-score   support\n",
      "\n",
      "          0       0.99      0.85      0.91      1920\n",
      "          1       0.17      0.76      0.28        80\n",
      "\n",
      "avg / total       0.96      0.84      0.89      2000\n",
      "\n"
     ]
    }
   ],
   "source": [
    "reg2 = linear_model.LogisticRegression(class_weight='balanced')\n",
    "reg2.fit(train_x,train_y)\n",
    "score2 = reg2.score(test_x,test_y)\n",
    "print('Logistic Regression used class weight ' ,score2)\n",
    "print(classification_report(test_y,reg2.predict(test_x)))"
   ]
  },
  {
   "cell_type": "code",
   "execution_count": 24,
   "metadata": {},
   "outputs": [
    {
     "name": "stdout",
     "output_type": "stream",
     "text": [
      "             precision    recall  f1-score   support\n",
      "\n",
      "          0       0.98      0.94      0.96      1920\n",
      "          1       0.27      0.53      0.36        80\n",
      "\n",
      "avg / total       0.95      0.92      0.94      2000\n",
      "\n",
      "ACCURACY: 0.9245\n"
     ]
    }
   ],
   "source": [
    "# fit model no training data\n",
    "model = XGBClassifier(learning_rate=0.2,max_depth=7,base_score=0.5,max_delta_step=0,n_estimators=100)\n",
    "\n",
    "pipe = Pipeline([['xg',MinMaxScaler(feature_range=(0,5))],['model',model]])\n",
    "pipe.fit(train_x,train_y)\n",
    "print(classification_report(test_y,pipe.predict(test_x)))\n",
    "print(\"ACCURACY:\",pipe.score(test_x,test_y))"
   ]
  },
  {
   "cell_type": "code",
   "execution_count": null,
   "metadata": {
    "collapsed": true
   },
   "outputs": [],
   "source": []
  },
  {
   "cell_type": "code",
   "execution_count": null,
   "metadata": {
    "collapsed": true
   },
   "outputs": [],
   "source": []
  }
 ],
 "metadata": {
  "anaconda-cloud": {},
  "kernelspec": {
   "display_name": "Python 3",
   "language": "python",
   "name": "python3"
  },
  "language_info": {
   "codemirror_mode": {
    "name": "ipython",
    "version": 3
   },
   "file_extension": ".py",
   "mimetype": "text/x-python",
   "name": "python",
   "nbconvert_exporter": "python",
   "pygments_lexer": "ipython3",
   "version": "3.6.1"
  }
 },
 "nbformat": 4,
 "nbformat_minor": 2
}
