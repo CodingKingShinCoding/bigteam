{
 "cells": [
  {
   "cell_type": "markdown",
   "metadata": {},
   "source": [
    "#### smote + enn\n",
    "          precision    recall  f1-score   support\n",
    "\n",
    "          0       0.98      0.96      0.97      1920\n",
    "          1       0.35      0.51      0.41        80\n",
    "\n",
    "avg / total       0.95      0.94      0.95      2000\n",
    "\n",
    "ACCURACY: 0.942"
   ]
  },
  {
   "cell_type": "markdown",
   "metadata": {},
   "source": [
    "#### smote enn 결측치 2개 delete 했을 때\n",
    "\n",
    "          precision    recall  f1-score   support\n",
    "\n",
    "          0       0.98      0.95      0.96      1920\n",
    "          1       0.28      0.51      0.37        80\n",
    "\n",
    "avg / total       0.95      0.93      0.94      2000\n",
    "\n",
    "ACCURACY: 0.929"
   ]
  },
  {
   "cell_type": "markdown",
   "metadata": {},
   "source": [
    "#### ADASYN\n",
    "\n",
    "          precision    recall  f1-score   support\n",
    "\n",
    "          0       0.98      0.97      0.97      1920\n",
    "          1       0.38      0.46      0.42        80\n",
    "\n",
    "avg / total       0.95      0.95      0.95      2000\n",
    "\n",
    "ACCURACY: 0.9485\n"
   ]
  },
  {
   "cell_type": "markdown",
   "metadata": {},
   "source": [
    "#### Random oversampling\n",
    "             precision    recall  f1-score   support\n",
    "\n",
    "          0       0.98      0.94      0.96      1920\n",
    "          1       0.30      0.65      0.41        80\n",
    "\n",
    "avg / total       0.96      0.93      0.94      2000\n",
    "\n",
    "ACCURACY: 0.9265\n"
   ]
  },
  {
   "cell_type": "markdown",
   "metadata": {},
   "source": [
    "### 비식별처리 replace , fillna 해도 비식별처리로 인식됨"
   ]
  },
  {
   "cell_type": "code",
   "execution_count": 1,
   "metadata": {},
   "outputs": [
    {
     "name": "stderr",
     "output_type": "stream",
     "text": [
      "/home/rosa/miniconda3/envs/py36/lib/python3.6/site-packages/sklearn/cross_validation.py:41: DeprecationWarning: This module was deprecated in version 0.18 in favor of the model_selection module into which all the refactored classes and functions are moved. Also note that the interface of the new CV iterators are different from that of this module. This module will be removed in 0.20.\n",
      "  \"This module will be removed in 0.20.\", DeprecationWarning)\n"
     ]
    }
   ],
   "source": [
    "import pandas as pd\n",
    "import numpy as np\n",
    "import os\n",
    "from imblearn.combine import SMOTEENN\n",
    "import matplotlib.pyplot as plt\n",
    "from sklearn import preprocessing\n",
    "from sklearn import linear_model\n",
    "from sklearn.metrics import classification_report\n",
    "from numpy import loadtxt\n",
    "from xgboost import XGBClassifier\n",
    "from sklearn.model_selection import train_test_split\n",
    "from sklearn.metrics import accuracy_score\n",
    "from sklearn.pipeline import Pipeline\n",
    "from sklearn.preprocessing import StandardScaler, MinMaxScaler ,normalize\n",
    "from sklearn import preprocessing\n",
    "import seaborn as sns\n",
    "import matplotlib as mpl\n",
    "import matplotlib.pyplot as plt\n",
    "import matplotlib.pylab as pylab\n",
    "import seaborn as sns\n",
    "%matplotlib inline\n",
    "mpl.style.use( 'ggplot' )\n",
    "sns.set_style( 'white' )\n",
    "pylab.rcParams[ 'figure.figsize' ] = 8 , 6\n"
   ]
  },
  {
   "cell_type": "code",
   "execution_count": 2,
   "metadata": {},
   "outputs": [],
   "source": [
    "df = pd.read_csv('./Data_set.csv',encoding='cp949')\n",
    "df1 = pd.read_csv('./Test_set.csv',encoding='cp949')\n",
    "# df1.AGE.value_counts(0)"
   ]
  },
  {
   "cell_type": "code",
   "execution_count": 4,
   "metadata": {},
   "outputs": [],
   "source": [
    "# df.key()"
   ]
  },
  {
   "cell_type": "code",
   "execution_count": 6,
   "metadata": {
    "scrolled": true
   },
   "outputs": [
    {
     "name": "stderr",
     "output_type": "stream",
     "text": [
      "/home/rosa/miniconda3/envs/py36/lib/python3.6/site-packages/ipykernel_launcher.py:4: FutureWarning: convert_objects is deprecated.  Use the data-type specific converters pd.to_datetime, pd.to_timedelta and pd.to_numeric.\n",
      "  after removing the cwd from sys.path.\n"
     ]
    }
   ],
   "source": [
    "df.AGE\n",
    "\n",
    "df.AGE = df.AGE.replace('*',46)\n",
    "df.AGE = pd.Series(df.AGE).convert_objects(convert_numeric=True)\n",
    "df.AGE = df.AGE.replace(0,df.AGE.mean())\n",
    "# df.AGE\n"
   ]
  },
  {
   "cell_type": "code",
   "execution_count": 7,
   "metadata": {},
   "outputs": [
    {
     "name": "stderr",
     "output_type": "stream",
     "text": [
      "/home/rosa/miniconda3/envs/py36/lib/python3.6/site-packages/ipykernel_launcher.py:3: FutureWarning: convert_objects is deprecated.  Use the data-type specific converters pd.to_datetime, pd.to_timedelta and pd.to_numeric.\n",
      "  This is separate from the ipykernel package so we can avoid doing imports until\n"
     ]
    }
   ],
   "source": [
    "df.SEX\n",
    "df.SEX = df.SEX.replace('*',1)\n",
    "df.SEX = pd.Series(df.SEX).convert_objects(convert_numeric=True)\n"
   ]
  },
  {
   "cell_type": "code",
   "execution_count": 8,
   "metadata": {
    "collapsed": true,
    "scrolled": true
   },
   "outputs": [],
   "source": [
    "df.TEL_CNTT_QTR = df.TEL_CNTT_QTR.astype(str)\n",
    "df.MIN_CNTT_DATE = df.MIN_CNTT_DATE.astype(str)"
   ]
  },
  {
   "cell_type": "code",
   "execution_count": 9,
   "metadata": {
    "collapsed": true
   },
   "outputs": [],
   "source": [
    "# df.PAYM_METD = df.PAYM_METD.fillna('O')\n",
    "# df.TEL_MBSP_GRAD = df.TEL_MBSP_GRAD.fillna('R')\n",
    "# df.MATE_OCCP_NAME_G = df.MATE_OCCP_NAME_G.fillna('주부')\n",
    "# df.OCCP_NAME_G = df.OCCP_NAME_G.fillna('주부')\n",
    "# df.LAST_CHLD_AGE = df.LAST_CHLD_AGE.fillna(df.LAST_CHLD_AGE.mean())"
   ]
  },
  {
   "cell_type": "code",
   "execution_count": 10,
   "metadata": {
    "collapsed": true
   },
   "outputs": [],
   "source": [
    "# # *가 있으면 그 줄을 그냥 지워버려라\n",
    "# for i in range(100234):\n",
    "#     print (df['OCCCP_NAME_G'](i) is '*')\n",
    "        \n",
    "    \n",
    "    "
   ]
  },
  {
   "cell_type": "code",
   "execution_count": 11,
   "metadata": {
    "collapsed": true
   },
   "outputs": [],
   "source": [
    "df['total_cnt'] = df['SPART_LNIF_CNT']+df['ECT_LNIF_CNT']+df['BNK_LNIF_CNT']+df['CPT_LNIF_CNT']"
   ]
  },
  {
   "cell_type": "code",
   "execution_count": 12,
   "metadata": {},
   "outputs": [],
   "source": [
    "#무조건\n",
    "del df['CUST_ID']\n",
    "#null\n",
    "del df['MATE_OCCP_NAME_G']\n",
    "del df['OCCP_NAME_G']\n",
    "del df['LAST_CHLD_AGE']\n",
    "del df['TEL_MBSP_GRAD']\n",
    "del df['PAYM_METD']\n"
   ]
  },
  {
   "cell_type": "code",
   "execution_count": 13,
   "metadata": {},
   "outputs": [],
   "source": [
    "#대출정보 현재 총 건수 필쳐 합치기\n",
    "# sum(df['BNK_LNIF_CNT'],df['CPT_LNIF_CNT'],df['SPART_LNIF_CNT'],df['ECT_LNIF_CNT'])\n",
    "del df['BNK_LNIF_CNT']\n",
    "del df['CPT_LNIF_CNT']\n",
    "del df['SPART_LNIF_CNT']\n",
    "del df['ECT_LNIF_CNT']\n",
    "\n"
   ]
  },
  {
   "cell_type": "code",
   "execution_count": 14,
   "metadata": {
    "collapsed": true
   },
   "outputs": [],
   "source": [
    "df = pd.get_dummies(df)"
   ]
  },
  {
   "cell_type": "code",
   "execution_count": 15,
   "metadata": {
    "collapsed": true
   },
   "outputs": [],
   "source": [
    "df_test = df[:2000]\n",
    "df_train = df[2000:]"
   ]
  },
  {
   "cell_type": "code",
   "execution_count": 16,
   "metadata": {
    "collapsed": true
   },
   "outputs": [],
   "source": [
    "x_data = df_train.drop('TARGET',axis=1)\n",
    "y_data = df_train.TARGET"
   ]
  },
  {
   "cell_type": "code",
   "execution_count": 17,
   "metadata": {
    "collapsed": true
   },
   "outputs": [],
   "source": [
    "X = x_data\n",
    "y = y_data\n",
    "from imblearn.over_sampling import ADASYN \n",
    "from imblearn.over_sampling import RandomOverSampler\n",
    "from imblearn.under_sampling import CondensedNearestNeighbour \n",
    "\n",
    "# undersampling\n",
    "# cnn = CondensedNearestNeighbour(random_state=42) \n",
    "# X_resampled, y_resampled = cnn.fit_sample(X, y)\n",
    "\n",
    "#RANDOM \n",
    "# ros = RandomOverSampler(random_state=42)\n",
    "# X_resampled, y_resampled = ros.fit_sample(X, y)\n",
    "\n",
    "#ADASYN\n",
    "# ada = ADASYN(random_state=42,n_neighbors=3)\n",
    "# X_resampled, y_resampled = ada.fit_sample(X, y)\n",
    "\n",
    "# Apply SMOTE + ENN\n",
    "sm = SMOTEENN()\n",
    "X_resampled, y_resampled = sm.fit_sample(X, y)"
   ]
  },
  {
   "cell_type": "code",
   "execution_count": null,
   "metadata": {
    "collapsed": true
   },
   "outputs": [],
   "source": []
  },
  {
   "cell_type": "code",
   "execution_count": 18,
   "metadata": {},
   "outputs": [
    {
     "data": {
      "text/html": [
       "<div>\n",
       "<style>\n",
       "    .dataframe thead tr:only-child th {\n",
       "        text-align: right;\n",
       "    }\n",
       "\n",
       "    .dataframe thead th {\n",
       "        text-align: left;\n",
       "    }\n",
       "\n",
       "    .dataframe tbody tr th {\n",
       "        vertical-align: top;\n",
       "    }\n",
       "</style>\n",
       "<table border=\"1\" class=\"dataframe\">\n",
       "  <thead>\n",
       "    <tr style=\"text-align: right;\">\n",
       "      <th></th>\n",
       "      <th>0</th>\n",
       "      <th>1</th>\n",
       "      <th>2</th>\n",
       "      <th>3</th>\n",
       "      <th>4</th>\n",
       "      <th>5</th>\n",
       "      <th>6</th>\n",
       "      <th>7</th>\n",
       "      <th>8</th>\n",
       "      <th>9</th>\n",
       "      <th>...</th>\n",
       "      <th>350</th>\n",
       "      <th>351</th>\n",
       "      <th>352</th>\n",
       "      <th>353</th>\n",
       "      <th>354</th>\n",
       "      <th>355</th>\n",
       "      <th>356</th>\n",
       "      <th>357</th>\n",
       "      <th>358</th>\n",
       "      <th>TARGET</th>\n",
       "    </tr>\n",
       "  </thead>\n",
       "  <tbody>\n",
       "    <tr>\n",
       "      <th>0</th>\n",
       "      <td>48001.0</td>\n",
       "      <td>48001.0</td>\n",
       "      <td>0.0</td>\n",
       "      <td>0.0</td>\n",
       "      <td>1.0</td>\n",
       "      <td>1.0</td>\n",
       "      <td>3.0</td>\n",
       "      <td>121.0</td>\n",
       "      <td>0.0</td>\n",
       "      <td>0.0</td>\n",
       "      <td>...</td>\n",
       "      <td>0.0</td>\n",
       "      <td>0.0</td>\n",
       "      <td>0.0</td>\n",
       "      <td>0.0</td>\n",
       "      <td>0.0</td>\n",
       "      <td>0.0</td>\n",
       "      <td>0.0</td>\n",
       "      <td>0.0</td>\n",
       "      <td>1.0</td>\n",
       "      <td>0</td>\n",
       "    </tr>\n",
       "    <tr>\n",
       "      <th>1</th>\n",
       "      <td>48001.0</td>\n",
       "      <td>1.0</td>\n",
       "      <td>48001.0</td>\n",
       "      <td>0.0</td>\n",
       "      <td>13.0</td>\n",
       "      <td>0.0</td>\n",
       "      <td>2.0</td>\n",
       "      <td>109.0</td>\n",
       "      <td>0.0</td>\n",
       "      <td>0.0</td>\n",
       "      <td>...</td>\n",
       "      <td>0.0</td>\n",
       "      <td>0.0</td>\n",
       "      <td>0.0</td>\n",
       "      <td>0.0</td>\n",
       "      <td>0.0</td>\n",
       "      <td>0.0</td>\n",
       "      <td>0.0</td>\n",
       "      <td>0.0</td>\n",
       "      <td>1.0</td>\n",
       "      <td>0</td>\n",
       "    </tr>\n",
       "    <tr>\n",
       "      <th>2</th>\n",
       "      <td>9001.0</td>\n",
       "      <td>9001.0</td>\n",
       "      <td>9001.0</td>\n",
       "      <td>0.0</td>\n",
       "      <td>25.0</td>\n",
       "      <td>0.0</td>\n",
       "      <td>3.0</td>\n",
       "      <td>121.0</td>\n",
       "      <td>0.0</td>\n",
       "      <td>0.0</td>\n",
       "      <td>...</td>\n",
       "      <td>0.0</td>\n",
       "      <td>0.0</td>\n",
       "      <td>0.0</td>\n",
       "      <td>0.0</td>\n",
       "      <td>0.0</td>\n",
       "      <td>0.0</td>\n",
       "      <td>0.0</td>\n",
       "      <td>0.0</td>\n",
       "      <td>1.0</td>\n",
       "      <td>0</td>\n",
       "    </tr>\n",
       "    <tr>\n",
       "      <th>3</th>\n",
       "      <td>39001.0</td>\n",
       "      <td>39001.0</td>\n",
       "      <td>39001.0</td>\n",
       "      <td>0.0</td>\n",
       "      <td>1.0</td>\n",
       "      <td>0.0</td>\n",
       "      <td>5.0</td>\n",
       "      <td>109.0</td>\n",
       "      <td>0.0</td>\n",
       "      <td>0.0</td>\n",
       "      <td>...</td>\n",
       "      <td>0.0</td>\n",
       "      <td>0.0</td>\n",
       "      <td>0.0</td>\n",
       "      <td>0.0</td>\n",
       "      <td>0.0</td>\n",
       "      <td>0.0</td>\n",
       "      <td>0.0</td>\n",
       "      <td>0.0</td>\n",
       "      <td>1.0</td>\n",
       "      <td>0</td>\n",
       "    </tr>\n",
       "    <tr>\n",
       "      <th>4</th>\n",
       "      <td>132001.0</td>\n",
       "      <td>132001.0</td>\n",
       "      <td>0.0</td>\n",
       "      <td>0.0</td>\n",
       "      <td>1.0</td>\n",
       "      <td>0.0</td>\n",
       "      <td>3.0</td>\n",
       "      <td>121.0</td>\n",
       "      <td>0.0</td>\n",
       "      <td>0.0</td>\n",
       "      <td>...</td>\n",
       "      <td>0.0</td>\n",
       "      <td>0.0</td>\n",
       "      <td>0.0</td>\n",
       "      <td>0.0</td>\n",
       "      <td>0.0</td>\n",
       "      <td>0.0</td>\n",
       "      <td>0.0</td>\n",
       "      <td>0.0</td>\n",
       "      <td>1.0</td>\n",
       "      <td>0</td>\n",
       "    </tr>\n",
       "  </tbody>\n",
       "</table>\n",
       "<p>5 rows × 360 columns</p>\n",
       "</div>"
      ],
      "text/plain": [
       "          0         1        2    3     4    5    6      7    8    9   ...    \\\n",
       "0   48001.0   48001.0      0.0  0.0   1.0  1.0  3.0  121.0  0.0  0.0   ...     \n",
       "1   48001.0       1.0  48001.0  0.0  13.0  0.0  2.0  109.0  0.0  0.0   ...     \n",
       "2    9001.0    9001.0   9001.0  0.0  25.0  0.0  3.0  121.0  0.0  0.0   ...     \n",
       "3   39001.0   39001.0  39001.0  0.0   1.0  0.0  5.0  109.0  0.0  0.0   ...     \n",
       "4  132001.0  132001.0      0.0  0.0   1.0  0.0  3.0  121.0  0.0  0.0   ...     \n",
       "\n",
       "   350  351  352  353  354  355  356  357  358  TARGET  \n",
       "0  0.0  0.0  0.0  0.0  0.0  0.0  0.0  0.0  1.0       0  \n",
       "1  0.0  0.0  0.0  0.0  0.0  0.0  0.0  0.0  1.0       0  \n",
       "2  0.0  0.0  0.0  0.0  0.0  0.0  0.0  0.0  1.0       0  \n",
       "3  0.0  0.0  0.0  0.0  0.0  0.0  0.0  0.0  1.0       0  \n",
       "4  0.0  0.0  0.0  0.0  0.0  0.0  0.0  0.0  1.0       0  \n",
       "\n",
       "[5 rows x 360 columns]"
      ]
     },
     "execution_count": 18,
     "metadata": {},
     "output_type": "execute_result"
    }
   ],
   "source": [
    "df_1 = pd.DataFrame(X_resampled)\n",
    "df_2 = pd.DataFrame(y_resampled)\n",
    "df_2.columns = ['TARGET']\n",
    "df_final = pd.concat([df_1,df_2],axis=1)\n",
    "df_final.head()"
   ]
  },
  {
   "cell_type": "code",
   "execution_count": 19,
   "metadata": {},
   "outputs": [
    {
     "data": {
      "text/html": [
       "<div>\n",
       "<style>\n",
       "    .dataframe thead tr:only-child th {\n",
       "        text-align: right;\n",
       "    }\n",
       "\n",
       "    .dataframe thead th {\n",
       "        text-align: left;\n",
       "    }\n",
       "\n",
       "    .dataframe tbody tr th {\n",
       "        vertical-align: top;\n",
       "    }\n",
       "</style>\n",
       "<table border=\"1\" class=\"dataframe\">\n",
       "  <thead>\n",
       "    <tr style=\"text-align: right;\">\n",
       "      <th></th>\n",
       "      <th>0</th>\n",
       "      <th>1</th>\n",
       "      <th>2</th>\n",
       "      <th>3</th>\n",
       "      <th>4</th>\n",
       "      <th>5</th>\n",
       "      <th>6</th>\n",
       "      <th>7</th>\n",
       "      <th>8</th>\n",
       "      <th>9</th>\n",
       "      <th>...</th>\n",
       "      <th>350</th>\n",
       "      <th>351</th>\n",
       "      <th>352</th>\n",
       "      <th>353</th>\n",
       "      <th>354</th>\n",
       "      <th>355</th>\n",
       "      <th>356</th>\n",
       "      <th>357</th>\n",
       "      <th>358</th>\n",
       "      <th>TARGET</th>\n",
       "    </tr>\n",
       "  </thead>\n",
       "  <tbody>\n",
       "    <tr>\n",
       "      <th>28088</th>\n",
       "      <td>18001.000000</td>\n",
       "      <td>18001.000000</td>\n",
       "      <td>18001.000000</td>\n",
       "      <td>0.000000</td>\n",
       "      <td>97.000000</td>\n",
       "      <td>0.000000</td>\n",
       "      <td>2.000000</td>\n",
       "      <td>121.000000</td>\n",
       "      <td>0.0</td>\n",
       "      <td>0.0</td>\n",
       "      <td>...</td>\n",
       "      <td>1.0</td>\n",
       "      <td>0.0</td>\n",
       "      <td>0.0</td>\n",
       "      <td>0.0</td>\n",
       "      <td>0.0</td>\n",
       "      <td>0.000000</td>\n",
       "      <td>0.0</td>\n",
       "      <td>0.0</td>\n",
       "      <td>1.0</td>\n",
       "      <td>0</td>\n",
       "    </tr>\n",
       "    <tr>\n",
       "      <th>86485</th>\n",
       "      <td>1.000000</td>\n",
       "      <td>1.000000</td>\n",
       "      <td>0.000000</td>\n",
       "      <td>1.000000</td>\n",
       "      <td>26.952108</td>\n",
       "      <td>34.301405</td>\n",
       "      <td>0.000000</td>\n",
       "      <td>0.000000</td>\n",
       "      <td>0.0</td>\n",
       "      <td>0.0</td>\n",
       "      <td>...</td>\n",
       "      <td>0.0</td>\n",
       "      <td>0.0</td>\n",
       "      <td>0.0</td>\n",
       "      <td>0.0</td>\n",
       "      <td>0.0</td>\n",
       "      <td>0.387559</td>\n",
       "      <td>0.0</td>\n",
       "      <td>0.0</td>\n",
       "      <td>1.0</td>\n",
       "      <td>1</td>\n",
       "    </tr>\n",
       "    <tr>\n",
       "      <th>140985</th>\n",
       "      <td>1566.058808</td>\n",
       "      <td>1566.058808</td>\n",
       "      <td>1566.058808</td>\n",
       "      <td>0.478314</td>\n",
       "      <td>18.739765</td>\n",
       "      <td>11.957843</td>\n",
       "      <td>1.434941</td>\n",
       "      <td>40.656667</td>\n",
       "      <td>0.0</td>\n",
       "      <td>0.0</td>\n",
       "      <td>...</td>\n",
       "      <td>0.0</td>\n",
       "      <td>0.0</td>\n",
       "      <td>0.0</td>\n",
       "      <td>0.0</td>\n",
       "      <td>0.0</td>\n",
       "      <td>0.000000</td>\n",
       "      <td>0.0</td>\n",
       "      <td>0.0</td>\n",
       "      <td>1.0</td>\n",
       "      <td>1</td>\n",
       "    </tr>\n",
       "    <tr>\n",
       "      <th>26747</th>\n",
       "      <td>9001.000000</td>\n",
       "      <td>9001.000000</td>\n",
       "      <td>9001.000000</td>\n",
       "      <td>0.000000</td>\n",
       "      <td>37.000000</td>\n",
       "      <td>0.000000</td>\n",
       "      <td>3.000000</td>\n",
       "      <td>49.000000</td>\n",
       "      <td>0.0</td>\n",
       "      <td>0.0</td>\n",
       "      <td>...</td>\n",
       "      <td>0.0</td>\n",
       "      <td>0.0</td>\n",
       "      <td>0.0</td>\n",
       "      <td>0.0</td>\n",
       "      <td>0.0</td>\n",
       "      <td>0.000000</td>\n",
       "      <td>0.0</td>\n",
       "      <td>0.0</td>\n",
       "      <td>1.0</td>\n",
       "      <td>0</td>\n",
       "    </tr>\n",
       "    <tr>\n",
       "      <th>116737</th>\n",
       "      <td>1.000000</td>\n",
       "      <td>0.999547</td>\n",
       "      <td>0.000000</td>\n",
       "      <td>0.000453</td>\n",
       "      <td>36.983255</td>\n",
       "      <td>36.983255</td>\n",
       "      <td>1.000000</td>\n",
       "      <td>97.010862</td>\n",
       "      <td>0.0</td>\n",
       "      <td>0.0</td>\n",
       "      <td>...</td>\n",
       "      <td>0.0</td>\n",
       "      <td>0.0</td>\n",
       "      <td>0.0</td>\n",
       "      <td>0.0</td>\n",
       "      <td>0.0</td>\n",
       "      <td>0.000000</td>\n",
       "      <td>0.0</td>\n",
       "      <td>0.0</td>\n",
       "      <td>1.0</td>\n",
       "      <td>1</td>\n",
       "    </tr>\n",
       "  </tbody>\n",
       "</table>\n",
       "<p>5 rows × 360 columns</p>\n",
       "</div>"
      ],
      "text/plain": [
       "                   0             1             2         3          4  \\\n",
       "28088   18001.000000  18001.000000  18001.000000  0.000000  97.000000   \n",
       "86485       1.000000      1.000000      0.000000  1.000000  26.952108   \n",
       "140985   1566.058808   1566.058808   1566.058808  0.478314  18.739765   \n",
       "26747    9001.000000   9001.000000   9001.000000  0.000000  37.000000   \n",
       "116737      1.000000      0.999547      0.000000  0.000453  36.983255   \n",
       "\n",
       "                5         6           7    8    9   ...    350  351  352  353  \\\n",
       "28088    0.000000  2.000000  121.000000  0.0  0.0   ...    1.0  0.0  0.0  0.0   \n",
       "86485   34.301405  0.000000    0.000000  0.0  0.0   ...    0.0  0.0  0.0  0.0   \n",
       "140985  11.957843  1.434941   40.656667  0.0  0.0   ...    0.0  0.0  0.0  0.0   \n",
       "26747    0.000000  3.000000   49.000000  0.0  0.0   ...    0.0  0.0  0.0  0.0   \n",
       "116737  36.983255  1.000000   97.010862  0.0  0.0   ...    0.0  0.0  0.0  0.0   \n",
       "\n",
       "        354       355  356  357  358  TARGET  \n",
       "28088   0.0  0.000000  0.0  0.0  1.0       0  \n",
       "86485   0.0  0.387559  0.0  0.0  1.0       1  \n",
       "140985  0.0  0.000000  0.0  0.0  1.0       1  \n",
       "26747   0.0  0.000000  0.0  0.0  1.0       0  \n",
       "116737  0.0  0.000000  0.0  0.0  1.0       1  \n",
       "\n",
       "[5 rows x 360 columns]"
      ]
     },
     "execution_count": 19,
     "metadata": {},
     "output_type": "execute_result"
    }
   ],
   "source": [
    "df_final = df_final.sample(frac=1)\n",
    "df_final.head()"
   ]
  },
  {
   "cell_type": "code",
   "execution_count": 20,
   "metadata": {
    "collapsed": true
   },
   "outputs": [],
   "source": [
    "train_y = df_final.TARGET\n",
    "train_x = df_final.drop('TARGET',axis=1)"
   ]
  },
  {
   "cell_type": "code",
   "execution_count": 21,
   "metadata": {
    "collapsed": true
   },
   "outputs": [],
   "source": [
    "test_y = df_test.TARGET\n",
    "test_x = df_test.drop('TARGET',axis=1)"
   ]
  },
  {
   "cell_type": "code",
   "execution_count": 22,
   "metadata": {
    "collapsed": true
   },
   "outputs": [],
   "source": [
    "min_max_scaler = preprocessing.MinMaxScaler(feature_range=(0,5))\n",
    "train_x = min_max_scaler.fit_transform(train_x)\n",
    "test_x = min_max_scaler.fit_transform(test_x)"
   ]
  },
  {
   "cell_type": "code",
   "execution_count": 23,
   "metadata": {},
   "outputs": [
    {
     "name": "stdout",
     "output_type": "stream",
     "text": [
      "Logistic Regression Accuracy :  0.813\n"
     ]
    }
   ],
   "source": [
    "from sklearn import linear_model\n",
    "reg = linear_model.LogisticRegression()\n",
    "reg.fit(train_x,train_y)\n",
    "score = reg.score(test_x,test_y)\n",
    "print('Logistic Regression Accuracy : ',score)"
   ]
  },
  {
   "cell_type": "code",
   "execution_count": 24,
   "metadata": {},
   "outputs": [
    {
     "name": "stdout",
     "output_type": "stream",
     "text": [
      "             precision    recall  f1-score   support\n",
      "\n",
      "          0       0.99      0.81      0.89      1920\n",
      "          1       0.15      0.82      0.26        80\n",
      "\n",
      "avg / total       0.96      0.81      0.87      2000\n",
      "\n"
     ]
    }
   ],
   "source": [
    "from sklearn.metrics import classification_report\n",
    "print(classification_report(test_y,reg.predict(test_x)))"
   ]
  },
  {
   "cell_type": "code",
   "execution_count": 25,
   "metadata": {},
   "outputs": [
    {
     "name": "stdout",
     "output_type": "stream",
     "text": [
      "Logistic Regression used class weight  0.8295\n",
      "             precision    recall  f1-score   support\n",
      "\n",
      "          0       0.99      0.83      0.90      1920\n",
      "          1       0.17      0.81      0.28        80\n",
      "\n",
      "avg / total       0.96      0.83      0.88      2000\n",
      "\n"
     ]
    }
   ],
   "source": [
    "reg2 = linear_model.LogisticRegression(class_weight='balanced')\n",
    "reg2.fit(train_x,train_y)\n",
    "score2 = reg2.score(test_x,test_y)\n",
    "print('Logistic Regression used class weight ' ,score2)\n",
    "print(classification_report(test_y,reg2.predict(test_x)))"
   ]
  },
  {
   "cell_type": "code",
   "execution_count": 26,
   "metadata": {},
   "outputs": [
    {
     "name": "stdout",
     "output_type": "stream",
     "text": [
      "             precision    recall  f1-score   support\n",
      "\n",
      "          0       0.98      0.93      0.96      1920\n",
      "          1       0.27      0.61      0.37        80\n",
      "\n",
      "avg / total       0.95      0.92      0.93      2000\n",
      "\n",
      "ACCURACY: 0.9175\n"
     ]
    }
   ],
   "source": [
    "# fit model no training data\n",
    "model = XGBClassifier(learning_rate=0.2,max_depth=7,base_score=0.5,max_delta_step=0,n_estimators=100)\n",
    "\n",
    "pipe = Pipeline([['xg',MinMaxScaler(feature_range=(0,5))],['model',model]])\n",
    "pipe.fit(train_x,train_y)\n",
    "print(classification_report(test_y,pipe.predict(test_x)))\n",
    "print(\"ACCURACY:\",pipe.score(test_x,test_y))"
   ]
  },
  {
   "cell_type": "code",
   "execution_count": null,
   "metadata": {
    "collapsed": true
   },
   "outputs": [],
   "source": []
  },
  {
   "cell_type": "code",
   "execution_count": null,
   "metadata": {
    "collapsed": true
   },
   "outputs": [],
   "source": []
  }
 ],
 "metadata": {
  "anaconda-cloud": {},
  "kernelspec": {
   "display_name": "Python 3",
   "language": "python",
   "name": "python3"
  },
  "language_info": {
   "codemirror_mode": {
    "name": "ipython",
    "version": 3
   },
   "file_extension": ".py",
   "mimetype": "text/x-python",
   "name": "python",
   "nbconvert_exporter": "python",
   "pygments_lexer": "ipython3",
   "version": "3.6.1"
  }
 },
 "nbformat": 4,
 "nbformat_minor": 2
}
