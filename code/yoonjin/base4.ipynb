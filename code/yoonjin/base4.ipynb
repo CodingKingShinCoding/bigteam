{
 "cells": [
  {
   "cell_type": "markdown",
   "metadata": {},
   "source": [
    "#### smote + enn\n",
    "          precision    recall  f1-score   support\n",
    "\n",
    "          0       0.98      0.96      0.97      1920\n",
    "          1       0.35      0.51      0.41        80\n",
    "\n",
    "avg / total       0.95      0.94      0.95      2000\n",
    "\n",
    "ACCURACY: 0.942"
   ]
  },
  {
   "cell_type": "markdown",
   "metadata": {},
   "source": [
    "#### smote enn 결측치 2개 delete 했을 때\n",
    "\n",
    "          precision    recall  f1-score   support\n",
    "\n",
    "          0       0.98      0.95      0.96      1920\n",
    "          1       0.28      0.51      0.37        80\n",
    "\n",
    "avg / total       0.95      0.93      0.94      2000\n",
    "\n",
    "ACCURACY: 0.929"
   ]
  },
  {
   "cell_type": "markdown",
   "metadata": {},
   "source": [
    "#### ADASYN\n",
    "\n",
    "          precision    recall  f1-score   support\n",
    "\n",
    "          0       0.98      0.97      0.97      1920\n",
    "          1       0.38      0.46      0.42        80\n",
    "\n",
    "avg / total       0.95      0.95      0.95      2000\n",
    "\n",
    "ACCURACY: 0.9485\n"
   ]
  },
  {
   "cell_type": "markdown",
   "metadata": {},
   "source": [
    "#### Random oversampling\n",
    "             precision    recall  f1-score   support\n",
    "\n",
    "          0       0.98      0.94      0.96      1920\n",
    "          1       0.30      0.65      0.41        80\n",
    "\n",
    "avg / total       0.96      0.93      0.94      2000\n",
    "\n",
    "ACCURACY: 0.9265\n"
   ]
  },
  {
   "cell_type": "markdown",
   "metadata": {},
   "source": [
    "### 비식별처리 replace , fillna 해도 비식별처리로 인식됨"
   ]
  },
  {
   "cell_type": "code",
   "execution_count": 1,
   "metadata": {},
   "outputs": [
    {
     "name": "stderr",
     "output_type": "stream",
     "text": [
      "/home/rosa/miniconda3/envs/py36/lib/python3.6/site-packages/sklearn/cross_validation.py:41: DeprecationWarning: This module was deprecated in version 0.18 in favor of the model_selection module into which all the refactored classes and functions are moved. Also note that the interface of the new CV iterators are different from that of this module. This module will be removed in 0.20.\n",
      "  \"This module will be removed in 0.20.\", DeprecationWarning)\n"
     ]
    }
   ],
   "source": [
    "import pandas as pd\n",
    "import numpy as np\n",
    "import os\n",
    "from imblearn.combine import SMOTEENN\n",
    "import matplotlib.pyplot as plt\n",
    "from sklearn import preprocessing\n",
    "from sklearn import linear_model\n",
    "from sklearn.metrics import classification_report\n",
    "from numpy import loadtxt\n",
    "from xgboost import XGBClassifier\n",
    "from sklearn.model_selection import train_test_split\n",
    "from sklearn.metrics import accuracy_score\n",
    "from sklearn.pipeline import Pipeline\n",
    "from sklearn.preprocessing import StandardScaler, MinMaxScaler ,normalize\n",
    "from sklearn import preprocessing\n",
    "import seaborn as sns\n",
    "import matplotlib as mpl\n",
    "import matplotlib.pyplot as plt\n",
    "import matplotlib.pylab as pylabA\n",
    "import seaborn as sns\n",
    "\n"
   ]
  },
  {
   "cell_type": "code",
   "execution_count": 2,
   "metadata": {},
   "outputs": [
    {
     "data": {
      "text/plain": [
       "50    382\n",
       "45    374\n",
       "55    322\n",
       "40    309\n",
       "35    214\n",
       "60    191\n",
       "30     92\n",
       "65     68\n",
       "25     53\n",
       "70      5\n",
       "20      5\n",
       "*       4\n",
       "Name: AGE, dtype: int64"
      ]
     },
     "execution_count": 2,
     "metadata": {},
     "output_type": "execute_result"
    }
   ],
   "source": [
    "df = pd.read_csv('./Data_set.csv',encoding='cp949')\n",
    "df1 = pd.read_csv('./Test_set.csv',encoding='cp949')\n",
    "df1.AGE.value_counts(0)"
   ]
  },
  {
   "cell_type": "code",
   "execution_count": 3,
   "metadata": {},
   "outputs": [],
   "source": [
    "# df.info()"
   ]
  },
  {
   "cell_type": "code",
   "execution_count": 4,
   "metadata": {
    "scrolled": true
   },
   "outputs": [
    {
     "name": "stderr",
     "output_type": "stream",
     "text": [
      "/home/rosa/miniconda3/envs/py36/lib/python3.6/site-packages/ipykernel_launcher.py:4: FutureWarning: convert_objects is deprecated.  Use the data-type specific converters pd.to_datetime, pd.to_timedelta and pd.to_numeric.\n",
      "  after removing the cwd from sys.path.\n"
     ]
    }
   ],
   "source": [
    "df.AGE\n",
    "\n",
    "df.AGE = df.AGE.replace('*',46)\n",
    "df.AGE = pd.Series(df.AGE).convert_objects(convert_numeric=True)\n",
    "df.AGE = df.AGE.replace(0,df.AGE.mean())\n",
    "# df.AGE\n"
   ]
  },
  {
   "cell_type": "code",
   "execution_count": 5,
   "metadata": {},
   "outputs": [
    {
     "name": "stderr",
     "output_type": "stream",
     "text": [
      "/home/rosa/miniconda3/envs/py36/lib/python3.6/site-packages/ipykernel_launcher.py:3: FutureWarning: convert_objects is deprecated.  Use the data-type specific converters pd.to_datetime, pd.to_timedelta and pd.to_numeric.\n",
      "  This is separate from the ipykernel package so we can avoid doing imports until\n"
     ]
    }
   ],
   "source": [
    "df.SEX\n",
    "df.SEX = df.SEX.replace('*',1)\n",
    "df.SEX = pd.Series(df.SEX).convert_objects(convert_numeric=True)\n",
    "# df.SEX"
   ]
  },
  {
   "cell_type": "code",
   "execution_count": 6,
   "metadata": {
    "collapsed": true,
    "scrolled": true
   },
   "outputs": [],
   "source": [
    "df.TEL_CNTT_QTR = df.TEL_CNTT_QTR.astype(str)\n",
    "df.MIN_CNTT_DATE = df.MIN_CNTT_DATE.astype(str)"
   ]
  },
  {
   "cell_type": "code",
   "execution_count": 7,
   "metadata": {},
   "outputs": [],
   "source": [
    "#무조건\n",
    "del df['CUST_ID']\n",
    "# null\n",
    "del df['MATE_OCCP_NAME_G']\n",
    "del df['OCCP_NAME_G']\n",
    "del df['LAST_CHLD_AGE']\n",
    "del df['TEL_MBSP_GRAD']\n",
    "del df['PAYM_METD']\n"
   ]
  },
  {
   "cell_type": "code",
   "execution_count": 8,
   "metadata": {
    "collapsed": true
   },
   "outputs": [],
   "source": [
    "# #대출정보 총 건수 합치기\n",
    "\n",
    "\n",
    "# del df['ACTL_FMLY_NUM']\n",
    "# del df['CUST_FMLY_NUM']\n",
    "# del df['MATE_JOB_INCM']\n",
    "# del df['FMLY_GDINS_MNPREM']\n",
    "# del df['FMLY_SVINS_MNPREM']\n",
    "# del df['FMLY_TOT_PREM']\n",
    "# del df['FYCM_PAID_AMT']\n",
    "# del df['FMLY_CLAM_CNT']\n",
    "# del df['FMLY_PLPY_CNT']\n",
    "\n",
    "\n"
   ]
  },
  {
   "cell_type": "code",
   "execution_count": 9,
   "metadata": {},
   "outputs": [],
   "source": [
    "df = pd.get_dummies(df)\n"
   ]
  },
  {
   "cell_type": "code",
   "execution_count": 10,
   "metadata": {
    "collapsed": true
   },
   "outputs": [],
   "source": [
    "df_test = df[:2000]\n",
    "df_train = df[2000:]"
   ]
  },
  {
   "cell_type": "code",
   "execution_count": 11,
   "metadata": {
    "collapsed": true
   },
   "outputs": [],
   "source": [
    "x_data = df_train.drop('TARGET',axis=1)\n",
    "y_data = df_train.TARGET"
   ]
  },
  {
   "cell_type": "code",
   "execution_count": 12,
   "metadata": {},
   "outputs": [],
   "source": [
    "X = x_data\n",
    "y = y_data\n",
    "from imblearn.over_sampling import ADASYN \n",
    "from imblearn.over_sampling import RandomOverSampler\n",
    "from imblearn.under_sampling import CondensedNearestNeighbour \n",
    "\n",
    "# undersampling\n",
    "# cnn = CondensedNearestNeighbour(random_state=42) \n",
    "# X_resampled, y_resampled = cnn.fit_sample(X, y)\n",
    "\n",
    "#RANDOM \n",
    "# ros = RandomOverSampler(random_state=42)\n",
    "# X_resampled, y_resampled = ros.fit_sample(X, y)\n",
    "\n",
    "#ADASYN\n",
    "# ada = ADASYN(random_state=42,n_neighbors=3)\n",
    "# X_resampled, y_resampled = ada.fit_sample(X, y)\n",
    "\n",
    "# Apply SMOTE + ENN\n",
    "sm = SMOTEENN()\n",
    "X_resampled, y_resampled = sm.fit_sample(X, y)"
   ]
  },
  {
   "cell_type": "code",
   "execution_count": 13,
   "metadata": {},
   "outputs": [
    {
     "data": {
      "text/plain": [
       "CTCD_OCCR_MDIF         -0.174728\n",
       "CRDT_CARD_CNT          -0.173039\n",
       "BNK_LNIF_AMT           -0.088912\n",
       "BNK_LNIF_CNT           -0.087524\n",
       "LINE_STUS_U            -0.073696\n",
       "TOT_LNIF_AMT           -0.073059\n",
       "LT1Y_PEOD_RATE_0       -0.065758\n",
       "CBPT_MBSP_YN_Y         -0.047461\n",
       "MOBL_FATY_PRC          -0.043736\n",
       "MOBL_PRIN              -0.041667\n",
       "AGE                    -0.036190\n",
       "FMLY_PLPY_CNT          -0.033478\n",
       "TOT_CLIF_AMT           -0.025640\n",
       "CUST_FMLY_NUM          -0.012149\n",
       "HSHD_INFR_INCM         -0.011874\n",
       "AVG_CALL_FREQ          -0.011864\n",
       "TEL_CNTT_QTR_20161     -0.009623\n",
       "ACTL_FMLY_NUM          -0.008925\n",
       "TEL_CNTT_QTR_20143     -0.008758\n",
       "TEL_CNTT_QTR_20151     -0.008507\n",
       "TEL_CNTT_QTR_20074     -0.007881\n",
       "TEL_CNTT_QTR_20023     -0.007418\n",
       "TEL_CNTT_QTR_20162     -0.005991\n",
       "TEL_CNTT_QTR_20021     -0.005767\n",
       "TEL_CNTT_QTR_20001     -0.005702\n",
       "TEL_CNTT_QTR_19994     -0.005656\n",
       "TOT_PREM               -0.005327\n",
       "TEL_CNTT_QTR_20062     -0.005217\n",
       "TEL_CNTT_QTR_19983     -0.005079\n",
       "MIN_CNTT_DATE_201109   -0.004961\n",
       "                          ...   \n",
       "CB_GUIF_CNT             0.015309\n",
       "GDINS_MON_PREM          0.015766\n",
       "MAX_MON_PREM            0.016451\n",
       "LT1Y_PEOD_RATE_20미만     0.019331\n",
       "NUM_DAY_SUSP            0.020912\n",
       "LT1Y_SLOD_RATE          0.021099\n",
       "LT1Y_PEOD_RATE_40미만     0.021664\n",
       "LT1Y_PEOD_RATE_60미만     0.025010\n",
       "LT1Y_PEOD_RATE_30미만     0.026110\n",
       "TLFE_UNPD_CNT           0.026112\n",
       "ARPU                    0.027706\n",
       "LT1Y_PEOD_RATE_50미만     0.031095\n",
       "CNTT_LAMT_CNT           0.032143\n",
       "CPT_LNIF_AMT            0.034226\n",
       "CRDT_OCCR_MDIF          0.046114\n",
       "CBPT_MBSP_YN_N          0.047461\n",
       "LT1Y_CTLT_CNT           0.050665\n",
       "MON_TLFE_AMT            0.053171\n",
       "PREM_OVDU_RATE          0.055230\n",
       "LT1Y_PEOD_RATE_90미만     0.067469\n",
       "AUTR_FAIL_MCNT          0.070532\n",
       "LT1Y_PEOD_RATE_90이상     0.070631\n",
       "LINE_STUS_S             0.073696\n",
       "ECT_LNIF_CNT            0.112846\n",
       "CPT_LNIF_CNT            0.113944\n",
       "SPTCT_OCCR_MDIF         0.133714\n",
       "SPART_LNIF_CNT          0.157437\n",
       "CRMM_OVDU_AMT           0.203845\n",
       "LT1Y_MXOD_AMT           0.208866\n",
       "TARGET                  1.000000\n",
       "Length: 363, dtype: float64"
      ]
     },
     "execution_count": 13,
     "metadata": {},
     "output_type": "execute_result"
    }
   ],
   "source": [
    "df.corrwith(y_data).sort_values(ascending=True)"
   ]
  },
  {
   "cell_type": "code",
   "execution_count": 14,
   "metadata": {},
   "outputs": [],
   "source": [
    "df['CTCD_OCCR_MDIF']*=2\n",
    "df['CRDT_CARD_CNT']*=2\n",
    "df['BNK_LNIF_AMT']*=2\n",
    "df['BNK_LNIF_CNT']*=2\n",
    "df['LINE_STUS_U']*=2"
   ]
  },
  {
   "cell_type": "code",
   "execution_count": 15,
   "metadata": {},
   "outputs": [
    {
     "data": {
      "text/html": [
       "<div>\n",
       "<style>\n",
       "    .dataframe thead tr:only-child th {\n",
       "        text-align: right;\n",
       "    }\n",
       "\n",
       "    .dataframe thead th {\n",
       "        text-align: left;\n",
       "    }\n",
       "\n",
       "    .dataframe tbody tr th {\n",
       "        vertical-align: top;\n",
       "    }\n",
       "</style>\n",
       "<table border=\"1\" class=\"dataframe\">\n",
       "  <thead>\n",
       "    <tr style=\"text-align: right;\">\n",
       "      <th></th>\n",
       "      <th>0</th>\n",
       "      <th>1</th>\n",
       "      <th>2</th>\n",
       "      <th>3</th>\n",
       "      <th>4</th>\n",
       "      <th>5</th>\n",
       "      <th>6</th>\n",
       "      <th>7</th>\n",
       "      <th>8</th>\n",
       "      <th>9</th>\n",
       "      <th>...</th>\n",
       "      <th>353</th>\n",
       "      <th>354</th>\n",
       "      <th>355</th>\n",
       "      <th>356</th>\n",
       "      <th>357</th>\n",
       "      <th>358</th>\n",
       "      <th>359</th>\n",
       "      <th>360</th>\n",
       "      <th>361</th>\n",
       "      <th>TARGET</th>\n",
       "    </tr>\n",
       "  </thead>\n",
       "  <tbody>\n",
       "    <tr>\n",
       "      <th>0</th>\n",
       "      <td>0.0</td>\n",
       "      <td>0.0</td>\n",
       "      <td>1.0</td>\n",
       "      <td>1.0</td>\n",
       "      <td>48001.0</td>\n",
       "      <td>48001.0</td>\n",
       "      <td>0.0</td>\n",
       "      <td>0.0</td>\n",
       "      <td>1.0</td>\n",
       "      <td>1.0</td>\n",
       "      <td>...</td>\n",
       "      <td>0.0</td>\n",
       "      <td>0.0</td>\n",
       "      <td>0.0</td>\n",
       "      <td>0.0</td>\n",
       "      <td>0.0</td>\n",
       "      <td>0.0</td>\n",
       "      <td>0.0</td>\n",
       "      <td>0.0</td>\n",
       "      <td>1.0</td>\n",
       "      <td>0</td>\n",
       "    </tr>\n",
       "    <tr>\n",
       "      <th>1</th>\n",
       "      <td>2.0</td>\n",
       "      <td>0.0</td>\n",
       "      <td>0.0</td>\n",
       "      <td>0.0</td>\n",
       "      <td>48001.0</td>\n",
       "      <td>1.0</td>\n",
       "      <td>48001.0</td>\n",
       "      <td>0.0</td>\n",
       "      <td>13.0</td>\n",
       "      <td>0.0</td>\n",
       "      <td>...</td>\n",
       "      <td>0.0</td>\n",
       "      <td>0.0</td>\n",
       "      <td>0.0</td>\n",
       "      <td>0.0</td>\n",
       "      <td>0.0</td>\n",
       "      <td>0.0</td>\n",
       "      <td>0.0</td>\n",
       "      <td>0.0</td>\n",
       "      <td>1.0</td>\n",
       "      <td>0</td>\n",
       "    </tr>\n",
       "    <tr>\n",
       "      <th>2</th>\n",
       "      <td>1.0</td>\n",
       "      <td>0.0</td>\n",
       "      <td>0.0</td>\n",
       "      <td>0.0</td>\n",
       "      <td>9001.0</td>\n",
       "      <td>9001.0</td>\n",
       "      <td>9001.0</td>\n",
       "      <td>0.0</td>\n",
       "      <td>25.0</td>\n",
       "      <td>0.0</td>\n",
       "      <td>...</td>\n",
       "      <td>0.0</td>\n",
       "      <td>0.0</td>\n",
       "      <td>0.0</td>\n",
       "      <td>0.0</td>\n",
       "      <td>0.0</td>\n",
       "      <td>0.0</td>\n",
       "      <td>0.0</td>\n",
       "      <td>0.0</td>\n",
       "      <td>1.0</td>\n",
       "      <td>0</td>\n",
       "    </tr>\n",
       "    <tr>\n",
       "      <th>3</th>\n",
       "      <td>2.0</td>\n",
       "      <td>0.0</td>\n",
       "      <td>0.0</td>\n",
       "      <td>0.0</td>\n",
       "      <td>39001.0</td>\n",
       "      <td>39001.0</td>\n",
       "      <td>39001.0</td>\n",
       "      <td>0.0</td>\n",
       "      <td>1.0</td>\n",
       "      <td>0.0</td>\n",
       "      <td>...</td>\n",
       "      <td>0.0</td>\n",
       "      <td>0.0</td>\n",
       "      <td>0.0</td>\n",
       "      <td>0.0</td>\n",
       "      <td>0.0</td>\n",
       "      <td>0.0</td>\n",
       "      <td>0.0</td>\n",
       "      <td>0.0</td>\n",
       "      <td>1.0</td>\n",
       "      <td>0</td>\n",
       "    </tr>\n",
       "    <tr>\n",
       "      <th>4</th>\n",
       "      <td>0.0</td>\n",
       "      <td>0.0</td>\n",
       "      <td>0.0</td>\n",
       "      <td>1.0</td>\n",
       "      <td>132001.0</td>\n",
       "      <td>132001.0</td>\n",
       "      <td>0.0</td>\n",
       "      <td>0.0</td>\n",
       "      <td>1.0</td>\n",
       "      <td>0.0</td>\n",
       "      <td>...</td>\n",
       "      <td>0.0</td>\n",
       "      <td>0.0</td>\n",
       "      <td>0.0</td>\n",
       "      <td>0.0</td>\n",
       "      <td>0.0</td>\n",
       "      <td>0.0</td>\n",
       "      <td>0.0</td>\n",
       "      <td>0.0</td>\n",
       "      <td>1.0</td>\n",
       "      <td>0</td>\n",
       "    </tr>\n",
       "  </tbody>\n",
       "</table>\n",
       "<p>5 rows × 363 columns</p>\n",
       "</div>"
      ],
      "text/plain": [
       "     0    1    2    3         4         5        6    7     8    9   ...    \\\n",
       "0  0.0  0.0  1.0  1.0   48001.0   48001.0      0.0  0.0   1.0  1.0   ...     \n",
       "1  2.0  0.0  0.0  0.0   48001.0       1.0  48001.0  0.0  13.0  0.0   ...     \n",
       "2  1.0  0.0  0.0  0.0    9001.0    9001.0   9001.0  0.0  25.0  0.0   ...     \n",
       "3  2.0  0.0  0.0  0.0   39001.0   39001.0  39001.0  0.0   1.0  0.0   ...     \n",
       "4  0.0  0.0  0.0  1.0  132001.0  132001.0      0.0  0.0   1.0  0.0   ...     \n",
       "\n",
       "   353  354  355  356  357  358  359  360  361  TARGET  \n",
       "0  0.0  0.0  0.0  0.0  0.0  0.0  0.0  0.0  1.0       0  \n",
       "1  0.0  0.0  0.0  0.0  0.0  0.0  0.0  0.0  1.0       0  \n",
       "2  0.0  0.0  0.0  0.0  0.0  0.0  0.0  0.0  1.0       0  \n",
       "3  0.0  0.0  0.0  0.0  0.0  0.0  0.0  0.0  1.0       0  \n",
       "4  0.0  0.0  0.0  0.0  0.0  0.0  0.0  0.0  1.0       0  \n",
       "\n",
       "[5 rows x 363 columns]"
      ]
     },
     "execution_count": 15,
     "metadata": {},
     "output_type": "execute_result"
    }
   ],
   "source": [
    "df_1 = pd.DataFrame(X_resampled)\n",
    "df_2 = pd.DataFrame(y_resampled)\n",
    "df_2.columns = ['TARGET']\n",
    "df_final = pd.concat([df_1,df_2],axis=1)\n",
    "df_final.head()"
   ]
  },
  {
   "cell_type": "code",
   "execution_count": 16,
   "metadata": {},
   "outputs": [
    {
     "data": {
      "text/html": [
       "<div>\n",
       "<style>\n",
       "    .dataframe thead tr:only-child th {\n",
       "        text-align: right;\n",
       "    }\n",
       "\n",
       "    .dataframe thead th {\n",
       "        text-align: left;\n",
       "    }\n",
       "\n",
       "    .dataframe tbody tr th {\n",
       "        vertical-align: top;\n",
       "    }\n",
       "</style>\n",
       "<table border=\"1\" class=\"dataframe\">\n",
       "  <thead>\n",
       "    <tr style=\"text-align: right;\">\n",
       "      <th></th>\n",
       "      <th>0</th>\n",
       "      <th>1</th>\n",
       "      <th>2</th>\n",
       "      <th>3</th>\n",
       "      <th>4</th>\n",
       "      <th>5</th>\n",
       "      <th>6</th>\n",
       "      <th>7</th>\n",
       "      <th>8</th>\n",
       "      <th>9</th>\n",
       "      <th>...</th>\n",
       "      <th>353</th>\n",
       "      <th>354</th>\n",
       "      <th>355</th>\n",
       "      <th>356</th>\n",
       "      <th>357</th>\n",
       "      <th>358</th>\n",
       "      <th>359</th>\n",
       "      <th>360</th>\n",
       "      <th>361</th>\n",
       "      <th>TARGET</th>\n",
       "    </tr>\n",
       "  </thead>\n",
       "  <tbody>\n",
       "    <tr>\n",
       "      <th>113795</th>\n",
       "      <td>0.000000</td>\n",
       "      <td>0.000000</td>\n",
       "      <td>1.266764</td>\n",
       "      <td>1.266764</td>\n",
       "      <td>801.290628</td>\n",
       "      <td>801.290628</td>\n",
       "      <td>0.000000</td>\n",
       "      <td>0.000000</td>\n",
       "      <td>33.798837</td>\n",
       "      <td>49.804650</td>\n",
       "      <td>...</td>\n",
       "      <td>0.0</td>\n",
       "      <td>0.0</td>\n",
       "      <td>0.000000</td>\n",
       "      <td>0.0</td>\n",
       "      <td>0.0</td>\n",
       "      <td>0.0</td>\n",
       "      <td>0.0</td>\n",
       "      <td>0.0</td>\n",
       "      <td>1.0</td>\n",
       "      <td>1</td>\n",
       "    </tr>\n",
       "    <tr>\n",
       "      <th>146529</th>\n",
       "      <td>0.539619</td>\n",
       "      <td>2.460381</td>\n",
       "      <td>3.460381</td>\n",
       "      <td>1.000000</td>\n",
       "      <td>178427.269374</td>\n",
       "      <td>157427.269374</td>\n",
       "      <td>3238.251181</td>\n",
       "      <td>27669.009532</td>\n",
       "      <td>18.524577</td>\n",
       "      <td>24.049154</td>\n",
       "      <td>...</td>\n",
       "      <td>0.0</td>\n",
       "      <td>0.0</td>\n",
       "      <td>0.539619</td>\n",
       "      <td>0.0</td>\n",
       "      <td>0.0</td>\n",
       "      <td>0.0</td>\n",
       "      <td>0.0</td>\n",
       "      <td>0.0</td>\n",
       "      <td>1.0</td>\n",
       "      <td>1</td>\n",
       "    </tr>\n",
       "    <tr>\n",
       "      <th>33530</th>\n",
       "      <td>2.000000</td>\n",
       "      <td>0.000000</td>\n",
       "      <td>0.000000</td>\n",
       "      <td>0.000000</td>\n",
       "      <td>108001.000000</td>\n",
       "      <td>0.000000</td>\n",
       "      <td>108001.000000</td>\n",
       "      <td>0.000000</td>\n",
       "      <td>0.000000</td>\n",
       "      <td>0.000000</td>\n",
       "      <td>...</td>\n",
       "      <td>0.0</td>\n",
       "      <td>0.0</td>\n",
       "      <td>0.000000</td>\n",
       "      <td>0.0</td>\n",
       "      <td>0.0</td>\n",
       "      <td>0.0</td>\n",
       "      <td>0.0</td>\n",
       "      <td>0.0</td>\n",
       "      <td>1.0</td>\n",
       "      <td>0</td>\n",
       "    </tr>\n",
       "    <tr>\n",
       "      <th>116017</th>\n",
       "      <td>0.000000</td>\n",
       "      <td>0.284204</td>\n",
       "      <td>1.142102</td>\n",
       "      <td>0.857898</td>\n",
       "      <td>3427.306512</td>\n",
       "      <td>3427.306512</td>\n",
       "      <td>0.000000</td>\n",
       "      <td>852.755126</td>\n",
       "      <td>23.294774</td>\n",
       "      <td>23.294774</td>\n",
       "      <td>...</td>\n",
       "      <td>0.0</td>\n",
       "      <td>0.0</td>\n",
       "      <td>0.000000</td>\n",
       "      <td>0.0</td>\n",
       "      <td>0.0</td>\n",
       "      <td>0.0</td>\n",
       "      <td>0.0</td>\n",
       "      <td>0.0</td>\n",
       "      <td>1.0</td>\n",
       "      <td>1</td>\n",
       "    </tr>\n",
       "    <tr>\n",
       "      <th>87967</th>\n",
       "      <td>0.000000</td>\n",
       "      <td>1.091091</td>\n",
       "      <td>1.091091</td>\n",
       "      <td>0.000000</td>\n",
       "      <td>4640.646606</td>\n",
       "      <td>4367.372172</td>\n",
       "      <td>0.000000</td>\n",
       "      <td>4640.646606</td>\n",
       "      <td>78.441414</td>\n",
       "      <td>79.534511</td>\n",
       "      <td>...</td>\n",
       "      <td>0.0</td>\n",
       "      <td>0.0</td>\n",
       "      <td>0.000000</td>\n",
       "      <td>0.0</td>\n",
       "      <td>0.0</td>\n",
       "      <td>0.0</td>\n",
       "      <td>0.0</td>\n",
       "      <td>0.0</td>\n",
       "      <td>1.0</td>\n",
       "      <td>1</td>\n",
       "    </tr>\n",
       "  </tbody>\n",
       "</table>\n",
       "<p>5 rows × 363 columns</p>\n",
       "</div>"
      ],
      "text/plain": [
       "               0         1         2         3              4              5  \\\n",
       "113795  0.000000  0.000000  1.266764  1.266764     801.290628     801.290628   \n",
       "146529  0.539619  2.460381  3.460381  1.000000  178427.269374  157427.269374   \n",
       "33530   2.000000  0.000000  0.000000  0.000000  108001.000000       0.000000   \n",
       "116017  0.000000  0.284204  1.142102  0.857898    3427.306512    3427.306512   \n",
       "87967   0.000000  1.091091  1.091091  0.000000    4640.646606    4367.372172   \n",
       "\n",
       "                    6             7          8          9   ...    353  354  \\\n",
       "113795       0.000000      0.000000  33.798837  49.804650   ...    0.0  0.0   \n",
       "146529    3238.251181  27669.009532  18.524577  24.049154   ...    0.0  0.0   \n",
       "33530   108001.000000      0.000000   0.000000   0.000000   ...    0.0  0.0   \n",
       "116017       0.000000    852.755126  23.294774  23.294774   ...    0.0  0.0   \n",
       "87967        0.000000   4640.646606  78.441414  79.534511   ...    0.0  0.0   \n",
       "\n",
       "             355  356  357  358  359  360  361  TARGET  \n",
       "113795  0.000000  0.0  0.0  0.0  0.0  0.0  1.0       1  \n",
       "146529  0.539619  0.0  0.0  0.0  0.0  0.0  1.0       1  \n",
       "33530   0.000000  0.0  0.0  0.0  0.0  0.0  1.0       0  \n",
       "116017  0.000000  0.0  0.0  0.0  0.0  0.0  1.0       1  \n",
       "87967   0.000000  0.0  0.0  0.0  0.0  0.0  1.0       1  \n",
       "\n",
       "[5 rows x 363 columns]"
      ]
     },
     "execution_count": 16,
     "metadata": {},
     "output_type": "execute_result"
    }
   ],
   "source": [
    "df_final = df_final.sample(frac=1)\n",
    "df_final.head()"
   ]
  },
  {
   "cell_type": "code",
   "execution_count": 17,
   "metadata": {
    "collapsed": true
   },
   "outputs": [],
   "source": [
    "train_y = df_final.TARGET\n",
    "train_x = df_final.drop('TARGET',axis=1)"
   ]
  },
  {
   "cell_type": "code",
   "execution_count": 18,
   "metadata": {
    "collapsed": true
   },
   "outputs": [],
   "source": [
    "test_y = df_test.TARGET\n",
    "test_x = df_test.drop('TARGET',axis=1)"
   ]
  },
  {
   "cell_type": "code",
   "execution_count": 19,
   "metadata": {
    "collapsed": true
   },
   "outputs": [],
   "source": [
    "min_max_scaler = preprocessing.MinMaxScaler(feature_range=(0,5))\n",
    "train_x = min_max_scaler.fit_transform(train_x)\n",
    "test_x = min_max_scaler.fit_transform(test_x)"
   ]
  },
  {
   "cell_type": "code",
   "execution_count": 20,
   "metadata": {},
   "outputs": [
    {
     "name": "stdout",
     "output_type": "stream",
     "text": [
      "Logistic Regression Accuracy :  0.8255\n"
     ]
    }
   ],
   "source": [
    "from sklearn import linear_model\n",
    "reg = linear_model.LogisticRegression()\n",
    "reg.fit(train_x,train_y)\n",
    "score = reg.score(test_x,test_y)\n",
    "print('Logistic Regression Accuracy : ',score)"
   ]
  },
  {
   "cell_type": "code",
   "execution_count": null,
   "metadata": {},
   "outputs": [],
   "source": [
    "# from sklearn.metrics import classification_report\n",
    "# print(classification_report(test_y,reg.predict(test_x)))"
   ]
  },
  {
   "cell_type": "code",
   "execution_count": null,
   "metadata": {},
   "outputs": [],
   "source": [
    "# reg2 = linear_model.LogisticRegression(class_weight='balanced')\n",
    "# reg2.fit(train_x,train_y)\n",
    "# score2 = reg2.score(test_x,test_y)\n",
    "# print('Logistic Regression used class weight ' ,score2)\n",
    "# print(classification_report(test_y,reg2.predict(test_x)))"
   ]
  },
  {
   "cell_type": "code",
   "execution_count": 21,
   "metadata": {},
   "outputs": [
    {
     "name": "stdout",
     "output_type": "stream",
     "text": [
      "             precision    recall  f1-score   support\n",
      "\n",
      "          0       0.98      0.95      0.96      1920\n",
      "          1       0.30      0.53      0.38        80\n",
      "\n",
      "avg / total       0.95      0.93      0.94      2000\n",
      "\n",
      "ACCURACY: 0.9315\n"
     ]
    }
   ],
   "source": [
    "# fit model no training data\n",
    "model = XGBClassifier(learning_rate=0.2,max_depth=7,base_score=0.5,max_delta_step=0,n_estimators=100)\n",
    "\n",
    "pipe = Pipeline([['xg',MinMaxScaler(feature_range=(0,5))],['model',model]])\n",
    "pipe.fit(train_x,train_y)\n",
    "print(classification_report(test_y,pipe.predict(test_x)))\n",
    "print(\"ACCURACY:\",pipe.score(test_x,test_y))"
   ]
  },
  {
   "cell_type": "code",
   "execution_count": null,
   "metadata": {
    "collapsed": true
   },
   "outputs": [],
   "source": []
  },
  {
   "cell_type": "code",
   "execution_count": null,
   "metadata": {
    "collapsed": true
   },
   "outputs": [],
   "source": []
  }
 ],
 "metadata": {
  "anaconda-cloud": {},
  "kernelspec": {
   "display_name": "Python 3",
   "language": "python",
   "name": "python3"
  },
  "language_info": {
   "codemirror_mode": {
    "name": "ipython",
    "version": 3
   },
   "file_extension": ".py",
   "mimetype": "text/x-python",
   "name": "python",
   "nbconvert_exporter": "python",
   "pygments_lexer": "ipython3",
   "version": "3.6.1"
  }
 },
 "nbformat": 4,
 "nbformat_minor": 2
}
