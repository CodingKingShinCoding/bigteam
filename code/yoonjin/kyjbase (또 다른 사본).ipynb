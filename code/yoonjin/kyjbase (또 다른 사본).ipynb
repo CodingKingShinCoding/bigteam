{
 "cells": [
  {
   "cell_type": "markdown",
   "metadata": {},
   "source": [
    "#### smote + enn\n",
    "          precision    recall  f1-score   support\n",
    "\n",
    "          0       0.98      0.96      0.97      1920\n",
    "          1       0.35      0.51      0.41        80\n",
    "\n",
    "avg / total       0.95      0.94      0.95      2000\n",
    "\n",
    "ACCURACY: 0.942"
   ]
  },
  {
   "cell_type": "markdown",
   "metadata": {},
   "source": [
    "#### smote enn 결측치 2개 delete 했을 때\n",
    "\n",
    "          precision    recall  f1-score   support\n",
    "\n",
    "          0       0.98      0.95      0.96      1920\n",
    "          1       0.28      0.51      0.37        80\n",
    "\n",
    "avg / total       0.95      0.93      0.94      2000\n",
    "\n",
    "ACCURACY: 0.929"
   ]
  },
  {
   "cell_type": "markdown",
   "metadata": {},
   "source": [
    "#### ADASYN\n",
    "\n",
    "          precision    recall  f1-score   support\n",
    "\n",
    "          0       0.98      0.97      0.97      1920\n",
    "          1       0.38      0.46      0.42        80\n",
    "\n",
    "avg / total       0.95      0.95      0.95      2000\n",
    "\n",
    "ACCURACY: 0.9485\n"
   ]
  },
  {
   "cell_type": "markdown",
   "metadata": {},
   "source": [
    "#### Random oversampling\n",
    "             precision    recall  f1-score   support\n",
    "\n",
    "          0       0.98      0.94      0.96      1920\n",
    "          1       0.30      0.65      0.41        80\n",
    "\n",
    "avg / total       0.96      0.93      0.94      2000\n",
    "\n",
    "ACCURACY: 0.9265\n"
   ]
  },
  {
   "cell_type": "markdown",
   "metadata": {},
   "source": [
    "### 비식별처리 replace , fillna 해도 비식별처리로 인식됨"
   ]
  },
  {
   "cell_type": "code",
   "execution_count": 21,
   "metadata": {},
   "outputs": [],
   "source": [
    "import pandas as pd\n",
    "import numpy as np\n",
    "import os\n",
    "from imblearn.combine import SMOTEENN\n",
    "import matplotlib.pyplot as plt\n",
    "from sklearn import preprocessing\n",
    "from sklearn import linear_model\n",
    "from sklearn.metrics import classification_report\n",
    "from numpy import loadtxt\n",
    "from xgboost import XGBClassifier\n",
    "from sklearn.model_selection import train_test_split\n",
    "from sklearn.metrics import accuracy_score\n",
    "from sklearn.pipeline import Pipeline\n",
    "from sklearn.preprocessing import StandardScaler, MinMaxScaler ,normalize\n",
    "from sklearn import preprocessing\n",
    "import seaborn as sns\n",
    "import matplotlib as mpl\n",
    "import matplotlib.pyplot as plt\n",
    "import matplotlib.pylab as pylabA\n",
    "import seaborn as sns\n",
    "\n"
   ]
  },
  {
   "cell_type": "code",
   "execution_count": 22,
   "metadata": {
    "collapsed": true
   },
   "outputs": [],
   "source": [
    "df = pd.read_csv('./Data_set.csv',encoding='cp949')\n",
    "df1 = pd.read_csv('./Test_set.csv',encoding='cp949')\n",
    "# df1.AGE.value_counts(0)"
   ]
  },
  {
   "cell_type": "code",
   "execution_count": 23,
   "metadata": {
    "scrolled": true
   },
   "outputs": [
    {
     "name": "stderr",
     "output_type": "stream",
     "text": [
      "/home/rosa/miniconda3/envs/py36/lib/python3.6/site-packages/ipykernel_launcher.py:4: FutureWarning: convert_objects is deprecated.  Use the data-type specific converters pd.to_datetime, pd.to_timedelta and pd.to_numeric.\n",
      "  after removing the cwd from sys.path.\n"
     ]
    }
   ],
   "source": [
    "df.AGE\n",
    "\n",
    "df.AGE = df.AGE.replace('*',46)\n",
    "df.AGE = pd.Series(df.AGE).convert_objects(convert_numeric=True)\n",
    "df.AGE = df.AGE.replace(0,df.AGE.mean())\n",
    "# df.AGE\n"
   ]
  },
  {
   "cell_type": "code",
   "execution_count": 24,
   "metadata": {},
   "outputs": [
    {
     "name": "stderr",
     "output_type": "stream",
     "text": [
      "/home/rosa/miniconda3/envs/py36/lib/python3.6/site-packages/ipykernel_launcher.py:3: FutureWarning: convert_objects is deprecated.  Use the data-type specific converters pd.to_datetime, pd.to_timedelta and pd.to_numeric.\n",
      "  This is separate from the ipykernel package so we can avoid doing imports until\n"
     ]
    }
   ],
   "source": [
    "df.SEX\n",
    "#다음엔 성별을 *로 유지해보기\n",
    "# df.SEX = df.SEX.replace('*',1)\n",
    "df.SEX = pd.Series(df.SEX).convert_objects(convert_numeric=True)\n"
   ]
  },
  {
   "cell_type": "code",
   "execution_count": 25,
   "metadata": {
    "collapsed": true,
    "scrolled": true
   },
   "outputs": [],
   "source": [
    "df.TEL_CNTT_QTR = df.TEL_CNTT_QTR.astype(str)\n",
    "df.MIN_CNTT_DATE = df.MIN_CNTT_DATE.astype(str)"
   ]
  },
  {
   "cell_type": "code",
   "execution_count": 26,
   "metadata": {
    "collapsed": true
   },
   "outputs": [],
   "source": [
    "#null처리\n",
    "# df.PAYM_METD = df.PAYM_METD.fillna('O')\n",
    "df.TEL_MBSP_GRAD = df.TEL_MBSP_GRAD.fillna('R')\n",
    "df.MATE_OCCP_NAME_G = df.MATE_OCCP_NAME_G.fillna('주부')\n",
    "df.OCCP_NAME_G = df.OCCP_NAME_G.fillna('주부')\n",
    "df.LAST_CHLD_AGE = df.LAST_CHLD_AGE.fillna(df.LAST_CHLD_AGE.mean())"
   ]
  },
  {
   "cell_type": "code",
   "execution_count": 27,
   "metadata": {},
   "outputs": [],
   "source": [
    "#무조건\n",
    "del df['CUST_ID']\n",
    "# null\n",
    "# del df['MATE_OCCP_NAME_G']\n",
    "# del df['OCCP_NAME_G']\n",
    "# del df['LAST_CHLD_AGE']\n",
    "# del df['TEL_MBSP_GRAD']\n",
    "# del df['PAYM_METD']\n",
    "del df['PAYM_METD']\n",
    "del df['STRT_CRDT_GRAD']\n",
    "del df['FYCM_PAID_AMT']\n",
    "del df['FMLY_PLPY_CNT']\n",
    "del df['FMLY_CLAM_CNT']\n"
   ]
  },
  {
   "cell_type": "code",
   "execution_count": 28,
   "metadata": {
    "collapsed": true
   },
   "outputs": [],
   "source": [
    "df['total_cnt'] = df['SPART_LNIF_CNT']+df['ECT_LNIF_CNT']+df['BNK_LNIF_CNT']+df['CPT_LNIF_CNT']\n",
    "df['total_amt'] = df['TOT_LNIF_AMT']+df['TOT_CLIF_AMT']+df['BNK_LNIF_AMT']+df['CPT_LNIF_AMT']\n",
    "df['total_occr_mdif'] =df['CRDT_OCCR_CNT']+ df['CTCD_OCCR_MDIF']"
   ]
  },
  {
   "cell_type": "code",
   "execution_count": 29,
   "metadata": {
    "collapsed": true
   },
   "outputs": [],
   "source": [
    "del df['BNK_LNIF_CNT']\n",
    "del df['CPT_LNIF_CNT']\n",
    "del df['SPART_LNIF_CNT']\n",
    "del df['ECT_LNIF_CNT']\n",
    "\n",
    "del df['TOT_LNIF_AMT']\n",
    "del df['TOT_CLIF_AMT']\n",
    "del df['BNK_LNIF_AMT']\n",
    "del df['CPT_LNIF_AMT']\n",
    "\n",
    "del df['CRDT_CARD_CNT']\n",
    "del df['CTCD_OCCR_MDIF']"
   ]
  },
  {
   "cell_type": "code",
   "execution_count": 33,
   "metadata": {
    "collapsed": true
   },
   "outputs": [],
   "source": [
    "df = pd.get_dummies(df)\n"
   ]
  },
  {
   "cell_type": "code",
   "execution_count": 34,
   "metadata": {
    "collapsed": true
   },
   "outputs": [],
   "source": [
    "df_test = df[:2000]\n",
    "df_train = df[2000:]"
   ]
  },
  {
   "cell_type": "code",
   "execution_count": 35,
   "metadata": {
    "collapsed": true
   },
   "outputs": [],
   "source": [
    "x_data = df_train.drop('TARGET',axis=1)\n",
    "y_data = df_train.TARGET"
   ]
  },
  {
   "cell_type": "code",
   "execution_count": 36,
   "metadata": {
    "collapsed": true
   },
   "outputs": [],
   "source": [
    "X = x_data\n",
    "y = y_data"
   ]
  },
  {
   "cell_type": "code",
   "execution_count": 37,
   "metadata": {
    "scrolled": true
   },
   "outputs": [
    {
     "data": {
      "text/plain": [
       "total_occr_mdif             -0.178275\n",
       "total_amt                   -0.074545\n",
       "LINE_STUS_U                 -0.073696\n",
       "LT1Y_PEOD_RATE_0            -0.065758\n",
       "CBPT_MBSP_YN_Y              -0.047461\n",
       "MOBL_FATY_PRC               -0.043736\n",
       "MOBL_PRIN                   -0.041667\n",
       "AGE                         -0.036190\n",
       "LAST_CHLD_AGE               -0.022036\n",
       "TEL_MBSP_GRAD_E             -0.016049\n",
       "TEL_MBSP_GRAD_R             -0.013024\n",
       "CUST_FMLY_NUM               -0.012149\n",
       "HSHD_INFR_INCM              -0.011874\n",
       "AVG_CALL_FREQ               -0.011864\n",
       "TEL_CNTT_QTR_20161          -0.009623\n",
       "ACTL_FMLY_NUM               -0.008925\n",
       "TEL_CNTT_QTR_20143          -0.008758\n",
       "TEL_CNTT_QTR_20151          -0.008507\n",
       "OCCP_NAME_G_공무원             -0.008167\n",
       "TEL_CNTT_QTR_20074          -0.007881\n",
       "TEL_CNTT_QTR_20023          -0.007418\n",
       "MATE_OCCP_NAME_G_기타         -0.007298\n",
       "MATE_OCCP_NAME_G_1차산업 종사자   -0.006627\n",
       "TEL_CNTT_QTR_20162          -0.005991\n",
       "TEL_CNTT_QTR_20021          -0.005767\n",
       "TEL_CNTT_QTR_20001          -0.005702\n",
       "TEL_CNTT_QTR_19994          -0.005656\n",
       "MATE_OCCP_NAME_G_사무직        -0.005357\n",
       "TOT_PREM                    -0.005327\n",
       "TEL_CNTT_QTR_20062          -0.005217\n",
       "                               ...   \n",
       "MATE_OCCP_NAME_G_주부          0.012258\n",
       "LTST_CRDT_GRAD               0.013668\n",
       "CB_GUIF_CNT                  0.015309\n",
       "GDINS_MON_PREM               0.015766\n",
       "MAX_MON_PREM                 0.016451\n",
       "LT1Y_PEOD_RATE_20미만          0.019331\n",
       "NUM_DAY_SUSP                 0.020912\n",
       "LT1Y_SLOD_RATE               0.021099\n",
       "LT1Y_PEOD_RATE_40미만          0.021664\n",
       "TEL_MBSP_GRAD_W              0.023754\n",
       "LT1Y_PEOD_RATE_60미만          0.025010\n",
       "LT1Y_PEOD_RATE_30미만          0.026110\n",
       "TLFE_UNPD_CNT                0.026112\n",
       "ARPU                         0.027706\n",
       "LT1Y_PEOD_RATE_50미만          0.031095\n",
       "CNTT_LAMT_CNT                0.032143\n",
       "CRDT_OCCR_MDIF               0.046114\n",
       "CBPT_MBSP_YN_N               0.047461\n",
       "LT1Y_CTLT_CNT                0.050665\n",
       "MON_TLFE_AMT                 0.053171\n",
       "PREM_OVDU_RATE               0.055230\n",
       "LT1Y_PEOD_RATE_90미만          0.067469\n",
       "AUTR_FAIL_MCNT               0.070532\n",
       "LT1Y_PEOD_RATE_90이상          0.070631\n",
       "LINE_STUS_S                  0.073696\n",
       "total_cnt                    0.133507\n",
       "SPTCT_OCCR_MDIF              0.133714\n",
       "CRMM_OVDU_AMT                0.203845\n",
       "LT1Y_MXOD_AMT                0.208866\n",
       "TARGET                       1.000000\n",
       "Length: 391, dtype: float64"
      ]
     },
     "execution_count": 37,
     "metadata": {},
     "output_type": "execute_result"
    }
   ],
   "source": [
    "df.corrwith(y_data).sort_values(ascending=True)"
   ]
  },
  {
   "cell_type": "code",
   "execution_count": 39,
   "metadata": {},
   "outputs": [],
   "source": [
    "# df['PAYM_METD_G']*=2\n",
    "df['LT1Y_MXOD_AMT']*=2\n",
    "df['CRMM_OVDU_AMT']*=2\n",
    "df['total_occr_mdif']*=2\n",
    "df['SPTCT_OCCR_MDIF']*=2\n",
    "df['total_cnt']*=2"
   ]
  },
  {
   "cell_type": "code",
   "execution_count": 40,
   "metadata": {},
   "outputs": [],
   "source": [
    "# Apply SMOTE + ENN\n",
    "sm = SMOTEENN()\n",
    "X_resampled, y_resampled = sm.fit_sample(X, y)"
   ]
  },
  {
   "cell_type": "code",
   "execution_count": 41,
   "metadata": {},
   "outputs": [
    {
     "data": {
      "text/html": [
       "<div>\n",
       "<style>\n",
       "    .dataframe thead tr:only-child th {\n",
       "        text-align: right;\n",
       "    }\n",
       "\n",
       "    .dataframe thead th {\n",
       "        text-align: left;\n",
       "    }\n",
       "\n",
       "    .dataframe tbody tr th {\n",
       "        vertical-align: top;\n",
       "    }\n",
       "</style>\n",
       "<table border=\"1\" class=\"dataframe\">\n",
       "  <thead>\n",
       "    <tr style=\"text-align: right;\">\n",
       "      <th></th>\n",
       "      <th>0</th>\n",
       "      <th>1</th>\n",
       "      <th>2</th>\n",
       "      <th>3</th>\n",
       "      <th>4</th>\n",
       "      <th>5</th>\n",
       "      <th>6</th>\n",
       "      <th>7</th>\n",
       "      <th>8</th>\n",
       "      <th>9</th>\n",
       "      <th>...</th>\n",
       "      <th>381</th>\n",
       "      <th>382</th>\n",
       "      <th>383</th>\n",
       "      <th>384</th>\n",
       "      <th>385</th>\n",
       "      <th>386</th>\n",
       "      <th>387</th>\n",
       "      <th>388</th>\n",
       "      <th>389</th>\n",
       "      <th>TARGET</th>\n",
       "    </tr>\n",
       "  </thead>\n",
       "  <tbody>\n",
       "    <tr>\n",
       "      <th>0</th>\n",
       "      <td>1.0</td>\n",
       "      <td>1.0</td>\n",
       "      <td>0.0</td>\n",
       "      <td>0.0</td>\n",
       "      <td>4700.0</td>\n",
       "      <td>8800.0</td>\n",
       "      <td>4.0</td>\n",
       "      <td>1.0</td>\n",
       "      <td>19.0</td>\n",
       "      <td>4200.0</td>\n",
       "      <td>...</td>\n",
       "      <td>0.0</td>\n",
       "      <td>0.0</td>\n",
       "      <td>0.0</td>\n",
       "      <td>0.0</td>\n",
       "      <td>0.0</td>\n",
       "      <td>0.0</td>\n",
       "      <td>0.0</td>\n",
       "      <td>0.0</td>\n",
       "      <td>1.0</td>\n",
       "      <td>0</td>\n",
       "    </tr>\n",
       "    <tr>\n",
       "      <th>1</th>\n",
       "      <td>25.0</td>\n",
       "      <td>0.0</td>\n",
       "      <td>0.0</td>\n",
       "      <td>0.0</td>\n",
       "      <td>6000.0</td>\n",
       "      <td>7000.0</td>\n",
       "      <td>4.0</td>\n",
       "      <td>3.0</td>\n",
       "      <td>0.0</td>\n",
       "      <td>0.0</td>\n",
       "      <td>...</td>\n",
       "      <td>0.0</td>\n",
       "      <td>0.0</td>\n",
       "      <td>0.0</td>\n",
       "      <td>0.0</td>\n",
       "      <td>0.0</td>\n",
       "      <td>0.0</td>\n",
       "      <td>0.0</td>\n",
       "      <td>0.0</td>\n",
       "      <td>1.0</td>\n",
       "      <td>0</td>\n",
       "    </tr>\n",
       "    <tr>\n",
       "      <th>2</th>\n",
       "      <td>1.0</td>\n",
       "      <td>0.0</td>\n",
       "      <td>0.0</td>\n",
       "      <td>0.0</td>\n",
       "      <td>0.0</td>\n",
       "      <td>8900.0</td>\n",
       "      <td>2.0</td>\n",
       "      <td>1.0</td>\n",
       "      <td>0.0</td>\n",
       "      <td>0.0</td>\n",
       "      <td>...</td>\n",
       "      <td>0.0</td>\n",
       "      <td>0.0</td>\n",
       "      <td>0.0</td>\n",
       "      <td>0.0</td>\n",
       "      <td>0.0</td>\n",
       "      <td>0.0</td>\n",
       "      <td>0.0</td>\n",
       "      <td>0.0</td>\n",
       "      <td>1.0</td>\n",
       "      <td>0</td>\n",
       "    </tr>\n",
       "    <tr>\n",
       "      <th>3</th>\n",
       "      <td>1.0</td>\n",
       "      <td>0.0</td>\n",
       "      <td>0.0</td>\n",
       "      <td>0.0</td>\n",
       "      <td>5000.0</td>\n",
       "      <td>11700.0</td>\n",
       "      <td>3.0</td>\n",
       "      <td>1.0</td>\n",
       "      <td>19.0</td>\n",
       "      <td>6800.0</td>\n",
       "      <td>...</td>\n",
       "      <td>0.0</td>\n",
       "      <td>0.0</td>\n",
       "      <td>0.0</td>\n",
       "      <td>0.0</td>\n",
       "      <td>0.0</td>\n",
       "      <td>0.0</td>\n",
       "      <td>0.0</td>\n",
       "      <td>0.0</td>\n",
       "      <td>1.0</td>\n",
       "      <td>0</td>\n",
       "    </tr>\n",
       "    <tr>\n",
       "      <th>4</th>\n",
       "      <td>37.0</td>\n",
       "      <td>0.0</td>\n",
       "      <td>0.0</td>\n",
       "      <td>0.0</td>\n",
       "      <td>5800.0</td>\n",
       "      <td>10500.0</td>\n",
       "      <td>1.0</td>\n",
       "      <td>1.0</td>\n",
       "      <td>0.0</td>\n",
       "      <td>0.0</td>\n",
       "      <td>...</td>\n",
       "      <td>0.0</td>\n",
       "      <td>0.0</td>\n",
       "      <td>0.0</td>\n",
       "      <td>0.0</td>\n",
       "      <td>0.0</td>\n",
       "      <td>0.0</td>\n",
       "      <td>0.0</td>\n",
       "      <td>0.0</td>\n",
       "      <td>1.0</td>\n",
       "      <td>0</td>\n",
       "    </tr>\n",
       "  </tbody>\n",
       "</table>\n",
       "<p>5 rows × 391 columns</p>\n",
       "</div>"
      ],
      "text/plain": [
       "      0    1    2    3       4        5    6    7     8       9   ...    381  \\\n",
       "0   1.0  1.0  0.0  0.0  4700.0   8800.0  4.0  1.0  19.0  4200.0   ...    0.0   \n",
       "1  25.0  0.0  0.0  0.0  6000.0   7000.0  4.0  3.0   0.0     0.0   ...    0.0   \n",
       "2   1.0  0.0  0.0  0.0     0.0   8900.0  2.0  1.0   0.0     0.0   ...    0.0   \n",
       "3   1.0  0.0  0.0  0.0  5000.0  11700.0  3.0  1.0  19.0  6800.0   ...    0.0   \n",
       "4  37.0  0.0  0.0  0.0  5800.0  10500.0  1.0  1.0   0.0     0.0   ...    0.0   \n",
       "\n",
       "   382  383  384  385  386  387  388  389  TARGET  \n",
       "0  0.0  0.0  0.0  0.0  0.0  0.0  0.0  1.0       0  \n",
       "1  0.0  0.0  0.0  0.0  0.0  0.0  0.0  1.0       0  \n",
       "2  0.0  0.0  0.0  0.0  0.0  0.0  0.0  1.0       0  \n",
       "3  0.0  0.0  0.0  0.0  0.0  0.0  0.0  1.0       0  \n",
       "4  0.0  0.0  0.0  0.0  0.0  0.0  0.0  1.0       0  \n",
       "\n",
       "[5 rows x 391 columns]"
      ]
     },
     "execution_count": 41,
     "metadata": {},
     "output_type": "execute_result"
    }
   ],
   "source": [
    "df_1 = pd.DataFrame(X_resampled)\n",
    "df_2 = pd.DataFrame(y_resampled)\n",
    "df_2.columns = ['TARGET']\n",
    "df_final = pd.concat([df_1,df_2],axis=1)\n",
    "df_final.head()"
   ]
  },
  {
   "cell_type": "code",
   "execution_count": 42,
   "metadata": {},
   "outputs": [
    {
     "data": {
      "text/html": [
       "<div>\n",
       "<style>\n",
       "    .dataframe thead tr:only-child th {\n",
       "        text-align: right;\n",
       "    }\n",
       "\n",
       "    .dataframe thead th {\n",
       "        text-align: left;\n",
       "    }\n",
       "\n",
       "    .dataframe tbody tr th {\n",
       "        vertical-align: top;\n",
       "    }\n",
       "</style>\n",
       "<table border=\"1\" class=\"dataframe\">\n",
       "  <thead>\n",
       "    <tr style=\"text-align: right;\">\n",
       "      <th></th>\n",
       "      <th>0</th>\n",
       "      <th>1</th>\n",
       "      <th>2</th>\n",
       "      <th>3</th>\n",
       "      <th>4</th>\n",
       "      <th>5</th>\n",
       "      <th>6</th>\n",
       "      <th>7</th>\n",
       "      <th>8</th>\n",
       "      <th>9</th>\n",
       "      <th>...</th>\n",
       "      <th>381</th>\n",
       "      <th>382</th>\n",
       "      <th>383</th>\n",
       "      <th>384</th>\n",
       "      <th>385</th>\n",
       "      <th>386</th>\n",
       "      <th>387</th>\n",
       "      <th>388</th>\n",
       "      <th>389</th>\n",
       "      <th>TARGET</th>\n",
       "    </tr>\n",
       "  </thead>\n",
       "  <tbody>\n",
       "    <tr>\n",
       "      <th>28500</th>\n",
       "      <td>0.000000</td>\n",
       "      <td>0.000000</td>\n",
       "      <td>0.000000</td>\n",
       "      <td>0.000000</td>\n",
       "      <td>0.000000</td>\n",
       "      <td>8300.000000</td>\n",
       "      <td>4.000000</td>\n",
       "      <td>2.0</td>\n",
       "      <td>24.000000</td>\n",
       "      <td>5400.000000</td>\n",
       "      <td>...</td>\n",
       "      <td>0.0</td>\n",
       "      <td>0.0</td>\n",
       "      <td>0.0</td>\n",
       "      <td>0.0</td>\n",
       "      <td>0.0</td>\n",
       "      <td>0.000000</td>\n",
       "      <td>0.0</td>\n",
       "      <td>0.0</td>\n",
       "      <td>1.0</td>\n",
       "      <td>0</td>\n",
       "    </tr>\n",
       "    <tr>\n",
       "      <th>107117</th>\n",
       "      <td>18.648382</td>\n",
       "      <td>17.415845</td>\n",
       "      <td>0.529301</td>\n",
       "      <td>20643.286755</td>\n",
       "      <td>2259.352929</td>\n",
       "      <td>8199.437513</td>\n",
       "      <td>2.587904</td>\n",
       "      <td>1.0</td>\n",
       "      <td>12.703235</td>\n",
       "      <td>2858.227955</td>\n",
       "      <td>...</td>\n",
       "      <td>0.0</td>\n",
       "      <td>0.0</td>\n",
       "      <td>0.0</td>\n",
       "      <td>0.0</td>\n",
       "      <td>0.0</td>\n",
       "      <td>0.470699</td>\n",
       "      <td>0.0</td>\n",
       "      <td>0.0</td>\n",
       "      <td>1.0</td>\n",
       "      <td>1</td>\n",
       "    </tr>\n",
       "    <tr>\n",
       "      <th>10130</th>\n",
       "      <td>97.000000</td>\n",
       "      <td>0.000000</td>\n",
       "      <td>0.000000</td>\n",
       "      <td>0.000000</td>\n",
       "      <td>0.000000</td>\n",
       "      <td>5500.000000</td>\n",
       "      <td>3.000000</td>\n",
       "      <td>2.0</td>\n",
       "      <td>44.000000</td>\n",
       "      <td>5200.000000</td>\n",
       "      <td>...</td>\n",
       "      <td>0.0</td>\n",
       "      <td>0.0</td>\n",
       "      <td>0.0</td>\n",
       "      <td>0.0</td>\n",
       "      <td>0.0</td>\n",
       "      <td>0.000000</td>\n",
       "      <td>0.0</td>\n",
       "      <td>0.0</td>\n",
       "      <td>1.0</td>\n",
       "      <td>0</td>\n",
       "    </tr>\n",
       "    <tr>\n",
       "      <th>74813</th>\n",
       "      <td>49.000000</td>\n",
       "      <td>61.000000</td>\n",
       "      <td>0.000000</td>\n",
       "      <td>0.000000</td>\n",
       "      <td>3300.000000</td>\n",
       "      <td>3300.000000</td>\n",
       "      <td>4.000000</td>\n",
       "      <td>1.0</td>\n",
       "      <td>24.000000</td>\n",
       "      <td>0.000000</td>\n",
       "      <td>...</td>\n",
       "      <td>0.0</td>\n",
       "      <td>0.0</td>\n",
       "      <td>0.0</td>\n",
       "      <td>0.0</td>\n",
       "      <td>0.0</td>\n",
       "      <td>0.000000</td>\n",
       "      <td>0.0</td>\n",
       "      <td>0.0</td>\n",
       "      <td>1.0</td>\n",
       "      <td>1</td>\n",
       "    </tr>\n",
       "    <tr>\n",
       "      <th>111433</th>\n",
       "      <td>1.000000</td>\n",
       "      <td>37.000000</td>\n",
       "      <td>0.012277</td>\n",
       "      <td>0.012277</td>\n",
       "      <td>0.000000</td>\n",
       "      <td>104.356242</td>\n",
       "      <td>1.012277</td>\n",
       "      <td>1.0</td>\n",
       "      <td>0.049109</td>\n",
       "      <td>0.000000</td>\n",
       "      <td>...</td>\n",
       "      <td>0.0</td>\n",
       "      <td>0.0</td>\n",
       "      <td>0.0</td>\n",
       "      <td>0.0</td>\n",
       "      <td>0.0</td>\n",
       "      <td>0.000000</td>\n",
       "      <td>0.0</td>\n",
       "      <td>0.0</td>\n",
       "      <td>1.0</td>\n",
       "      <td>1</td>\n",
       "    </tr>\n",
       "  </tbody>\n",
       "</table>\n",
       "<p>5 rows × 391 columns</p>\n",
       "</div>"
      ],
      "text/plain": [
       "                0          1         2             3            4  \\\n",
       "28500    0.000000   0.000000  0.000000      0.000000     0.000000   \n",
       "107117  18.648382  17.415845  0.529301  20643.286755  2259.352929   \n",
       "10130   97.000000   0.000000  0.000000      0.000000     0.000000   \n",
       "74813   49.000000  61.000000  0.000000      0.000000  3300.000000   \n",
       "111433   1.000000  37.000000  0.012277      0.012277     0.000000   \n",
       "\n",
       "                  5         6    7          8            9   ...    381  382  \\\n",
       "28500   8300.000000  4.000000  2.0  24.000000  5400.000000   ...    0.0  0.0   \n",
       "107117  8199.437513  2.587904  1.0  12.703235  2858.227955   ...    0.0  0.0   \n",
       "10130   5500.000000  3.000000  2.0  44.000000  5200.000000   ...    0.0  0.0   \n",
       "74813   3300.000000  4.000000  1.0  24.000000     0.000000   ...    0.0  0.0   \n",
       "111433   104.356242  1.012277  1.0   0.049109     0.000000   ...    0.0  0.0   \n",
       "\n",
       "        383  384  385       386  387  388  389  TARGET  \n",
       "28500   0.0  0.0  0.0  0.000000  0.0  0.0  1.0       0  \n",
       "107117  0.0  0.0  0.0  0.470699  0.0  0.0  1.0       1  \n",
       "10130   0.0  0.0  0.0  0.000000  0.0  0.0  1.0       0  \n",
       "74813   0.0  0.0  0.0  0.000000  0.0  0.0  1.0       1  \n",
       "111433  0.0  0.0  0.0  0.000000  0.0  0.0  1.0       1  \n",
       "\n",
       "[5 rows x 391 columns]"
      ]
     },
     "execution_count": 42,
     "metadata": {},
     "output_type": "execute_result"
    }
   ],
   "source": [
    "df_final = df_final.sample(frac=1)\n",
    "df_final.head()"
   ]
  },
  {
   "cell_type": "code",
   "execution_count": 43,
   "metadata": {
    "collapsed": true
   },
   "outputs": [],
   "source": [
    "train_y = df_final.TARGET\n",
    "train_x = df_final.drop('TARGET',axis=1)"
   ]
  },
  {
   "cell_type": "code",
   "execution_count": 44,
   "metadata": {
    "collapsed": true
   },
   "outputs": [],
   "source": [
    "test_y = df_test.TARGET\n",
    "test_x = df_test.drop('TARGET',axis=1)"
   ]
  },
  {
   "cell_type": "code",
   "execution_count": 45,
   "metadata": {
    "collapsed": true
   },
   "outputs": [],
   "source": [
    "min_max_scaler = preprocessing.MinMaxScaler(feature_range=(0,5))\n",
    "train_x = min_max_scaler.fit_transform(train_x)\n",
    "test_x = min_max_scaler.fit_transform(test_x)"
   ]
  },
  {
   "cell_type": "code",
   "execution_count": 46,
   "metadata": {},
   "outputs": [
    {
     "name": "stdout",
     "output_type": "stream",
     "text": [
      "Logistic Regression Accuracy :  0.7845\n"
     ]
    }
   ],
   "source": [
    "from sklearn import linear_model\n",
    "reg = linear_model.LogisticRegression()\n",
    "reg.fit(train_x,train_y)\n",
    "score = reg.score(test_x,test_y)\n",
    "print('Logistic Regression Accuracy : ',score)"
   ]
  },
  {
   "cell_type": "code",
   "execution_count": 47,
   "metadata": {},
   "outputs": [
    {
     "name": "stdout",
     "output_type": "stream",
     "text": [
      "             precision    recall  f1-score   support\n",
      "\n",
      "          0       0.99      0.78      0.87      1920\n",
      "          1       0.13      0.79      0.23        80\n",
      "\n",
      "avg / total       0.95      0.78      0.85      2000\n",
      "\n"
     ]
    }
   ],
   "source": [
    "from sklearn.metrics import classification_report\n",
    "print(classification_report(test_y,reg.predict(test_x)))"
   ]
  },
  {
   "cell_type": "code",
   "execution_count": 48,
   "metadata": {},
   "outputs": [
    {
     "name": "stdout",
     "output_type": "stream",
     "text": [
      "Logistic Regression used class weight  0.807\n",
      "             precision    recall  f1-score   support\n",
      "\n",
      "          0       0.99      0.81      0.89      1920\n",
      "          1       0.14      0.78      0.24        80\n",
      "\n",
      "avg / total       0.95      0.81      0.86      2000\n",
      "\n"
     ]
    }
   ],
   "source": [
    "reg2 = linear_model.LogisticRegression(class_weight='balanced')\n",
    "reg2.fit(train_x,train_y)\n",
    "score2 = reg2.score(test_x,test_y)\n",
    "print('Logistic Regression used class weight ' ,score2)\n",
    "print(classification_report(test_y,reg2.predict(test_x)))"
   ]
  },
  {
   "cell_type": "code",
   "execution_count": 49,
   "metadata": {},
   "outputs": [
    {
     "name": "stdout",
     "output_type": "stream",
     "text": [
      "             precision    recall  f1-score   support\n",
      "\n",
      "          0       0.98      0.88      0.93      1920\n",
      "          1       0.17      0.56      0.26        80\n",
      "\n",
      "avg / total       0.95      0.87      0.90      2000\n",
      "\n",
      "ACCURACY: 0.872\n"
     ]
    }
   ],
   "source": [
    "# fit model no training data\n",
    "model = XGBClassifier(learning_rate=0.2,max_depth=7,base_score=0.5,max_delta_step=0,n_estimators=100)\n",
    "\n",
    "pipe = Pipeline([['xg',MinMaxScaler(feature_range=(0,5))],['model',model]])\n",
    "pipe.fit(train_x,train_y)\n",
    "print(classification_report(test_y,pipe.predict(test_x)))\n",
    "print(\"ACCURACY:\",pipe.score(test_x,test_y))"
   ]
  },
  {
   "cell_type": "code",
   "execution_count": null,
   "metadata": {
    "collapsed": true
   },
   "outputs": [],
   "source": []
  },
  {
   "cell_type": "code",
   "execution_count": null,
   "metadata": {
    "collapsed": true
   },
   "outputs": [],
   "source": []
  }
 ],
 "metadata": {
  "anaconda-cloud": {},
  "kernelspec": {
   "display_name": "Python 3",
   "language": "python",
   "name": "python3"
  },
  "language_info": {
   "codemirror_mode": {
    "name": "ipython",
    "version": 3
   },
   "file_extension": ".py",
   "mimetype": "text/x-python",
   "name": "python",
   "nbconvert_exporter": "python",
   "pygments_lexer": "ipython3",
   "version": "3.6.1"
  }
 },
 "nbformat": 4,
 "nbformat_minor": 2
}
