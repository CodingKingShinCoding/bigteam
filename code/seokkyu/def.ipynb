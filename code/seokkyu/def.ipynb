{
 "cells": [
  {
   "cell_type": "code",
   "execution_count": null,
   "metadata": {
    "collapsed": true
   },
   "outputs": [],
   "source": [
    "def MATE_OCCP_NAME_G(columns):\n",
    "    columns = columns.fillna(\"주부\")\n",
    "    star_index = df[columns==\"*\"].index.tolist()\n",
    "    star_data = df.MATE_JOB_INCM.loc[star_index]\n",
    "    zero_index = star_data[star_data==0].index.tolist()\n",
    "    columns.loc[zero_index] = \"주부\"\n",
    "    non_zero = star_data[star_data != 0]\n",
    "    high_index = non_zero[non_zero >= 4500].index.tolist()\n",
    "    low_index = non_zero[non_zero < 4500].index.tolist()\n",
    "    columns.loc[high_index] = \"고소득 전문직\"\n",
    "    columns.loc[low_index] = \"2차산업 종사자\"\n",
    "    return columns.value_counts(), columns\n",
    "MATE_OCCP_NAME_G(df.MATE_OCCP_NAME_G)"
   ]
  },
  {
   "cell_type": "code",
   "execution_count": null,
   "metadata": {
    "collapsed": true
   },
   "outputs": [],
   "source": [
    "def OCCP_NAME_G(columns):\n",
    "    columns = columns.fillna(\"주부\")\n",
    "    star_index = df[columns==\"*\"].index.tolist()\n",
    "    star_data = df.CUST_JOB_INCM.loc[star_index]\n",
    "    zero_index = star_data[star_data==0].index.tolist()\n",
    "    columns[zero_index] = \"주부\"\n",
    "    high_index = star_data[star_data >= 4700].index.tolist()\n",
    "    low_index = star_data[star_data < 4700].index.tolist()\n",
    "    columns.loc[high_index] = \"고소득 전문직\"\n",
    "    columns.loc[low_index] = \"단순 사무직\"\n",
    "    return columns.value_counts(), columns\n",
    "OCCP_NAME_G(df.OCCP_NAME_G)"
   ]
  }
 ],
 "metadata": {
  "kernelspec": {
   "display_name": "Python 3",
   "language": "python",
   "name": "python3"
  },
  "language_info": {
   "codemirror_mode": {
    "name": "ipython",
    "version": 3
   },
   "file_extension": ".py",
   "mimetype": "text/x-python",
   "name": "python",
   "nbconvert_exporter": "python",
   "pygments_lexer": "ipython3",
   "version": "3.5.2"
  }
 },
 "nbformat": 4,
 "nbformat_minor": 2
}
