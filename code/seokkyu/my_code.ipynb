{
 "cells": [
  {
   "cell_type": "markdown",
   "metadata": {},
   "source": [
    "#### smote + enn\n",
    "          precision    recall  f1-score   support\n",
    "\n",
    "          0       0.98      0.96      0.97      1920\n",
    "          1       0.35      0.51      0.41        80\n",
    "\n",
    "avg / total       0.95      0.94      0.95      2000\n",
    "\n",
    "ACCURACY: 0.942"
   ]
  },
  {
   "cell_type": "markdown",
   "metadata": {},
   "source": [
    "#### smote enn 결측치 2개 delete 했을 때\n",
    "\n",
    "          precision    recall  f1-score   support\n",
    "\n",
    "          0       0.98      0.95      0.96      1920\n",
    "          1       0.28      0.51      0.37        80\n",
    "\n",
    "avg / total       0.95      0.93      0.94      2000\n",
    "\n",
    "ACCURACY: 0.929"
   ]
  },
  {
   "cell_type": "markdown",
   "metadata": {},
   "source": [
    "#### ADASYN\n",
    "\n",
    "          precision    recall  f1-score   support\n",
    "\n",
    "          0       0.98      0.97      0.97      1920\n",
    "          1       0.38      0.46      0.42        80\n",
    "\n",
    "avg / total       0.95      0.95      0.95      2000\n",
    "\n",
    "ACCURACY: 0.9485\n"
   ]
  },
  {
   "cell_type": "markdown",
   "metadata": {},
   "source": [
    "#### Random oversampling\n",
    "             precision    recall  f1-score   support\n",
    "\n",
    "          0       0.98      0.94      0.96      1920\n",
    "          1       0.30      0.65      0.41        80\n",
    "\n",
    "avg / total       0.96      0.93      0.94      2000\n",
    "\n",
    "ACCURACY: 0.9265\n"
   ]
  },
  {
   "cell_type": "markdown",
   "metadata": {},
   "source": [
    "### 비식별처리 replace , fillna 해도 비식별처리로 인식됨"
   ]
  },
  {
   "cell_type": "code",
   "execution_count": 2,
   "metadata": {},
   "outputs": [
    {
     "name": "stderr",
     "output_type": "stream",
     "text": [
      "/usr/local/lib/python3.5/dist-packages/sklearn/cross_validation.py:41: DeprecationWarning: This module was deprecated in version 0.18 in favor of the model_selection module into which all the refactored classes and functions are moved. Also note that the interface of the new CV iterators are different from that of this module. This module will be removed in 0.20.\n",
      "  \"This module will be removed in 0.20.\", DeprecationWarning)\n"
     ]
    }
   ],
   "source": [
    "import pandas as pd\n",
    "import numpy as np\n",
    "import os\n",
    "# from imblearn.combine import SMOTEENN\n",
    "\n",
    "import matplotlib.pyplot as plt\n",
    "from sklearn import preprocessing\n",
    "from sklearn import linear_model\n",
    "from sklearn.metrics import classification_report\n",
    "from numpy import loadtxt\n",
    "from xgboost import XGBClassifier\n",
    "from sklearn.model_selection import train_test_split\n",
    "from sklearn.metrics import accuracy_score\n",
    "from sklearn.pipeline import Pipeline\n",
    "from sklearn.preprocessing import StandardScaler, MinMaxScaler ,normalize\n",
    "from sklearn import preprocessing\n",
    "import seaborn as sns\n",
    "import matplotlib as mpl\n",
    "import matplotlib.pyplot as plt\n",
    "import matplotlib.pylab as pylab\n",
    "import seaborn as sns\n",
    "%matplotlib inline\n",
    "mpl.style.use( 'ggplot' )\n",
    "sns.set_style( 'white' )\n",
    "pylab.rcParams[ 'figure.figsize' ] = 8 , 6\n"
   ]
  },
  {
   "cell_type": "code",
   "execution_count": 4,
   "metadata": {},
   "outputs": [
    {
     "data": {
      "text/plain": [
       "50    382\n",
       "45    374\n",
       "55    322\n",
       "40    309\n",
       "35    214\n",
       "60    191\n",
       "30     92\n",
       "65     68\n",
       "25     53\n",
       "70      5\n",
       "20      5\n",
       "*       4\n",
       "Name: AGE, dtype: int64"
      ]
     },
     "execution_count": 4,
     "metadata": {},
     "output_type": "execute_result"
    }
   ],
   "source": [
    "df = pd.read_csv('../../data/Data_set.csv',encoding='cp949')\n",
    "df1 = pd.read_csv('../../data/Test_set.csv',encoding='cp949')\n",
    "df1.AGE.value_counts()"
   ]
  },
  {
   "cell_type": "code",
   "execution_count": 3,
   "metadata": {
    "collapsed": true
   },
   "outputs": [],
   "source": [
    "# df1.SEX.value_counts(0)\n",
    "# df.TARGET.value_counts()\n"
   ]
  },
  {
   "cell_type": "code",
   "execution_count": 4,
   "metadata": {
    "collapsed": true
   },
   "outputs": [],
   "source": [
    "# def plot_correlation_map( df ):\n",
    "#     corr = df.corr()\n",
    "#     _ , ax = plt.subplots( figsize =( 48 , 40 ) )\n",
    "#     cmap = sns.diverging_palette( 220 , 10 , as_cmap = True )\n",
    "#     _ = sns.heatmap(\n",
    "#         corr, \n",
    "#         cmap = cmap,\n",
    "#         square=True, \n",
    "#         cbar_kws={ 'shrink' : .9 }, \n",
    "#         ax=ax, \n",
    "#         annot = True, \n",
    "#         annot_kws = { 'fontsize' : 15 }\n",
    "#     )"
   ]
  },
  {
   "cell_type": "code",
   "execution_count": 5,
   "metadata": {
    "collapsed": true,
    "scrolled": false
   },
   "outputs": [],
   "source": [
    "# plot_correlation_map( df )"
   ]
  },
  {
   "cell_type": "code",
   "execution_count": 6,
   "metadata": {
    "collapsed": true
   },
   "outputs": [],
   "source": [
    "# df.info()"
   ]
  },
  {
   "cell_type": "code",
   "execution_count": 7,
   "metadata": {
    "scrolled": true
   },
   "outputs": [
    {
     "data": {
      "text/plain": [
       "CUST_ID                  0\n",
       "TARGET                   0\n",
       "BNK_LNIF_CNT             0\n",
       "CPT_LNIF_CNT             0\n",
       "SPART_LNIF_CNT           0\n",
       "ECT_LNIF_CNT             0\n",
       "TOT_LNIF_AMT             0\n",
       "TOT_CLIF_AMT             0\n",
       "BNK_LNIF_AMT             0\n",
       "CPT_LNIF_AMT             0\n",
       "CRDT_OCCR_MDIF           0\n",
       "SPTCT_OCCR_MDIF          0\n",
       "CRDT_CARD_CNT            0\n",
       "CTCD_OCCR_MDIF           0\n",
       "CB_GUIF_CNT              0\n",
       "CB_GUIF_AMT              0\n",
       "OCCP_NAME_G            464\n",
       "CUST_JOB_INCM            0\n",
       "HSHD_INFR_INCM           0\n",
       "ACTL_FMLY_NUM            0\n",
       "CUST_FMLY_NUM            0\n",
       "LAST_CHLD_AGE         1027\n",
       "MATE_OCCP_NAME_G     45709\n",
       "MATE_JOB_INCM            0\n",
       "CRDT_LOAN_CNT            0\n",
       "MIN_CNTT_DATE            0\n",
       "TOT_CRLN_AMT             0\n",
       "TOT_REPY_AMT             0\n",
       "CRLN_OVDU_RATE           0\n",
       "CRLN_30OVDU_RATE         0\n",
       "                     ...  \n",
       "GDINS_MON_PREM           0\n",
       "SVINS_MON_PREM           0\n",
       "FMLY_GDINS_MNPREM        0\n",
       "FMLY_SVINS_MNPREM        0\n",
       "MAX_MON_PREM             0\n",
       "TOT_PREM                 0\n",
       "FMLY_TOT_PREM            0\n",
       "CNTT_LAMT_CNT            0\n",
       "LT1Y_CTLT_CNT            0\n",
       "AUTR_FAIL_MCNT           0\n",
       "FYCM_PAID_AMT            0\n",
       "FMLY_CLAM_CNT            0\n",
       "FMLY_PLPY_CNT            0\n",
       "AGE                      0\n",
       "SEX                      0\n",
       "AVG_CALL_TIME            0\n",
       "AVG_CALL_FREQ            0\n",
       "TEL_MBSP_GRAD        46015\n",
       "ARPU                     0\n",
       "MON_TLFE_AMT             0\n",
       "CBPT_MBSP_YN             0\n",
       "MOBL_FATY_PRC            0\n",
       "TEL_CNTT_QTR             0\n",
       "NUM_DAY_SUSP             0\n",
       "CRMM_OVDU_AMT            0\n",
       "TLFE_UNPD_CNT            0\n",
       "LT1Y_MXOD_AMT            0\n",
       "PAYM_METD             2833\n",
       "LINE_STUS                0\n",
       "MOBL_PRIN                0\n",
       "Length: 69, dtype: int64"
      ]
     },
     "execution_count": 7,
     "metadata": {},
     "output_type": "execute_result"
    }
   ],
   "source": [
    "df.isnull().sum()"
   ]
  },
  {
   "cell_type": "markdown",
   "metadata": {},
   "source": [
    "## MATE_OCCP_NAME_G * 제거"
   ]
  },
  {
   "cell_type": "code",
   "execution_count": 15,
   "metadata": {},
   "outputs": [
    {
     "name": "stdout",
     "output_type": "stream",
     "text": [
      "주부          57808\n",
      "사무직         10053\n",
      "2차산업 종사자     8320\n",
      "자영업          6380\n",
      "3차산업 종사자     4011\n",
      "운전직          2887\n",
      "공무원          2400\n",
      "전문직          2105\n",
      "1차산업 종사자     1411\n",
      "단순 사무직       1316\n",
      "고소득 전문직       958\n",
      "기업/단체 임원      931\n",
      "단순 노무직        549\n",
      "기타            534\n",
      "예체능계 종사자      461\n",
      "학생            109\n",
      "Name: MATE_OCCP_NAME_G, dtype: int64\n"
     ]
    },
    {
     "data": {
      "text/plain": [
       "3813.7620192307691"
      ]
     },
     "execution_count": 15,
     "metadata": {},
     "output_type": "execute_result"
    }
   ],
   "source": [
    "#주부의 추정 소득이 0이고 NaN의 추정소득이 0이기에 NaN값을 주부로 바꿔줌\n",
    "#고소득 전문직 5848.75\n",
    "df.MATE_OCCP_NAME_G = df[\"MATE_OCCP_NAME_G\"].fillna(\"주부\")\n",
    "print(df.MATE_OCCP_NAME_G.value_counts())\n",
    "of_index = df.MATE_OCCP_NAME_G[df.MATE_OCCP_NAME_G==\"2차산업 종사자\"].index.tolist()\n",
    "df.MATE_JOB_INCM.loc[of_index].mean()"
   ]
  },
  {
   "cell_type": "code",
   "execution_count": 13,
   "metadata": {
    "collapsed": true
   },
   "outputs": [],
   "source": [
    "star_index = df[df['MATE_OCCP_NAME_G'] == \"*\"].index.tolist()"
   ]
  },
  {
   "cell_type": "code",
   "execution_count": 14,
   "metadata": {},
   "outputs": [
    {
     "name": "stderr",
     "output_type": "stream",
     "text": [
      "/usr/local/lib/python3.5/dist-packages/pandas/core/indexing.py:179: SettingWithCopyWarning: \n",
      "A value is trying to be set on a copy of a slice from a DataFrame\n",
      "\n",
      "See the caveats in the documentation: http://pandas.pydata.org/pandas-docs/stable/indexing.html#indexing-view-versus-copy\n",
      "  self._setitem_with_indexer(indexer, value)\n"
     ]
    }
   ],
   "source": [
    "#직업이 *인 사람 중 추정 소득이 0인 사람 주부로 바꿔줌\n",
    "star_data = df.MATE_JOB_INCM.loc[star_index]\n",
    "zero_index = star_data[star_data==0].index.tolist()\n",
    "df.MATE_OCCP_NAME_G.loc[zero_index] = \"주부\"\n",
    "no_zero = star_data[star_data != 0]\n",
    "#* 추정소득 4500이상인 사람 고소득 전문직으로 변경 \n",
    "#* 추정소득 4500미만인 사람 \n",
    "high_index = no_zero[no_zero >= 4500].index.tolist()\n",
    "low_index = no_zero[no_zero < 4500].index.tolist()\n",
    "df.MATE_OCCP_NAME_G.loc[high_index] = \"고소득 전문직\"\n",
    "df.MATE_OCCP_NAME_G.loc[low_index] = \"2차산업 종사자\"\n"
   ]
  },
  {
   "cell_type": "markdown",
   "metadata": {},
   "source": [
    "## OCCP_NAME_G *제거"
   ]
  },
  {
   "cell_type": "code",
   "execution_count": 17,
   "metadata": {},
   "outputs": [
    {
     "name": "stdout",
     "output_type": "stream",
     "text": [
      "주부          28029\n",
      "사무직         16581\n",
      "2차산업 종사자     9601\n",
      "자영업          9485\n",
      "3차산업 종사자     8275\n",
      "공무원          5091\n",
      "전문직          5043\n",
      "단순 사무직       4889\n",
      "학생           3835\n",
      "운전직          2126\n",
      "기타           1672\n",
      "고소득 전문직      1630\n",
      "1차산업 종사자     1178\n",
      "기업/단체 임원     1041\n",
      "예체능계 종사자      936\n",
      "단순 노무직        821\n",
      "Name: OCCP_NAME_G, dtype: int64\n"
     ]
    },
    {
     "name": "stderr",
     "output_type": "stream",
     "text": [
      "/usr/local/lib/python3.5/dist-packages/ipykernel_launcher.py:6: SettingWithCopyWarning: \n",
      "A value is trying to be set on a copy of a slice from a DataFrame\n",
      "\n",
      "See the caveats in the documentation: http://pandas.pydata.org/pandas-docs/stable/indexing.html#indexing-view-versus-copy\n",
      "  \n",
      "/usr/local/lib/python3.5/dist-packages/pandas/core/indexing.py:179: SettingWithCopyWarning: \n",
      "A value is trying to be set on a copy of a slice from a DataFrame\n",
      "\n",
      "See the caveats in the documentation: http://pandas.pydata.org/pandas-docs/stable/indexing.html#indexing-view-versus-copy\n",
      "  self._setitem_with_indexer(indexer, value)\n"
     ]
    }
   ],
   "source": [
    "print(df.OCCP_NAME_G.value_counts())\n",
    "df.OCCP_NAME_G = df[\"OCCP_NAME_G\"].fillna(\"주부\")\n",
    "s_index = df[df[\"OCCP_NAME_G\"]==\"*\"].index.tolist()\n",
    "s_data = df.CUST_JOB_INCM.loc[s_index]\n",
    "zero_ix = s_data[s_data==0].index.tolist()\n",
    "df.OCCP_NAME_G[zero_ix] = \"주부\"\n",
    "#고소득 전문직, 단순 사무직\n",
    "on_index = df.OCCP_NAME_G[df.OCCP_NAME_G==\"단순 사무직\"].index.tolist()\n",
    "df.CUST_JOB_INCM.loc[on_index].mean()\n",
    "h_index = s_data[s_data >= 4700].index.tolist()\n",
    "l_index = s_data[s_data < 4700].index.tolist()\n",
    "df.OCCP_NAME_G.loc[h_index] = \"고소득 전문직\"\n",
    "df.OCCP_NAME_G.loc[l_index] = \"단순 사무직\""
   ]
  },
  {
   "cell_type": "code",
   "execution_count": 18,
   "metadata": {},
   "outputs": [
    {
     "name": "stderr",
     "output_type": "stream",
     "text": [
      "/usr/local/lib/python3.5/dist-packages/ipykernel_launcher.py:4: FutureWarning: convert_objects is deprecated.  Use the data-type specific converters pd.to_datetime, pd.to_timedelta and pd.to_numeric.\n",
      "  after removing the cwd from sys.path.\n"
     ]
    },
    {
     "data": {
      "text/plain": [
       "45    19052\n",
       "50    17734\n",
       "55    15321\n",
       "40    14807\n",
       "35    12003\n",
       "60     9190\n",
       "30     5268\n",
       "65     3584\n",
       "25     2201\n",
       "46      430\n",
       "70      403\n",
       "20      240\n",
       "Name: AGE, dtype: int64"
      ]
     },
     "execution_count": 18,
     "metadata": {},
     "output_type": "execute_result"
    }
   ],
   "source": [
    "df.AGE\n",
    "\n",
    "df.AGE = df.AGE.replace('*',46)\n",
    "df.AGE = pd.Series(df.AGE).convert_objects(convert_numeric=True)\n",
    "df.AGE = df.AGE.replace(0,df.AGE.mean())\n",
    "df.AGE.value_counts()\n"
   ]
  },
  {
   "cell_type": "code",
   "execution_count": 19,
   "metadata": {},
   "outputs": [
    {
     "name": "stderr",
     "output_type": "stream",
     "text": [
      "/usr/local/lib/python3.5/dist-packages/ipykernel_launcher.py:3: FutureWarning: convert_objects is deprecated.  Use the data-type specific converters pd.to_datetime, pd.to_timedelta and pd.to_numeric.\n",
      "  This is separate from the ipykernel package so we can avoid doing imports until\n"
     ]
    },
    {
     "data": {
      "text/plain": [
       "2    54490\n",
       "1    45743\n",
       "Name: SEX, dtype: int64"
      ]
     },
     "execution_count": 19,
     "metadata": {},
     "output_type": "execute_result"
    }
   ],
   "source": [
    "df.SEX\n",
    "df.SEX = df.SEX.replace('*',1)\n",
    "df.SEX = pd.Series(df.SEX).convert_objects(convert_numeric=True)\n",
    "df.SEX.value_counts()"
   ]
  },
  {
   "cell_type": "code",
   "execution_count": 33,
   "metadata": {},
   "outputs": [
    {
     "name": "stdout",
     "output_type": "stream",
     "text": [
      "Index(['CUST_ID', 'TARGET', 'BNK_LNIF_CNT', 'CPT_LNIF_CNT', 'SPART_LNIF_CNT',\n",
      "       'ECT_LNIF_CNT', 'TOT_LNIF_AMT', 'TOT_CLIF_AMT', 'BNK_LNIF_AMT',\n",
      "       'CPT_LNIF_AMT', 'CRDT_OCCR_MDIF', 'SPTCT_OCCR_MDIF', 'CRDT_CARD_CNT',\n",
      "       'CTCD_OCCR_MDIF', 'CB_GUIF_CNT', 'CB_GUIF_AMT', 'OCCP_NAME_G',\n",
      "       'CUST_JOB_INCM', 'HSHD_INFR_INCM', 'ACTL_FMLY_NUM', 'CUST_FMLY_NUM',\n",
      "       'LAST_CHLD_AGE', 'MATE_OCCP_NAME_G', 'MATE_JOB_INCM', 'CRDT_LOAN_CNT',\n",
      "       'MIN_CNTT_DATE', 'TOT_CRLN_AMT', 'TOT_REPY_AMT', 'CRLN_OVDU_RATE',\n",
      "       'CRLN_30OVDU_RATE', 'LT1Y_CLOD_RATE', 'STRT_CRDT_GRAD',\n",
      "       'LTST_CRDT_GRAD', 'PREM_OVDU_RATE', 'LT1Y_PEOD_RATE', 'AVG_STLN_RATE',\n",
      "       'STLN_REMN_AMT', 'LT1Y_STLN_AMT', 'LT1Y_SLOD_RATE', 'GDINS_MON_PREM',\n",
      "       'SVINS_MON_PREM', 'FMLY_GDINS_MNPREM', 'FMLY_SVINS_MNPREM',\n",
      "       'MAX_MON_PREM', 'TOT_PREM', 'FMLY_TOT_PREM', 'CNTT_LAMT_CNT',\n",
      "       'LT1Y_CTLT_CNT', 'AUTR_FAIL_MCNT', 'FYCM_PAID_AMT', 'FMLY_CLAM_CNT',\n",
      "       'FMLY_PLPY_CNT', 'AGE', 'SEX', 'AVG_CALL_TIME', 'AVG_CALL_FREQ',\n",
      "       'TEL_MBSP_GRAD', 'ARPU', 'MON_TLFE_AMT', 'CBPT_MBSP_YN',\n",
      "       'MOBL_FATY_PRC', 'TEL_CNTT_QTR', 'NUM_DAY_SUSP', 'CRMM_OVDU_AMT',\n",
      "       'TLFE_UNPD_CNT', 'LT1Y_MXOD_AMT', 'PAYM_METD', 'LINE_STUS',\n",
      "       'MOBL_PRIN'],\n",
      "      dtype='object')\n",
      "45    19052\n",
      "50    17734\n",
      "55    15321\n",
      "40    14807\n",
      "35    12003\n",
      "60     9190\n",
      "30     5268\n",
      "65     3584\n",
      "25     2201\n",
      "46      430\n",
      "70      403\n",
      "20      240\n",
      "Name: AGE, dtype: int64\n"
     ]
    },
    {
     "name": "stderr",
     "output_type": "stream",
     "text": [
      "/usr/local/lib/python3.5/dist-packages/pandas/core/indexing.py:179: SettingWithCopyWarning: \n",
      "A value is trying to be set on a copy of a slice from a DataFrame\n",
      "\n",
      "See the caveats in the documentation: http://pandas.pydata.org/pandas-docs/stable/indexing.html#indexing-view-versus-copy\n",
      "  self._setitem_with_indexer(indexer, value)\n"
     ]
    }
   ],
   "source": [
    "print(df.columns)\n",
    "n_index = df.LAST_CHLD_AGE.loc[df.LAST_CHLD_AGE.isnull()].index.tolist()\n",
    "df.AGE.loc[n_index].value_counts()\n",
    "age_index = df.AGE[df[\"AGE\"]==45].index.tolist()\n",
    "print(df[\"AGE\"].value_counts())\n",
    "not_chld = df.LAST_CHLD_AGE.loc[age_index]\n",
    "not_chld[not_chld < 34].mean() #10.410660008684324\n",
    "c_index = not_chld[not_chld >= 34] .index.tolist()\n",
    "df.LAST_CHLD_AGE.loc[c_index] = 10.410660008684324"
   ]
  },
  {
   "cell_type": "code",
   "execution_count": 37,
   "metadata": {},
   "outputs": [
    {
     "name": "stderr",
     "output_type": "stream",
     "text": [
      "/usr/local/lib/python3.5/dist-packages/pandas/core/indexing.py:179: SettingWithCopyWarning: \n",
      "A value is trying to be set on a copy of a slice from a DataFrame\n",
      "\n",
      "See the caveats in the documentation: http://pandas.pydata.org/pandas-docs/stable/indexing.html#indexing-view-versus-copy\n",
      "  self._setitem_with_indexer(indexer, value)\n"
     ]
    }
   ],
   "source": [
    "age_index = df.AGE[df[\"AGE\"]==50].index.tolist()\n",
    "data = df.LAST_CHLD_AGE.loc[age_index].value_counts()\n",
    "not_chld = df.LAST_CHLD_AGE.loc[age_index]\n",
    "not_chld[not_chld < 34].mean()#14.201807409180681\n",
    "c_index = not_chld[not_chld >= 34] .index.tolist()\n",
    "df.LAST_CHLD_AGE.loc[c_index] = 14.201807409180681"
   ]
  },
  {
   "cell_type": "code",
   "execution_count": 39,
   "metadata": {},
   "outputs": [
    {
     "name": "stderr",
     "output_type": "stream",
     "text": [
      "/usr/local/lib/python3.5/dist-packages/pandas/core/indexing.py:179: SettingWithCopyWarning: \n",
      "A value is trying to be set on a copy of a slice from a DataFrame\n",
      "\n",
      "See the caveats in the documentation: http://pandas.pydata.org/pandas-docs/stable/indexing.html#indexing-view-versus-copy\n",
      "  self._setitem_with_indexer(indexer, value)\n"
     ]
    }
   ],
   "source": [
    "age_index = df.AGE[df[\"AGE\"]==55].index.tolist()\n",
    "df.LAST_CHLD_AGE.loc[age_index].value_counts()\n",
    "not_chld = df.LAST_CHLD_AGE.loc[age_index]\n",
    "not_chld[not_chld < 39].mean()#16.980453972257251\n",
    "c_index = not_chld[not_chld >= 39] .index.tolist()\n",
    "df.LAST_CHLD_AGE.loc[c_index] = 16.980453972257251"
   ]
  },
  {
   "cell_type": "code",
   "execution_count": 41,
   "metadata": {},
   "outputs": [
    {
     "name": "stderr",
     "output_type": "stream",
     "text": [
      "/usr/local/lib/python3.5/dist-packages/pandas/core/indexing.py:179: SettingWithCopyWarning: \n",
      "A value is trying to be set on a copy of a slice from a DataFrame\n",
      "\n",
      "See the caveats in the documentation: http://pandas.pydata.org/pandas-docs/stable/indexing.html#indexing-view-versus-copy\n",
      "  self._setitem_with_indexer(indexer, value)\n"
     ]
    }
   ],
   "source": [
    "age_index = df.AGE[df[\"AGE\"]==40].index.tolist()\n",
    "df.LAST_CHLD_AGE.loc[age_index].value_counts()\n",
    "not_chld = df.LAST_CHLD_AGE.loc[age_index]\n",
    "not_chld[not_chld < 24].mean()#5.1291520979020975\n",
    "c_index = not_chld[not_chld >= 24] .index.tolist()\n",
    "df.LAST_CHLD_AGE.loc[c_index] = 5.1291520979020975"
   ]
  },
  {
   "cell_type": "code",
   "execution_count": 43,
   "metadata": {},
   "outputs": [
    {
     "name": "stderr",
     "output_type": "stream",
     "text": [
      "/usr/local/lib/python3.5/dist-packages/pandas/core/indexing.py:179: SettingWithCopyWarning: \n",
      "A value is trying to be set on a copy of a slice from a DataFrame\n",
      "\n",
      "See the caveats in the documentation: http://pandas.pydata.org/pandas-docs/stable/indexing.html#indexing-view-versus-copy\n",
      "  self._setitem_with_indexer(indexer, value)\n"
     ]
    }
   ],
   "source": [
    "age_index = df.AGE[df[\"AGE\"]==35].index.tolist()\n",
    "df.LAST_CHLD_AGE.loc[age_index].value_counts()\n",
    "not_chld = df.LAST_CHLD_AGE.loc[age_index]\n",
    "not_chld[not_chld < 19].mean()# 1.7415281775136942\n",
    "c_index = not_chld[not_chld >= 19] .index.tolist()\n",
    "df.LAST_CHLD_AGE.loc[c_index] = 1.7415281775136942"
   ]
  },
  {
   "cell_type": "code",
   "execution_count": 45,
   "metadata": {},
   "outputs": [
    {
     "name": "stderr",
     "output_type": "stream",
     "text": [
      "/usr/local/lib/python3.5/dist-packages/pandas/core/indexing.py:179: SettingWithCopyWarning: \n",
      "A value is trying to be set on a copy of a slice from a DataFrame\n",
      "\n",
      "See the caveats in the documentation: http://pandas.pydata.org/pandas-docs/stable/indexing.html#indexing-view-versus-copy\n",
      "  self._setitem_with_indexer(indexer, value)\n"
     ]
    }
   ],
   "source": [
    "age_index = df.AGE[df[\"AGE\"]==60].index.tolist()\n",
    "df.LAST_CHLD_AGE.loc[age_index].value_counts()\n",
    "not_chld = df.LAST_CHLD_AGE.loc[age_index]\n",
    "not_chld[not_chld < 44].mean()#19.987305905020968\n",
    "c_index = not_chld[not_chld >= 44] .index.tolist()\n",
    "df.LAST_CHLD_AGE.loc[c_index] = 19.987305905020968"
   ]
  },
  {
   "cell_type": "code",
   "execution_count": 47,
   "metadata": {},
   "outputs": [
    {
     "name": "stderr",
     "output_type": "stream",
     "text": [
      "/usr/local/lib/python3.5/dist-packages/pandas/core/indexing.py:179: SettingWithCopyWarning: \n",
      "A value is trying to be set on a copy of a slice from a DataFrame\n",
      "\n",
      "See the caveats in the documentation: http://pandas.pydata.org/pandas-docs/stable/indexing.html#indexing-view-versus-copy\n",
      "  self._setitem_with_indexer(indexer, value)\n"
     ]
    }
   ],
   "source": [
    "age_index = df.AGE[df[\"AGE\"]==30].index.tolist()\n",
    "df.LAST_CHLD_AGE.loc[age_index].value_counts()\n",
    "not_chld = df.LAST_CHLD_AGE.loc[age_index]\n",
    "not_chld[not_chld < 14].mean()#0.097078651685393258\n",
    "c_index = not_chld[not_chld >= 14] .index.tolist()\n",
    "df.LAST_CHLD_AGE.loc[c_index] = 0.097078651685393258"
   ]
  },
  {
   "cell_type": "code",
   "execution_count": 49,
   "metadata": {},
   "outputs": [
    {
     "name": "stderr",
     "output_type": "stream",
     "text": [
      "/usr/local/lib/python3.5/dist-packages/pandas/core/indexing.py:179: SettingWithCopyWarning: \n",
      "A value is trying to be set on a copy of a slice from a DataFrame\n",
      "\n",
      "See the caveats in the documentation: http://pandas.pydata.org/pandas-docs/stable/indexing.html#indexing-view-versus-copy\n",
      "  self._setitem_with_indexer(indexer, value)\n"
     ]
    },
    {
     "data": {
      "text/plain": [
       "0.000000     1424\n",
       "39.000000     891\n",
       "44.000000     478\n",
       "34.000000     273\n",
       "21.332449     191\n",
       "29.000000     113\n",
       "24.000000      95\n",
       "19.000000      56\n",
       "14.000000      34\n",
       "9.000000       21\n",
       "4.000000        8\n",
       "Name: LAST_CHLD_AGE, dtype: int64"
      ]
     },
     "execution_count": 49,
     "metadata": {},
     "output_type": "execute_result"
    }
   ],
   "source": [
    "age_index = df.AGE[df[\"AGE\"]==65].index.tolist()\n",
    "df.LAST_CHLD_AGE.loc[age_index].value_counts()\n",
    "not_chld = df.LAST_CHLD_AGE.loc[age_index]\n",
    "not_chld[not_chld < 49].mean()#21.332449160035367\n",
    "c_index = not_chld[not_chld >= 49] .index.tolist()\n",
    "df.LAST_CHLD_AGE.loc[c_index] = 21.332449160035367\n",
    "df.LAST_CHLD_AGE.loc[age_index].value_counts()"
   ]
  },
  {
   "cell_type": "code",
   "execution_count": 51,
   "metadata": {},
   "outputs": [
    {
     "name": "stderr",
     "output_type": "stream",
     "text": [
      "/usr/local/lib/python3.5/dist-packages/pandas/core/indexing.py:179: SettingWithCopyWarning: \n",
      "A value is trying to be set on a copy of a slice from a DataFrame\n",
      "\n",
      "See the caveats in the documentation: http://pandas.pydata.org/pandas-docs/stable/indexing.html#indexing-view-versus-copy\n",
      "  self._setitem_with_indexer(indexer, value)\n"
     ]
    }
   ],
   "source": [
    "age_index = df.AGE[df[\"AGE\"]==25].index.tolist()\n",
    "df.LAST_CHLD_AGE.loc[age_index].value_counts()\n",
    "not_chld = df.LAST_CHLD_AGE.loc[age_index]\n",
    "not_chld[not_chld < 9].mean()#0.056338028169014086\n",
    "c_index = not_chld[not_chld >= 9] .index.tolist()\n",
    "df.LAST_CHLD_AGE.loc[c_index] = 0.056338028169014086"
   ]
  },
  {
   "cell_type": "code",
   "execution_count": 53,
   "metadata": {},
   "outputs": [
    {
     "name": "stderr",
     "output_type": "stream",
     "text": [
      "/usr/local/lib/python3.5/dist-packages/pandas/core/indexing.py:179: SettingWithCopyWarning: \n",
      "A value is trying to be set on a copy of a slice from a DataFrame\n",
      "\n",
      "See the caveats in the documentation: http://pandas.pydata.org/pandas-docs/stable/indexing.html#indexing-view-versus-copy\n",
      "  self._setitem_with_indexer(indexer, value)\n"
     ]
    }
   ],
   "source": [
    "age_index = df.AGE[df[\"AGE\"]==70].index.tolist()\n",
    "df.LAST_CHLD_AGE.loc[age_index].value_counts()\n",
    "not_chld = df.LAST_CHLD_AGE.loc[age_index]\n",
    "not_chld[not_chld < 54].mean()#22.603491271820449\n",
    "c_index = not_chld[not_chld >= 54] .index.tolist()\n",
    "df.LAST_CHLD_AGE.loc[c_index] = 22.603491271820449"
   ]
  },
  {
   "cell_type": "code",
   "execution_count": 55,
   "metadata": {},
   "outputs": [
    {
     "name": "stderr",
     "output_type": "stream",
     "text": [
      "/usr/local/lib/python3.5/dist-packages/pandas/core/indexing.py:179: SettingWithCopyWarning: \n",
      "A value is trying to be set on a copy of a slice from a DataFrame\n",
      "\n",
      "See the caveats in the documentation: http://pandas.pydata.org/pandas-docs/stable/indexing.html#indexing-view-versus-copy\n",
      "  self._setitem_with_indexer(indexer, value)\n"
     ]
    }
   ],
   "source": [
    "age_index = df.AGE[df[\"AGE\"]==20].index.tolist()\n",
    "df.LAST_CHLD_AGE.loc[age_index].value_counts()\n",
    "not_chld = df.LAST_CHLD_AGE.loc[age_index]\n",
    "c_index = not_chld[not_chld > 0] .index.tolist()\n",
    "df.LAST_CHLD_AGE.loc[c_index] = 0"
   ]
  },
  {
   "cell_type": "code",
   "execution_count": 57,
   "metadata": {},
   "outputs": [
    {
     "name": "stderr",
     "output_type": "stream",
     "text": [
      "/usr/local/lib/python3.5/dist-packages/pandas/core/indexing.py:179: SettingWithCopyWarning: \n",
      "A value is trying to be set on a copy of a slice from a DataFrame\n",
      "\n",
      "See the caveats in the documentation: http://pandas.pydata.org/pandas-docs/stable/indexing.html#indexing-view-versus-copy\n",
      "  self._setitem_with_indexer(indexer, value)\n"
     ]
    }
   ],
   "source": [
    "age_index = df.AGE[df[\"AGE\"]==46].index.tolist()\n",
    "df.LAST_CHLD_AGE.loc[age_index].value_counts()\n",
    "not_chld = df.LAST_CHLD_AGE.loc[age_index]\n",
    "not_chld[not_chld < 29].mean()#0.62937062937062938\n",
    "c_index = not_chld[not_chld >= 29] .index.tolist()\n",
    "df.LAST_CHLD_AGE.loc[c_index] = 0.62937062937062938"
   ]
  },
  {
   "cell_type": "code",
   "execution_count": 60,
   "metadata": {
    "scrolled": false
   },
   "outputs": [
    {
     "name": "stderr",
     "output_type": "stream",
     "text": [
      "/usr/local/lib/python3.5/dist-packages/pandas/core/indexing.py:179: SettingWithCopyWarning: \n",
      "A value is trying to be set on a copy of a slice from a DataFrame\n",
      "\n",
      "See the caveats in the documentation: http://pandas.pydata.org/pandas-docs/stable/indexing.html#indexing-view-versus-copy\n",
      "  self._setitem_with_indexer(indexer, value)\n"
     ]
    }
   ],
   "source": [
    "n_index = df.LAST_CHLD_AGE.loc[df.LAST_CHLD_AGE.isnull()].index.tolist()\n",
    "null_data = df.AGE.loc[n_index]\n",
    "four_six = null_data[null_data==46].index.tolist()\n",
    "df.LAST_CHLD_AGE.loc[four_six] = 0.62937062937062938\n",
    "five_five = null_data[null_data==55].index.tolist()\n",
    "df.LAST_CHLD_AGE.loc[five_five] = 16.980453972257251\n",
    "fourty = null_data[null_data==40].index.tolist()\n",
    "df.LAST_CHLD_AGE.loc[fourty] = 5.1291520979020975\n",
    "three_five = null_data[null_data==35].index.tolist()\n",
    "df.LAST_CHLD_AGE.loc[three_five] = 1.7415281775136942\n",
    "four_five = null_data[null_data==45].index.tolist()\n",
    "df.LAST_CHLD_AGE.loc[four_five] = 10.410660008684324\n",
    "fifty = null_data[null_data==50].index.tolist()\n",
    "df.LAST_CHLD_AGE.loc[fifty] = 14.201807409180681\n",
    "six_five = null_data[null_data==65].index.tolist()\n",
    "df.LAST_CHLD_AGE.loc[six_five] = 21.332449160035367\n",
    "sixty = null_data[null_data==60].index.tolist()\n",
    "df.LAST_CHLD_AGE.loc[sixty] = 19.987305905020968"
   ]
  },
  {
   "cell_type": "code",
   "execution_count": 27,
   "metadata": {},
   "outputs": [
    {
     "data": {
      "text/plain": [
       "CUST_ID                  0\n",
       "TARGET                   0\n",
       "BNK_LNIF_CNT             0\n",
       "CPT_LNIF_CNT             0\n",
       "SPART_LNIF_CNT           0\n",
       "ECT_LNIF_CNT             0\n",
       "TOT_LNIF_AMT             0\n",
       "TOT_CLIF_AMT             0\n",
       "BNK_LNIF_AMT             0\n",
       "CPT_LNIF_AMT             0\n",
       "CRDT_OCCR_MDIF           0\n",
       "SPTCT_OCCR_MDIF          0\n",
       "CRDT_CARD_CNT            0\n",
       "CTCD_OCCR_MDIF           0\n",
       "CB_GUIF_CNT              0\n",
       "CB_GUIF_AMT              0\n",
       "OCCP_NAME_G              0\n",
       "CUST_JOB_INCM            0\n",
       "HSHD_INFR_INCM           0\n",
       "ACTL_FMLY_NUM            0\n",
       "CUST_FMLY_NUM            0\n",
       "LAST_CHLD_AGE            0\n",
       "MATE_OCCP_NAME_G         0\n",
       "MATE_JOB_INCM            0\n",
       "CRDT_LOAN_CNT            0\n",
       "MIN_CNTT_DATE            0\n",
       "TOT_CRLN_AMT             0\n",
       "TOT_REPY_AMT             0\n",
       "CRLN_OVDU_RATE           0\n",
       "CRLN_30OVDU_RATE         0\n",
       "                     ...  \n",
       "GDINS_MON_PREM           0\n",
       "SVINS_MON_PREM           0\n",
       "FMLY_GDINS_MNPREM        0\n",
       "FMLY_SVINS_MNPREM        0\n",
       "MAX_MON_PREM             0\n",
       "TOT_PREM                 0\n",
       "FMLY_TOT_PREM            0\n",
       "CNTT_LAMT_CNT            0\n",
       "LT1Y_CTLT_CNT            0\n",
       "AUTR_FAIL_MCNT           0\n",
       "FYCM_PAID_AMT            0\n",
       "FMLY_CLAM_CNT            0\n",
       "FMLY_PLPY_CNT            0\n",
       "AGE                      0\n",
       "SEX                      0\n",
       "AVG_CALL_TIME            0\n",
       "AVG_CALL_FREQ            0\n",
       "TEL_MBSP_GRAD        46015\n",
       "ARPU                     0\n",
       "MON_TLFE_AMT             0\n",
       "CBPT_MBSP_YN             0\n",
       "MOBL_FATY_PRC            0\n",
       "TEL_CNTT_QTR             0\n",
       "NUM_DAY_SUSP             0\n",
       "CRMM_OVDU_AMT            0\n",
       "TLFE_UNPD_CNT            0\n",
       "LT1Y_MXOD_AMT            0\n",
       "PAYM_METD             2833\n",
       "LINE_STUS                0\n",
       "MOBL_PRIN                0\n",
       "Length: 69, dtype: int64"
      ]
     },
     "execution_count": 27,
     "metadata": {},
     "output_type": "execute_result"
    }
   ],
   "source": [
    "df.isnull().sum()\n"
   ]
  },
  {
   "cell_type": "code",
   "execution_count": 61,
   "metadata": {
    "collapsed": true,
    "scrolled": true
   },
   "outputs": [],
   "source": [
    "df.TEL_CNTT_QTR = df.TEL_CNTT_QTR.astype(str)"
   ]
  },
  {
   "cell_type": "code",
   "execution_count": 62,
   "metadata": {},
   "outputs": [
    {
     "name": "stderr",
     "output_type": "stream",
     "text": [
      "/usr/local/lib/python3.5/dist-packages/pandas/core/indexing.py:179: SettingWithCopyWarning: \n",
      "A value is trying to be set on a copy of a slice from a DataFrame\n",
      "\n",
      "See the caveats in the documentation: http://pandas.pydata.org/pandas-docs/stable/indexing.html#indexing-view-versus-copy\n",
      "  self._setitem_with_indexer(indexer, value)\n"
     ]
    }
   ],
   "source": [
    "# df.TEL_CNTT_QTR\n",
    "# R>W>Q W1238050000  Q938800000\n",
    "# print(df.TEL_MBSP_GRAD.value_counts())\n",
    "# t_index = df.TEL_MBSP_GRAD.loc[df.TEL_MBSP_GRAD.isnull()].index.tolist()\n",
    "# print(df.ARPU.loc[t_index].value_counts())#38917.309355644895\n",
    "# print(df.ARPU[df.TEL_MBSP_GRAD==\"R\"].mean())#39648.85250348215\n",
    "# r_index = df.ARPU[df.ARPU==0].index.tolist()\n",
    "# df.OCCP_NAME_G.loc[r_index].value_counts()\n",
    "# lindex = df.ARPU[df.ARPU==0].index.tolist()\n",
    "# z_data = df.TEL_MBSP_GRAD.loc[lindex]\n",
    "# qindex = z_data[z_data==\"Q\"].index.tolist()\n",
    "# df.ARPU.loc[qindex] = 39648.85250348215\n",
    "# windex = z_data[z_data==\"W\"].index.tolist()\n",
    "# df.ARPU.loc[windex] = 41806.2541337\n",
    "# eindex = z_data[z_data==\"E\"].index.tolist()\n",
    "# df.ARPU.loc[eindex] = 63760.8744718\n",
    "# eindex = z_data[z_data==\"R\"].index.tolist()\n",
    "# df.ARPU.loc[eindex] = 55636.8943712\n",
    "mindex = df.ARPU[df.ARPU==-1].index.tolist()\n",
    "m_data = df.TEL_MBSP_GRAD.loc[mindex]\n",
    "qindex = m_data[m_data==\"Q\"].index.tolist()\n",
    "df.ARPU.loc[qindex] = 39648.85250348215\n",
    "windex = m_data[m_data==\"W\"].index.tolist()\n",
    "df.ARPU.loc[windex] = 41806.2541337\n",
    "eindex = m_data[m_data==\"E\"].index.tolist()\n",
    "df.ARPU.loc[eindex] = 63760.8744718\n",
    "eindex = m_data[m_data==\"R\"].index.tolist()\n",
    "df.ARPU.loc[eindex] = 55636.8943712"
   ]
  },
  {
   "cell_type": "code",
   "execution_count": 63,
   "metadata": {
    "collapsed": true
   },
   "outputs": [],
   "source": [
    "df.PAYM_METD = df.PAYM_METD.fillna('O')\n",
    "df.TEL_MBSP_GRAD = df.TEL_MBSP_GRAD.fillna('Q')"
   ]
  },
  {
   "cell_type": "code",
   "execution_count": 64,
   "metadata": {
    "collapsed": true
   },
   "outputs": [],
   "source": [
    "del df['CUST_ID']\n",
    "df = pd.get_dummies(df)"
   ]
  },
  {
   "cell_type": "code",
   "execution_count": 65,
   "metadata": {
    "collapsed": true
   },
   "outputs": [],
   "source": [
    "df_test = df[:2000]\n",
    "df_train = df[2000:]"
   ]
  },
  {
   "cell_type": "code",
   "execution_count": 66,
   "metadata": {
    "collapsed": true
   },
   "outputs": [],
   "source": [
    "x_data = df_train.drop('TARGET',axis=1)\n",
    "y_data = df_train.TARGET"
   ]
  },
  {
   "cell_type": "code",
   "execution_count": 67,
   "metadata": {
    "collapsed": true
   },
   "outputs": [],
   "source": [
    "X = x_data\n",
    "y = y_data\n",
    "from imblearn.over_sampling import ADASYN \n",
    "from imblearn.over_sampling import RandomOverSampler\n",
    "from imblearn.under_sampling import CondensedNearestNeighbour \n",
    "from imblearn.combine import SMOTEENN \n",
    "\n",
    "# undersampling\n",
    "# cnn = CondensedNearestNeighbour(random_state=42) \n",
    "# X_resampled, y_resampled = cnn.fit_sample(X, y)\n",
    "\n",
    "#RANDOM \n",
    "# ros = RandomOverSampler(random_state=42)\n",
    "# X_resampled, y_resampled = ros.fit_sample(X, y)\n",
    "\n",
    "#ADASYN\n",
    "ada = ADASYN(random_state=42,n_neighbors=3)\n",
    "X_resampled, y_resampled = ada.fit_sample(X, y)\n",
    "\n",
    "# Apply SMOTE + ENN\n",
    "# sm = SMOTEENN()\n",
    "# X_resampled, y_resampled = sm.fit_sample(X, y)"
   ]
  },
  {
   "cell_type": "code",
   "execution_count": null,
   "metadata": {
    "collapsed": true
   },
   "outputs": [],
   "source": []
  },
  {
   "cell_type": "code",
   "execution_count": 68,
   "metadata": {},
   "outputs": [
    {
     "data": {
      "text/html": [
       "<div>\n",
       "<style>\n",
       "    .dataframe thead tr:only-child th {\n",
       "        text-align: right;\n",
       "    }\n",
       "\n",
       "    .dataframe thead th {\n",
       "        text-align: left;\n",
       "    }\n",
       "\n",
       "    .dataframe tbody tr th {\n",
       "        vertical-align: top;\n",
       "    }\n",
       "</style>\n",
       "<table border=\"1\" class=\"dataframe\">\n",
       "  <thead>\n",
       "    <tr style=\"text-align: right;\">\n",
       "      <th></th>\n",
       "      <th>0</th>\n",
       "      <th>1</th>\n",
       "      <th>2</th>\n",
       "      <th>3</th>\n",
       "      <th>4</th>\n",
       "      <th>5</th>\n",
       "      <th>6</th>\n",
       "      <th>7</th>\n",
       "      <th>8</th>\n",
       "      <th>9</th>\n",
       "      <th>...</th>\n",
       "      <th>194</th>\n",
       "      <th>195</th>\n",
       "      <th>196</th>\n",
       "      <th>197</th>\n",
       "      <th>198</th>\n",
       "      <th>199</th>\n",
       "      <th>200</th>\n",
       "      <th>201</th>\n",
       "      <th>202</th>\n",
       "      <th>TARGET</th>\n",
       "    </tr>\n",
       "  </thead>\n",
       "  <tbody>\n",
       "    <tr>\n",
       "      <th>0</th>\n",
       "      <td>0.0</td>\n",
       "      <td>0.0</td>\n",
       "      <td>1.0</td>\n",
       "      <td>1.0</td>\n",
       "      <td>48001.0</td>\n",
       "      <td>48001.0</td>\n",
       "      <td>0.0</td>\n",
       "      <td>0.0</td>\n",
       "      <td>1.0</td>\n",
       "      <td>1.0</td>\n",
       "      <td>...</td>\n",
       "      <td>0.0</td>\n",
       "      <td>0.0</td>\n",
       "      <td>0.0</td>\n",
       "      <td>0.0</td>\n",
       "      <td>1.0</td>\n",
       "      <td>0.0</td>\n",
       "      <td>0.0</td>\n",
       "      <td>0.0</td>\n",
       "      <td>1.0</td>\n",
       "      <td>0</td>\n",
       "    </tr>\n",
       "    <tr>\n",
       "      <th>1</th>\n",
       "      <td>2.0</td>\n",
       "      <td>0.0</td>\n",
       "      <td>0.0</td>\n",
       "      <td>0.0</td>\n",
       "      <td>48001.0</td>\n",
       "      <td>1.0</td>\n",
       "      <td>48001.0</td>\n",
       "      <td>0.0</td>\n",
       "      <td>13.0</td>\n",
       "      <td>0.0</td>\n",
       "      <td>...</td>\n",
       "      <td>0.0</td>\n",
       "      <td>0.0</td>\n",
       "      <td>0.0</td>\n",
       "      <td>0.0</td>\n",
       "      <td>0.0</td>\n",
       "      <td>1.0</td>\n",
       "      <td>0.0</td>\n",
       "      <td>0.0</td>\n",
       "      <td>1.0</td>\n",
       "      <td>0</td>\n",
       "    </tr>\n",
       "    <tr>\n",
       "      <th>2</th>\n",
       "      <td>1.0</td>\n",
       "      <td>2.0</td>\n",
       "      <td>2.0</td>\n",
       "      <td>0.0</td>\n",
       "      <td>15001.0</td>\n",
       "      <td>3001.0</td>\n",
       "      <td>3001.0</td>\n",
       "      <td>12001.0</td>\n",
       "      <td>1.0</td>\n",
       "      <td>0.0</td>\n",
       "      <td>...</td>\n",
       "      <td>0.0</td>\n",
       "      <td>0.0</td>\n",
       "      <td>0.0</td>\n",
       "      <td>0.0</td>\n",
       "      <td>0.0</td>\n",
       "      <td>1.0</td>\n",
       "      <td>0.0</td>\n",
       "      <td>0.0</td>\n",
       "      <td>1.0</td>\n",
       "      <td>1</td>\n",
       "    </tr>\n",
       "    <tr>\n",
       "      <th>3</th>\n",
       "      <td>1.0</td>\n",
       "      <td>0.0</td>\n",
       "      <td>0.0</td>\n",
       "      <td>0.0</td>\n",
       "      <td>9001.0</td>\n",
       "      <td>9001.0</td>\n",
       "      <td>9001.0</td>\n",
       "      <td>0.0</td>\n",
       "      <td>25.0</td>\n",
       "      <td>0.0</td>\n",
       "      <td>...</td>\n",
       "      <td>0.0</td>\n",
       "      <td>0.0</td>\n",
       "      <td>0.0</td>\n",
       "      <td>0.0</td>\n",
       "      <td>0.0</td>\n",
       "      <td>1.0</td>\n",
       "      <td>0.0</td>\n",
       "      <td>0.0</td>\n",
       "      <td>1.0</td>\n",
       "      <td>0</td>\n",
       "    </tr>\n",
       "    <tr>\n",
       "      <th>4</th>\n",
       "      <td>2.0</td>\n",
       "      <td>0.0</td>\n",
       "      <td>0.0</td>\n",
       "      <td>0.0</td>\n",
       "      <td>39001.0</td>\n",
       "      <td>39001.0</td>\n",
       "      <td>39001.0</td>\n",
       "      <td>0.0</td>\n",
       "      <td>1.0</td>\n",
       "      <td>0.0</td>\n",
       "      <td>...</td>\n",
       "      <td>0.0</td>\n",
       "      <td>0.0</td>\n",
       "      <td>0.0</td>\n",
       "      <td>0.0</td>\n",
       "      <td>0.0</td>\n",
       "      <td>1.0</td>\n",
       "      <td>0.0</td>\n",
       "      <td>0.0</td>\n",
       "      <td>1.0</td>\n",
       "      <td>0</td>\n",
       "    </tr>\n",
       "  </tbody>\n",
       "</table>\n",
       "<p>5 rows × 204 columns</p>\n",
       "</div>"
      ],
      "text/plain": [
       "     0    1    2    3        4        5        6        7     8    9   ...    \\\n",
       "0  0.0  0.0  1.0  1.0  48001.0  48001.0      0.0      0.0   1.0  1.0   ...     \n",
       "1  2.0  0.0  0.0  0.0  48001.0      1.0  48001.0      0.0  13.0  0.0   ...     \n",
       "2  1.0  2.0  2.0  0.0  15001.0   3001.0   3001.0  12001.0   1.0  0.0   ...     \n",
       "3  1.0  0.0  0.0  0.0   9001.0   9001.0   9001.0      0.0  25.0  0.0   ...     \n",
       "4  2.0  0.0  0.0  0.0  39001.0  39001.0  39001.0      0.0   1.0  0.0   ...     \n",
       "\n",
       "   194  195  196  197  198  199  200  201  202  TARGET  \n",
       "0  0.0  0.0  0.0  0.0  1.0  0.0  0.0  0.0  1.0       0  \n",
       "1  0.0  0.0  0.0  0.0  0.0  1.0  0.0  0.0  1.0       0  \n",
       "2  0.0  0.0  0.0  0.0  0.0  1.0  0.0  0.0  1.0       1  \n",
       "3  0.0  0.0  0.0  0.0  0.0  1.0  0.0  0.0  1.0       0  \n",
       "4  0.0  0.0  0.0  0.0  0.0  1.0  0.0  0.0  1.0       0  \n",
       "\n",
       "[5 rows x 204 columns]"
      ]
     },
     "execution_count": 68,
     "metadata": {},
     "output_type": "execute_result"
    }
   ],
   "source": [
    "df_1 = pd.DataFrame(X_resampled)\n",
    "df_2 = pd.DataFrame(y_resampled)\n",
    "df_2.columns = ['TARGET']\n",
    "df_final = pd.concat([df_1,df_2],axis=1)\n",
    "df_final.head()"
   ]
  },
  {
   "cell_type": "code",
   "execution_count": 69,
   "metadata": {},
   "outputs": [
    {
     "data": {
      "text/html": [
       "<div>\n",
       "<style>\n",
       "    .dataframe thead tr:only-child th {\n",
       "        text-align: right;\n",
       "    }\n",
       "\n",
       "    .dataframe thead th {\n",
       "        text-align: left;\n",
       "    }\n",
       "\n",
       "    .dataframe tbody tr th {\n",
       "        vertical-align: top;\n",
       "    }\n",
       "</style>\n",
       "<table border=\"1\" class=\"dataframe\">\n",
       "  <thead>\n",
       "    <tr style=\"text-align: right;\">\n",
       "      <th></th>\n",
       "      <th>0</th>\n",
       "      <th>1</th>\n",
       "      <th>2</th>\n",
       "      <th>3</th>\n",
       "      <th>4</th>\n",
       "      <th>5</th>\n",
       "      <th>6</th>\n",
       "      <th>7</th>\n",
       "      <th>8</th>\n",
       "      <th>9</th>\n",
       "      <th>...</th>\n",
       "      <th>194</th>\n",
       "      <th>195</th>\n",
       "      <th>196</th>\n",
       "      <th>197</th>\n",
       "      <th>198</th>\n",
       "      <th>199</th>\n",
       "      <th>200</th>\n",
       "      <th>201</th>\n",
       "      <th>202</th>\n",
       "      <th>TARGET</th>\n",
       "    </tr>\n",
       "  </thead>\n",
       "  <tbody>\n",
       "    <tr>\n",
       "      <th>80308</th>\n",
       "      <td>1.000000</td>\n",
       "      <td>0.000000</td>\n",
       "      <td>0.000000</td>\n",
       "      <td>0.000000</td>\n",
       "      <td>72001.000000</td>\n",
       "      <td>72001.000000</td>\n",
       "      <td>72001.000000</td>\n",
       "      <td>0.000000</td>\n",
       "      <td>1.000000</td>\n",
       "      <td>0.000000</td>\n",
       "      <td>...</td>\n",
       "      <td>0.0</td>\n",
       "      <td>0.0</td>\n",
       "      <td>0.0</td>\n",
       "      <td>0.000000</td>\n",
       "      <td>0.000000</td>\n",
       "      <td>1.000000</td>\n",
       "      <td>0.000000</td>\n",
       "      <td>0.0</td>\n",
       "      <td>1.0</td>\n",
       "      <td>0</td>\n",
       "    </tr>\n",
       "    <tr>\n",
       "      <th>107612</th>\n",
       "      <td>1.000000</td>\n",
       "      <td>2.494517</td>\n",
       "      <td>2.494517</td>\n",
       "      <td>0.000000</td>\n",
       "      <td>28163.006937</td>\n",
       "      <td>28163.006937</td>\n",
       "      <td>18808.566347</td>\n",
       "      <td>9355.064220</td>\n",
       "      <td>1.000000</td>\n",
       "      <td>23.074287</td>\n",
       "      <td>...</td>\n",
       "      <td>0.0</td>\n",
       "      <td>0.0</td>\n",
       "      <td>0.0</td>\n",
       "      <td>0.000000</td>\n",
       "      <td>0.000000</td>\n",
       "      <td>0.376371</td>\n",
       "      <td>0.623629</td>\n",
       "      <td>0.0</td>\n",
       "      <td>1.0</td>\n",
       "      <td>1</td>\n",
       "    </tr>\n",
       "    <tr>\n",
       "      <th>135049</th>\n",
       "      <td>1.051115</td>\n",
       "      <td>0.948885</td>\n",
       "      <td>1.000000</td>\n",
       "      <td>0.051115</td>\n",
       "      <td>129787.264612</td>\n",
       "      <td>13074.416109</td>\n",
       "      <td>117480.574295</td>\n",
       "      <td>11387.568251</td>\n",
       "      <td>12.386619</td>\n",
       "      <td>14.226761</td>\n",
       "      <td>...</td>\n",
       "      <td>0.0</td>\n",
       "      <td>0.0</td>\n",
       "      <td>0.0</td>\n",
       "      <td>0.051115</td>\n",
       "      <td>0.948885</td>\n",
       "      <td>0.000000</td>\n",
       "      <td>0.000000</td>\n",
       "      <td>0.0</td>\n",
       "      <td>1.0</td>\n",
       "      <td>1</td>\n",
       "    </tr>\n",
       "    <tr>\n",
       "      <th>148779</th>\n",
       "      <td>0.617432</td>\n",
       "      <td>0.382568</td>\n",
       "      <td>1.000000</td>\n",
       "      <td>0.617432</td>\n",
       "      <td>7148.704988</td>\n",
       "      <td>5296.409976</td>\n",
       "      <td>1852.912444</td>\n",
       "      <td>3443.497532</td>\n",
       "      <td>84.273440</td>\n",
       "      <td>84.273440</td>\n",
       "      <td>...</td>\n",
       "      <td>0.0</td>\n",
       "      <td>0.0</td>\n",
       "      <td>0.0</td>\n",
       "      <td>0.000000</td>\n",
       "      <td>0.382568</td>\n",
       "      <td>0.617432</td>\n",
       "      <td>0.000000</td>\n",
       "      <td>0.0</td>\n",
       "      <td>1.0</td>\n",
       "      <td>1</td>\n",
       "    </tr>\n",
       "    <tr>\n",
       "      <th>28918</th>\n",
       "      <td>1.000000</td>\n",
       "      <td>0.000000</td>\n",
       "      <td>0.000000</td>\n",
       "      <td>0.000000</td>\n",
       "      <td>141001.000000</td>\n",
       "      <td>0.000000</td>\n",
       "      <td>141001.000000</td>\n",
       "      <td>0.000000</td>\n",
       "      <td>0.000000</td>\n",
       "      <td>0.000000</td>\n",
       "      <td>...</td>\n",
       "      <td>0.0</td>\n",
       "      <td>0.0</td>\n",
       "      <td>0.0</td>\n",
       "      <td>0.000000</td>\n",
       "      <td>0.000000</td>\n",
       "      <td>1.000000</td>\n",
       "      <td>0.000000</td>\n",
       "      <td>0.0</td>\n",
       "      <td>1.0</td>\n",
       "      <td>0</td>\n",
       "    </tr>\n",
       "  </tbody>\n",
       "</table>\n",
       "<p>5 rows × 204 columns</p>\n",
       "</div>"
      ],
      "text/plain": [
       "               0         1         2         3              4             5  \\\n",
       "80308   1.000000  0.000000  0.000000  0.000000   72001.000000  72001.000000   \n",
       "107612  1.000000  2.494517  2.494517  0.000000   28163.006937  28163.006937   \n",
       "135049  1.051115  0.948885  1.000000  0.051115  129787.264612  13074.416109   \n",
       "148779  0.617432  0.382568  1.000000  0.617432    7148.704988   5296.409976   \n",
       "28918   1.000000  0.000000  0.000000  0.000000  141001.000000      0.000000   \n",
       "\n",
       "                    6             7          8          9   ...    194  195  \\\n",
       "80308    72001.000000      0.000000   1.000000   0.000000   ...    0.0  0.0   \n",
       "107612   18808.566347   9355.064220   1.000000  23.074287   ...    0.0  0.0   \n",
       "135049  117480.574295  11387.568251  12.386619  14.226761   ...    0.0  0.0   \n",
       "148779    1852.912444   3443.497532  84.273440  84.273440   ...    0.0  0.0   \n",
       "28918   141001.000000      0.000000   0.000000   0.000000   ...    0.0  0.0   \n",
       "\n",
       "        196       197       198       199       200  201  202  TARGET  \n",
       "80308   0.0  0.000000  0.000000  1.000000  0.000000  0.0  1.0       0  \n",
       "107612  0.0  0.000000  0.000000  0.376371  0.623629  0.0  1.0       1  \n",
       "135049  0.0  0.051115  0.948885  0.000000  0.000000  0.0  1.0       1  \n",
       "148779  0.0  0.000000  0.382568  0.617432  0.000000  0.0  1.0       1  \n",
       "28918   0.0  0.000000  0.000000  1.000000  0.000000  0.0  1.0       0  \n",
       "\n",
       "[5 rows x 204 columns]"
      ]
     },
     "execution_count": 69,
     "metadata": {},
     "output_type": "execute_result"
    }
   ],
   "source": [
    "df_final = df_final.sample(frac=1)\n",
    "df_final.head()"
   ]
  },
  {
   "cell_type": "code",
   "execution_count": 70,
   "metadata": {
    "collapsed": true
   },
   "outputs": [],
   "source": [
    "train_y = df_final.TARGET\n",
    "train_x = df_final.drop('TARGET',axis=1)"
   ]
  },
  {
   "cell_type": "code",
   "execution_count": 71,
   "metadata": {
    "collapsed": true
   },
   "outputs": [],
   "source": [
    "test_y = df_test.TARGET\n",
    "test_x = df_test.drop('TARGET',axis=1)"
   ]
  },
  {
   "cell_type": "code",
   "execution_count": 72,
   "metadata": {
    "collapsed": true
   },
   "outputs": [],
   "source": [
    "min_max_scaler = preprocessing.MinMaxScaler(feature_range=(0,5))\n",
    "train_x = min_max_scaler.fit_transform(train_x)\n",
    "test_x = min_max_scaler.fit_transform(test_x)"
   ]
  },
  {
   "cell_type": "code",
   "execution_count": 73,
   "metadata": {},
   "outputs": [
    {
     "name": "stdout",
     "output_type": "stream",
     "text": [
      "Logistic Regression Accuracy :  0.7425\n"
     ]
    }
   ],
   "source": [
    "from sklearn import linear_model\n",
    "reg = linear_model.LogisticRegression()\n",
    "reg.fit(train_x,train_y)\n",
    "score = reg.score(test_x,test_y)\n",
    "print('Logistic Regression Accuracy : ',score)"
   ]
  },
  {
   "cell_type": "code",
   "execution_count": 74,
   "metadata": {},
   "outputs": [
    {
     "name": "stdout",
     "output_type": "stream",
     "text": [
      "             precision    recall  f1-score   support\n",
      "\n",
      "          0       0.99      0.74      0.85      1920\n",
      "          1       0.12      0.85      0.21        80\n",
      "\n",
      "avg / total       0.96      0.74      0.82      2000\n",
      "\n"
     ]
    }
   ],
   "source": [
    "from sklearn.metrics import classification_report\n",
    "print(classification_report(test_y,reg.predict(test_x)))"
   ]
  },
  {
   "cell_type": "code",
   "execution_count": 75,
   "metadata": {},
   "outputs": [
    {
     "name": "stdout",
     "output_type": "stream",
     "text": [
      "Logistic Regression used class weight  0.7435\n",
      "             precision    recall  f1-score   support\n",
      "\n",
      "          0       0.99      0.74      0.85      1920\n",
      "          1       0.12      0.85      0.21        80\n",
      "\n",
      "avg / total       0.96      0.74      0.82      2000\n",
      "\n"
     ]
    }
   ],
   "source": [
    "reg2 = linear_model.LogisticRegression(class_weight='balanced')\n",
    "reg2.fit(train_x,train_y)\n",
    "score2 = reg2.score(test_x,test_y)\n",
    "print('Logistic Regression used class weight ' ,score2)\n",
    "print(classification_report(test_y,reg2.predict(test_x)))"
   ]
  },
  {
   "cell_type": "code",
   "execution_count": 76,
   "metadata": {},
   "outputs": [
    {
     "name": "stdout",
     "output_type": "stream",
     "text": [
      "             precision    recall  f1-score   support\n",
      "\n",
      "          0       0.98      0.96      0.97      1920\n",
      "          1       0.35      0.51      0.41        80\n",
      "\n",
      "avg / total       0.95      0.94      0.95      2000\n",
      "\n",
      "ACCURACY: 0.942\n"
     ]
    }
   ],
   "source": [
    "# fit model no training data\n",
    "model = XGBClassifier(learning_rate=0.2,max_depth=7,base_score=0.5,max_delta_step=0,n_estimators=100)\n",
    "\n",
    "pipe = Pipeline([['xg',MinMaxScaler(feature_range=(0,5))],['model',model]])\n",
    "pipe.fit(train_x,train_y)\n",
    "print(classification_report(test_y,pipe.predict(test_x)))\n",
    "print(\"ACCURACY:\",pipe.score(test_x,test_y))"
   ]
  },
  {
   "cell_type": "code",
   "execution_count": 44,
   "metadata": {},
   "outputs": [
    {
     "data": {
      "text/plain": [
       "0.923"
      ]
     },
     "execution_count": 44,
     "metadata": {},
     "output_type": "execute_result"
    }
   ],
   "source": []
  },
  {
   "cell_type": "code",
   "execution_count": null,
   "metadata": {
    "collapsed": true
   },
   "outputs": [],
   "source": []
  },
  {
   "cell_type": "code",
   "execution_count": null,
   "metadata": {
    "collapsed": true
   },
   "outputs": [],
   "source": []
  }
 ],
 "metadata": {
  "anaconda-cloud": {},
  "kernelspec": {
   "display_name": "Python 3",
   "language": "python",
   "name": "python3"
  },
  "language_info": {
   "codemirror_mode": {
    "name": "ipython",
    "version": 3
   },
   "file_extension": ".py",
   "mimetype": "text/x-python",
   "name": "python",
   "nbconvert_exporter": "python",
   "pygments_lexer": "ipython3",
   "version": "3.5.2"
  }
 },
 "nbformat": 4,
 "nbformat_minor": 2
}
