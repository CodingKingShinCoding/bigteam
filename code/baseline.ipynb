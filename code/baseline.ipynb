{
 "cells": [
  {
   "cell_type": "markdown",
   "metadata": {},
   "source": [
    "#### smote + enn\n",
    "          precision    recall  f1-score   support\n",
    "\n",
    "          0       0.98      0.96      0.97      1920\n",
    "          1       0.35      0.51      0.41        80\n",
    "\n",
    "avg / total       0.95      0.94      0.95      2000\n",
    "\n",
    "ACCURACY: 0.942"
   ]
  },
  {
   "cell_type": "markdown",
   "metadata": {},
   "source": [
    "#### smote enn 결측치 2개 delete 했을 때\n",
    "\n",
    "          precision    recall  f1-score   support\n",
    "\n",
    "          0       0.98      0.95      0.96      1920\n",
    "          1       0.28      0.51      0.37        80\n",
    "\n",
    "avg / total       0.95      0.93      0.94      2000\n",
    "\n",
    "ACCURACY: 0.929"
   ]
  },
  {
   "cell_type": "markdown",
   "metadata": {},
   "source": [
    "#### ADASYN\n",
    "\n",
    "          precision    recall  f1-score   support\n",
    "\n",
    "          0       0.98      0.97      0.97      1920\n",
    "          1       0.38      0.46      0.42        80\n",
    "\n",
    "avg / total       0.95      0.95      0.95      2000\n",
    "\n",
    "ACCURACY: 0.9485\n"
   ]
  },
  {
   "cell_type": "markdown",
   "metadata": {},
   "source": [
    "#### Random oversampling\n",
    "             precision    recall  f1-score   support\n",
    "\n",
    "          0       0.98      0.94      0.96      1920\n",
    "          1       0.30      0.65      0.41        80\n",
    "\n",
    "avg / total       0.96      0.93      0.94      2000\n",
    "\n",
    "ACCURACY: 0.9265\n"
   ]
  },
  {
   "cell_type": "markdown",
   "metadata": {},
   "source": [
    "### 비식별처리 replace , fillna 해도 비식별처리로 인식됨"
   ]
  },
  {
   "cell_type": "code",
   "execution_count": 9,
   "metadata": {
    "collapsed": false
   },
   "outputs": [
    {
     "ename": "ImportError",
     "evalue": "No module named 'xgboost'",
     "output_type": "error",
     "traceback": [
      "\u001b[0;31m---------------------------------------------------------------------------\u001b[0m",
      "\u001b[0;31mImportError\u001b[0m                               Traceback (most recent call last)",
      "\u001b[0;32m<ipython-input-9-9f691ec5092c>\u001b[0m in \u001b[0;36m<module>\u001b[0;34m()\u001b[0m\n\u001b[1;32m      9\u001b[0m \u001b[1;32mfrom\u001b[0m \u001b[0msklearn\u001b[0m\u001b[1;33m.\u001b[0m\u001b[0mmetrics\u001b[0m \u001b[1;32mimport\u001b[0m \u001b[0mclassification_report\u001b[0m\u001b[1;33m\u001b[0m\u001b[0m\n\u001b[1;32m     10\u001b[0m \u001b[1;32mfrom\u001b[0m \u001b[0mnumpy\u001b[0m \u001b[1;32mimport\u001b[0m \u001b[0mloadtxt\u001b[0m\u001b[1;33m\u001b[0m\u001b[0m\n\u001b[0;32m---> 11\u001b[0;31m \u001b[1;32mfrom\u001b[0m \u001b[0mxgboost\u001b[0m \u001b[1;32mimport\u001b[0m \u001b[0mXGBClassifier\u001b[0m\u001b[1;33m\u001b[0m\u001b[0m\n\u001b[0m\u001b[1;32m     12\u001b[0m \u001b[1;32mfrom\u001b[0m \u001b[0msklearn\u001b[0m\u001b[1;33m.\u001b[0m\u001b[0mmodel_selection\u001b[0m \u001b[1;32mimport\u001b[0m \u001b[0mtrain_test_split\u001b[0m\u001b[1;33m\u001b[0m\u001b[0m\n\u001b[1;32m     13\u001b[0m \u001b[1;32mfrom\u001b[0m \u001b[0msklearn\u001b[0m\u001b[1;33m.\u001b[0m\u001b[0mmetrics\u001b[0m \u001b[1;32mimport\u001b[0m \u001b[0maccuracy_score\u001b[0m\u001b[1;33m\u001b[0m\u001b[0m\n",
      "\u001b[0;31mImportError\u001b[0m: No module named 'xgboost'"
     ]
    }
   ],
   "source": [
    "import pandas as pd\n",
    "import numpy as np\n",
    "import os\n",
    "# from imblearn.combine import SMOTEENN\n",
    "\n",
    "import matplotlib.pyplot as plt\n",
    "from sklearn import preprocessing\n",
    "from sklearn import linear_model\n",
    "from sklearn.metrics import classification_report\n",
    "from numpy import loadtxt\n",
    "from xgboost import XGBClassifier\n",
    "from sklearn.model_selection import train_test_split\n",
    "from sklearn.metrics import accuracy_score\n",
    "from sklearn.pipeline import Pipeline\n",
    "from sklearn.preprocessing import StandardScaler, MinMaxScaler ,normalize\n",
    "from sklearn import preprocessing\n",
    "import seaborn as sns\n",
    "import matplotlib as mpl\n",
    "import matplotlib.pyplot as plt\n",
    "import matplotlib.pylab as pylab\n",
    "import seaborn as sns\n",
    "%matplotlib inline\n",
    "mpl.style.use( 'ggplot' )\n",
    "sns.set_style( 'white' )\n",
    "pylab.rcParams[ 'figure.figsize' ] = 8 , 6\n"
   ]
  },
  {
   "cell_type": "code",
   "execution_count": null,
   "metadata": {
    "collapsed": false
   },
   "outputs": [],
   "source": [
    "df = pd.read_csv('./train.csv',encoding='cp949')\n",
    "df1 = pd.read_csv('./Test_set.csv',encoding='cp949')\n",
    "df1.AGE.value_counts(0)"
   ]
  },
  {
   "cell_type": "code",
   "execution_count": null,
   "metadata": {
    "collapsed": false
   },
   "outputs": [],
   "source": [
    "# df1.SEX.value_counts(0)"
   ]
  },
  {
   "cell_type": "code",
   "execution_count": null,
   "metadata": {
    "collapsed": false
   },
   "outputs": [],
   "source": [
    "# def plot_correlation_map( df ):\n",
    "#     corr = df.corr()\n",
    "#     _ , ax = plt.subplots( figsize =( 48 , 40 ) )\n",
    "#     cmap = sns.diverging_palette( 220 , 10 , as_cmap = True )\n",
    "#     _ = sns.heatmap(\n",
    "#         corr, \n",
    "#         cmap = cmap,\n",
    "#         square=True, \n",
    "#         cbar_kws={ 'shrink' : .9 }, \n",
    "#         ax=ax, \n",
    "#         annot = True, \n",
    "#         annot_kws = { 'fontsize' : 15 }\n",
    "#     )"
   ]
  },
  {
   "cell_type": "code",
   "execution_count": null,
   "metadata": {
    "collapsed": false,
    "scrolled": false
   },
   "outputs": [],
   "source": [
    "# plot_correlation_map( df )"
   ]
  },
  {
   "cell_type": "code",
   "execution_count": null,
   "metadata": {
    "collapsed": false
   },
   "outputs": [],
   "source": [
    "df.info()"
   ]
  },
  {
   "cell_type": "code",
   "execution_count": null,
   "metadata": {
    "collapsed": false
   },
   "outputs": [],
   "source": [
    "df.isnull().sum()"
   ]
  },
  {
   "cell_type": "code",
   "execution_count": 8,
   "metadata": {
    "collapsed": false,
    "scrolled": true
   },
   "outputs": [
    {
     "ename": "NameError",
     "evalue": "name 'df' is not defined",
     "output_type": "error",
     "traceback": [
      "\u001b[0;31m---------------------------------------------------------------------------\u001b[0m",
      "\u001b[0;31mNameError\u001b[0m                                 Traceback (most recent call last)",
      "\u001b[0;32m<ipython-input-8-86365782d0f5>\u001b[0m in \u001b[0;36m<module>\u001b[0;34m()\u001b[0m\n\u001b[0;32m----> 1\u001b[0;31m \u001b[0mdf\u001b[0m\u001b[1;33m.\u001b[0m\u001b[0mAGE\u001b[0m\u001b[1;33m\u001b[0m\u001b[0m\n\u001b[0m\u001b[1;32m      2\u001b[0m \u001b[1;33m\u001b[0m\u001b[0m\n\u001b[1;32m      3\u001b[0m \u001b[0mdf\u001b[0m\u001b[1;33m.\u001b[0m\u001b[0mAGE\u001b[0m \u001b[1;33m=\u001b[0m \u001b[0mdf\u001b[0m\u001b[1;33m.\u001b[0m\u001b[0mAGE\u001b[0m\u001b[1;33m.\u001b[0m\u001b[0mreplace\u001b[0m\u001b[1;33m(\u001b[0m\u001b[1;34m'*'\u001b[0m\u001b[1;33m,\u001b[0m\u001b[1;36m46\u001b[0m\u001b[1;33m)\u001b[0m\u001b[1;33m\u001b[0m\u001b[0m\n\u001b[1;32m      4\u001b[0m \u001b[0mdf\u001b[0m\u001b[1;33m.\u001b[0m\u001b[0mAGE\u001b[0m \u001b[1;33m=\u001b[0m \u001b[0mpd\u001b[0m\u001b[1;33m.\u001b[0m\u001b[0mSeries\u001b[0m\u001b[1;33m(\u001b[0m\u001b[0mdf\u001b[0m\u001b[1;33m.\u001b[0m\u001b[0mAGE\u001b[0m\u001b[1;33m)\u001b[0m\u001b[1;33m.\u001b[0m\u001b[0mconvert_objects\u001b[0m\u001b[1;33m(\u001b[0m\u001b[0mconvert_numeric\u001b[0m\u001b[1;33m=\u001b[0m\u001b[1;32mTrue\u001b[0m\u001b[1;33m)\u001b[0m\u001b[1;33m\u001b[0m\u001b[0m\n\u001b[1;32m      5\u001b[0m \u001b[0mdf\u001b[0m\u001b[1;33m.\u001b[0m\u001b[0mAGE\u001b[0m \u001b[1;33m=\u001b[0m \u001b[0mdf\u001b[0m\u001b[1;33m.\u001b[0m\u001b[0mAGE\u001b[0m\u001b[1;33m.\u001b[0m\u001b[0mreplace\u001b[0m\u001b[1;33m(\u001b[0m\u001b[1;36m0\u001b[0m\u001b[1;33m,\u001b[0m\u001b[0mdf\u001b[0m\u001b[1;33m.\u001b[0m\u001b[0mAGE\u001b[0m\u001b[1;33m.\u001b[0m\u001b[0mmean\u001b[0m\u001b[1;33m(\u001b[0m\u001b[1;33m)\u001b[0m\u001b[1;33m)\u001b[0m\u001b[1;33m\u001b[0m\u001b[0m\n",
      "\u001b[0;31mNameError\u001b[0m: name 'df' is not defined"
     ]
    }
   ],
   "source": [
    "df.AGE\n",
    "\n",
    "df.AGE = df.AGE.replace('*',46)\n",
    "df.AGE = pd.Series(df.AGE).convert_objects(convert_numeric=True)\n",
    "df.AGE = df.AGE.replace(0,df.AGE.mean())\n",
    "df.AGE\n"
   ]
  },
  {
   "cell_type": "code",
   "execution_count": 9,
   "metadata": {
    "collapsed": false
   },
   "outputs": [
    {
     "data": {
      "text/plain": [
       "45.000000    19052\n",
       "50.000000    17734\n",
       "55.000000    15321\n",
       "40.000000    14807\n",
       "35.000000    12003\n",
       "60.000000     9190\n",
       "30.000000     5268\n",
       "65.000000     3584\n",
       "25.000000     2201\n",
       "46.187533      430\n",
       "70.000000      403\n",
       "20.000000      240\n",
       "Name: AGE, dtype: int64"
      ]
     },
     "execution_count": 9,
     "metadata": {},
     "output_type": "execute_result"
    }
   ],
   "source": [
    "\n",
    "df.AGE.value_counts(0)"
   ]
  },
  {
   "cell_type": "code",
   "execution_count": 10,
   "metadata": {
    "collapsed": false
   },
   "outputs": [
    {
     "name": "stderr",
     "output_type": "stream",
     "text": [
      "/home/kimjihee/.local/lib/python3.5/site-packages/ipykernel_launcher.py:3: FutureWarning: convert_objects is deprecated.  Use the data-type specific converters pd.to_datetime, pd.to_timedelta and pd.to_numeric.\n",
      "  This is separate from the ipykernel package so we can avoid doing imports until\n"
     ]
    },
    {
     "data": {
      "text/plain": [
       "0         1\n",
       "1         1\n",
       "2         2\n",
       "3         1\n",
       "4         1\n",
       "5         1\n",
       "6         2\n",
       "7         1\n",
       "8         2\n",
       "9         1\n",
       "10        2\n",
       "11        1\n",
       "12        2\n",
       "13        1\n",
       "14        2\n",
       "15        1\n",
       "16        2\n",
       "17        2\n",
       "18        2\n",
       "19        2\n",
       "20        1\n",
       "21        2\n",
       "22        1\n",
       "23        1\n",
       "24        1\n",
       "25        2\n",
       "26        2\n",
       "27        1\n",
       "28        2\n",
       "29        1\n",
       "         ..\n",
       "100203    2\n",
       "100204    2\n",
       "100205    2\n",
       "100206    2\n",
       "100207    1\n",
       "100208    1\n",
       "100209    2\n",
       "100210    2\n",
       "100211    2\n",
       "100212    2\n",
       "100213    2\n",
       "100214    1\n",
       "100215    2\n",
       "100216    1\n",
       "100217    1\n",
       "100218    2\n",
       "100219    1\n",
       "100220    2\n",
       "100221    2\n",
       "100222    1\n",
       "100223    1\n",
       "100224    1\n",
       "100225    1\n",
       "100226    1\n",
       "100227    1\n",
       "100228    2\n",
       "100229    2\n",
       "100230    1\n",
       "100231    1\n",
       "100232    2\n",
       "Name: SEX, Length: 100233, dtype: int64"
      ]
     },
     "execution_count": 10,
     "metadata": {},
     "output_type": "execute_result"
    }
   ],
   "source": [
    "df.SEX\n",
    "df.SEX = df.SEX.replace('*',1)\n",
    "df.SEX = pd.Series(df.SEX).convert_objects(convert_numeric=True)\n",
    "df.SEX"
   ]
  },
  {
   "cell_type": "code",
   "execution_count": 11,
   "metadata": {
    "collapsed": true,
    "scrolled": true
   },
   "outputs": [],
   "source": [
    "df.TEL_CNTT_QTR = df.TEL_CNTT_QTR.astype(str)"
   ]
  },
  {
   "cell_type": "code",
   "execution_count": 13,
   "metadata": {
    "collapsed": false
   },
   "outputs": [
    {
     "data": {
      "text/plain": [
       "0         20111\n",
       "1         20143\n",
       "2         20103\n",
       "3         20144\n",
       "4         20131\n",
       "5         20154\n",
       "6         20143\n",
       "7         20021\n",
       "8         20131\n",
       "9         20133\n",
       "10        20062\n",
       "11        20133\n",
       "12        20141\n",
       "13        20151\n",
       "14        20144\n",
       "15        20142\n",
       "16        20092\n",
       "17        20102\n",
       "18        20142\n",
       "19        20143\n",
       "20        20131\n",
       "21        20122\n",
       "22        20114\n",
       "23        20102\n",
       "24        20101\n",
       "25        20112\n",
       "26        20121\n",
       "27        20143\n",
       "28        20122\n",
       "29        20133\n",
       "          ...  \n",
       "100203    20124\n",
       "100204    20103\n",
       "100205    20123\n",
       "100206    20142\n",
       "100207    20132\n",
       "100208    20114\n",
       "100209    20084\n",
       "100210    20161\n",
       "100211    20151\n",
       "100212    20121\n",
       "100213    20074\n",
       "100214    20114\n",
       "100215    20141\n",
       "100216    20134\n",
       "100217    20142\n",
       "100218    20134\n",
       "100219    20002\n",
       "100220    20041\n",
       "100221    20141\n",
       "100222    20161\n",
       "100223    20151\n",
       "100224    20124\n",
       "100225    20144\n",
       "100226    20133\n",
       "100227    20094\n",
       "100228    20111\n",
       "100229    20134\n",
       "100230    20141\n",
       "100231    20103\n",
       "100232    20151\n",
       "Name: TEL_CNTT_QTR, Length: 100233, dtype: object"
      ]
     },
     "execution_count": 13,
     "metadata": {},
     "output_type": "execute_result"
    }
   ],
   "source": [
    "df.TEL_CNTT_QTR"
   ]
  },
  {
   "cell_type": "code",
   "execution_count": 14,
   "metadata": {
    "collapsed": true
   },
   "outputs": [],
   "source": [
    "df.PAYM_METD = df.PAYM_METD.fillna('O')\n",
    "df.TEL_MBSP_GRAD = df.TEL_MBSP_GRAD.fillna('R')\n",
    "df.MATE_OCCP_NAME_G = df.MATE_OCCP_NAME_G.fillna('주부')\n",
    "df.OCCP_NAME_G = df.OCCP_NAME_G.fillna('주부')\n",
    "df.LAST_CHLD_AGE = df.LAST_CHLD_AGE.fillna(df.LAST_CHLD_AGE.mean())"
   ]
  },
  {
   "cell_type": "code",
   "execution_count": 15,
   "metadata": {
    "collapsed": true
   },
   "outputs": [],
   "source": [
    "del df['CUST_ID']\n",
    "df = pd.get_dummies(df)"
   ]
  },
  {
   "cell_type": "code",
   "execution_count": 16,
   "metadata": {
    "collapsed": true
   },
   "outputs": [],
   "source": [
    "df_test = df[:2000]\n",
    "df_train = df[2000:]"
   ]
  },
  {
   "cell_type": "code",
   "execution_count": 17,
   "metadata": {
    "collapsed": true
   },
   "outputs": [],
   "source": [
    "x_data = df_train.drop('TARGET',axis=1)\n",
    "y_data = df_train.TARGET"
   ]
  },
  {
   "cell_type": "code",
   "execution_count": 18,
   "metadata": {
    "collapsed": true
   },
   "outputs": [],
   "source": [
    "X = x_data\n",
    "y = y_data\n",
    "from imblearn.over_sampling import ADASYN \n",
    "from imblearn.over_sampling import RandomOverSampler\n",
    "from imblearn.under_sampling import CondensedNearestNeighbour \n",
    "\n",
    "# undersampling\n",
    "# cnn = CondensedNearestNeighbour(random_state=42) \n",
    "# X_resampled, y_resampled = cnn.fit_sample(X, y)\n",
    "\n",
    "#RANDOM \n",
    "# ros = RandomOverSampler(random_state=42)\n",
    "# X_resampled, y_resampled = ros.fit_sample(X, y)\n",
    "\n",
    "#ADASYN\n",
    "# ada = ADASYN(random_state=42,n_neighbors=3)\n",
    "# X_resampled, y_resampled = ada.fit_sample(X, y)\n",
    "\n",
    "# Apply SMOTE + ENN\n",
    "sm = SMOTEENN()\n",
    "X_resampled, y_resampled = sm.fit_sample(X, y)"
   ]
  },
  {
   "cell_type": "code",
   "execution_count": null,
   "metadata": {
    "collapsed": true
   },
   "outputs": [],
   "source": []
  },
  {
   "cell_type": "code",
   "execution_count": 19,
   "metadata": {
    "collapsed": false
   },
   "outputs": [
    {
     "data": {
      "text/html": [
       "<div>\n",
       "<style>\n",
       "    .dataframe thead tr:only-child th {\n",
       "        text-align: right;\n",
       "    }\n",
       "\n",
       "    .dataframe thead th {\n",
       "        text-align: left;\n",
       "    }\n",
       "\n",
       "    .dataframe tbody tr th {\n",
       "        vertical-align: top;\n",
       "    }\n",
       "</style>\n",
       "<table border=\"1\" class=\"dataframe\">\n",
       "  <thead>\n",
       "    <tr style=\"text-align: right;\">\n",
       "      <th></th>\n",
       "      <th>0</th>\n",
       "      <th>1</th>\n",
       "      <th>2</th>\n",
       "      <th>3</th>\n",
       "      <th>4</th>\n",
       "      <th>5</th>\n",
       "      <th>6</th>\n",
       "      <th>7</th>\n",
       "      <th>8</th>\n",
       "      <th>9</th>\n",
       "      <th>...</th>\n",
       "      <th>396</th>\n",
       "      <th>397</th>\n",
       "      <th>398</th>\n",
       "      <th>399</th>\n",
       "      <th>400</th>\n",
       "      <th>401</th>\n",
       "      <th>402</th>\n",
       "      <th>403</th>\n",
       "      <th>404</th>\n",
       "      <th>TARGET</th>\n",
       "    </tr>\n",
       "  </thead>\n",
       "  <tbody>\n",
       "    <tr>\n",
       "      <th>0</th>\n",
       "      <td>0.0</td>\n",
       "      <td>0.0</td>\n",
       "      <td>1.0</td>\n",
       "      <td>1.0</td>\n",
       "      <td>48001.0</td>\n",
       "      <td>48001.0</td>\n",
       "      <td>0.0</td>\n",
       "      <td>0.0</td>\n",
       "      <td>1.0</td>\n",
       "      <td>1.0</td>\n",
       "      <td>...</td>\n",
       "      <td>0.0</td>\n",
       "      <td>0.0</td>\n",
       "      <td>0.0</td>\n",
       "      <td>0.0</td>\n",
       "      <td>1.0</td>\n",
       "      <td>0.0</td>\n",
       "      <td>0.0</td>\n",
       "      <td>0.0</td>\n",
       "      <td>1.0</td>\n",
       "      <td>0</td>\n",
       "    </tr>\n",
       "    <tr>\n",
       "      <th>1</th>\n",
       "      <td>2.0</td>\n",
       "      <td>0.0</td>\n",
       "      <td>0.0</td>\n",
       "      <td>0.0</td>\n",
       "      <td>48001.0</td>\n",
       "      <td>1.0</td>\n",
       "      <td>48001.0</td>\n",
       "      <td>0.0</td>\n",
       "      <td>13.0</td>\n",
       "      <td>0.0</td>\n",
       "      <td>...</td>\n",
       "      <td>0.0</td>\n",
       "      <td>0.0</td>\n",
       "      <td>0.0</td>\n",
       "      <td>0.0</td>\n",
       "      <td>0.0</td>\n",
       "      <td>1.0</td>\n",
       "      <td>0.0</td>\n",
       "      <td>0.0</td>\n",
       "      <td>1.0</td>\n",
       "      <td>0</td>\n",
       "    </tr>\n",
       "    <tr>\n",
       "      <th>2</th>\n",
       "      <td>1.0</td>\n",
       "      <td>0.0</td>\n",
       "      <td>0.0</td>\n",
       "      <td>0.0</td>\n",
       "      <td>9001.0</td>\n",
       "      <td>9001.0</td>\n",
       "      <td>9001.0</td>\n",
       "      <td>0.0</td>\n",
       "      <td>25.0</td>\n",
       "      <td>0.0</td>\n",
       "      <td>...</td>\n",
       "      <td>0.0</td>\n",
       "      <td>0.0</td>\n",
       "      <td>0.0</td>\n",
       "      <td>0.0</td>\n",
       "      <td>0.0</td>\n",
       "      <td>1.0</td>\n",
       "      <td>0.0</td>\n",
       "      <td>0.0</td>\n",
       "      <td>1.0</td>\n",
       "      <td>0</td>\n",
       "    </tr>\n",
       "    <tr>\n",
       "      <th>3</th>\n",
       "      <td>2.0</td>\n",
       "      <td>0.0</td>\n",
       "      <td>0.0</td>\n",
       "      <td>0.0</td>\n",
       "      <td>39001.0</td>\n",
       "      <td>39001.0</td>\n",
       "      <td>39001.0</td>\n",
       "      <td>0.0</td>\n",
       "      <td>1.0</td>\n",
       "      <td>0.0</td>\n",
       "      <td>...</td>\n",
       "      <td>0.0</td>\n",
       "      <td>0.0</td>\n",
       "      <td>0.0</td>\n",
       "      <td>0.0</td>\n",
       "      <td>0.0</td>\n",
       "      <td>1.0</td>\n",
       "      <td>0.0</td>\n",
       "      <td>0.0</td>\n",
       "      <td>1.0</td>\n",
       "      <td>0</td>\n",
       "    </tr>\n",
       "    <tr>\n",
       "      <th>4</th>\n",
       "      <td>0.0</td>\n",
       "      <td>0.0</td>\n",
       "      <td>0.0</td>\n",
       "      <td>1.0</td>\n",
       "      <td>132001.0</td>\n",
       "      <td>132001.0</td>\n",
       "      <td>0.0</td>\n",
       "      <td>0.0</td>\n",
       "      <td>1.0</td>\n",
       "      <td>0.0</td>\n",
       "      <td>...</td>\n",
       "      <td>0.0</td>\n",
       "      <td>0.0</td>\n",
       "      <td>0.0</td>\n",
       "      <td>0.0</td>\n",
       "      <td>1.0</td>\n",
       "      <td>0.0</td>\n",
       "      <td>0.0</td>\n",
       "      <td>0.0</td>\n",
       "      <td>1.0</td>\n",
       "      <td>0</td>\n",
       "    </tr>\n",
       "  </tbody>\n",
       "</table>\n",
       "<p>5 rows × 406 columns</p>\n",
       "</div>"
      ],
      "text/plain": [
       "     0    1    2    3         4         5        6    7     8    9   ...    \\\n",
       "0  0.0  0.0  1.0  1.0   48001.0   48001.0      0.0  0.0   1.0  1.0   ...     \n",
       "1  2.0  0.0  0.0  0.0   48001.0       1.0  48001.0  0.0  13.0  0.0   ...     \n",
       "2  1.0  0.0  0.0  0.0    9001.0    9001.0   9001.0  0.0  25.0  0.0   ...     \n",
       "3  2.0  0.0  0.0  0.0   39001.0   39001.0  39001.0  0.0   1.0  0.0   ...     \n",
       "4  0.0  0.0  0.0  1.0  132001.0  132001.0      0.0  0.0   1.0  0.0   ...     \n",
       "\n",
       "   396  397  398  399  400  401  402  403  404  TARGET  \n",
       "0  0.0  0.0  0.0  0.0  1.0  0.0  0.0  0.0  1.0       0  \n",
       "1  0.0  0.0  0.0  0.0  0.0  1.0  0.0  0.0  1.0       0  \n",
       "2  0.0  0.0  0.0  0.0  0.0  1.0  0.0  0.0  1.0       0  \n",
       "3  0.0  0.0  0.0  0.0  0.0  1.0  0.0  0.0  1.0       0  \n",
       "4  0.0  0.0  0.0  0.0  1.0  0.0  0.0  0.0  1.0       0  \n",
       "\n",
       "[5 rows x 406 columns]"
      ]
     },
     "execution_count": 19,
     "metadata": {},
     "output_type": "execute_result"
    }
   ],
   "source": [
    "df_1 = pd.DataFrame(X_resampled)\n",
    "df_2 = pd.DataFrame(y_resampled)\n",
    "df_2.columns = ['TARGET']\n",
    "df_final = pd.concat([df_1,df_2],axis=1)\n",
    "df_final.head()"
   ]
  },
  {
   "cell_type": "code",
   "execution_count": 20,
   "metadata": {
    "collapsed": false
   },
   "outputs": [
    {
     "data": {
      "text/html": [
       "<div>\n",
       "<style>\n",
       "    .dataframe thead tr:only-child th {\n",
       "        text-align: right;\n",
       "    }\n",
       "\n",
       "    .dataframe thead th {\n",
       "        text-align: left;\n",
       "    }\n",
       "\n",
       "    .dataframe tbody tr th {\n",
       "        vertical-align: top;\n",
       "    }\n",
       "</style>\n",
       "<table border=\"1\" class=\"dataframe\">\n",
       "  <thead>\n",
       "    <tr style=\"text-align: right;\">\n",
       "      <th></th>\n",
       "      <th>0</th>\n",
       "      <th>1</th>\n",
       "      <th>2</th>\n",
       "      <th>3</th>\n",
       "      <th>4</th>\n",
       "      <th>5</th>\n",
       "      <th>6</th>\n",
       "      <th>7</th>\n",
       "      <th>8</th>\n",
       "      <th>9</th>\n",
       "      <th>...</th>\n",
       "      <th>396</th>\n",
       "      <th>397</th>\n",
       "      <th>398</th>\n",
       "      <th>399</th>\n",
       "      <th>400</th>\n",
       "      <th>401</th>\n",
       "      <th>402</th>\n",
       "      <th>403</th>\n",
       "      <th>404</th>\n",
       "      <th>TARGET</th>\n",
       "    </tr>\n",
       "  </thead>\n",
       "  <tbody>\n",
       "    <tr>\n",
       "      <th>62831</th>\n",
       "      <td>1.00000</td>\n",
       "      <td>2.00000</td>\n",
       "      <td>2.000000</td>\n",
       "      <td>0.000000</td>\n",
       "      <td>42001.000000</td>\n",
       "      <td>39001.000000</td>\n",
       "      <td>33001.000000</td>\n",
       "      <td>6001.000000</td>\n",
       "      <td>13.000000</td>\n",
       "      <td>13.000000</td>\n",
       "      <td>...</td>\n",
       "      <td>0.0</td>\n",
       "      <td>0.00000</td>\n",
       "      <td>0.0</td>\n",
       "      <td>0.0</td>\n",
       "      <td>1.0</td>\n",
       "      <td>0.0</td>\n",
       "      <td>0.0</td>\n",
       "      <td>0.0</td>\n",
       "      <td>1.0</td>\n",
       "      <td>0</td>\n",
       "    </tr>\n",
       "    <tr>\n",
       "      <th>129533</th>\n",
       "      <td>1.00000</td>\n",
       "      <td>0.00000</td>\n",
       "      <td>0.407397</td>\n",
       "      <td>0.407397</td>\n",
       "      <td>14611.802065</td>\n",
       "      <td>14611.802065</td>\n",
       "      <td>2389.905154</td>\n",
       "      <td>0.000000</td>\n",
       "      <td>39.222482</td>\n",
       "      <td>2.648078</td>\n",
       "      <td>...</td>\n",
       "      <td>0.0</td>\n",
       "      <td>0.00000</td>\n",
       "      <td>0.0</td>\n",
       "      <td>0.0</td>\n",
       "      <td>0.0</td>\n",
       "      <td>1.0</td>\n",
       "      <td>0.0</td>\n",
       "      <td>0.0</td>\n",
       "      <td>1.0</td>\n",
       "      <td>1</td>\n",
       "    </tr>\n",
       "    <tr>\n",
       "      <th>5427</th>\n",
       "      <td>0.00000</td>\n",
       "      <td>0.00000</td>\n",
       "      <td>1.000000</td>\n",
       "      <td>1.000000</td>\n",
       "      <td>57001.000000</td>\n",
       "      <td>0.000000</td>\n",
       "      <td>0.000000</td>\n",
       "      <td>0.000000</td>\n",
       "      <td>0.000000</td>\n",
       "      <td>0.000000</td>\n",
       "      <td>...</td>\n",
       "      <td>0.0</td>\n",
       "      <td>0.00000</td>\n",
       "      <td>0.0</td>\n",
       "      <td>0.0</td>\n",
       "      <td>0.0</td>\n",
       "      <td>1.0</td>\n",
       "      <td>0.0</td>\n",
       "      <td>0.0</td>\n",
       "      <td>1.0</td>\n",
       "      <td>0</td>\n",
       "    </tr>\n",
       "    <tr>\n",
       "      <th>60009</th>\n",
       "      <td>2.00000</td>\n",
       "      <td>1.00000</td>\n",
       "      <td>2.000000</td>\n",
       "      <td>1.000000</td>\n",
       "      <td>117001.000000</td>\n",
       "      <td>15001.000000</td>\n",
       "      <td>105001.000000</td>\n",
       "      <td>3001.000000</td>\n",
       "      <td>1.000000</td>\n",
       "      <td>1.000000</td>\n",
       "      <td>...</td>\n",
       "      <td>0.0</td>\n",
       "      <td>0.00000</td>\n",
       "      <td>0.0</td>\n",
       "      <td>0.0</td>\n",
       "      <td>1.0</td>\n",
       "      <td>0.0</td>\n",
       "      <td>0.0</td>\n",
       "      <td>0.0</td>\n",
       "      <td>1.0</td>\n",
       "      <td>0</td>\n",
       "    </tr>\n",
       "    <tr>\n",
       "      <th>87947</th>\n",
       "      <td>1.71732</td>\n",
       "      <td>0.71732</td>\n",
       "      <td>1.717320</td>\n",
       "      <td>1.000000</td>\n",
       "      <td>33064.714525</td>\n",
       "      <td>11545.122346</td>\n",
       "      <td>24912.755307</td>\n",
       "      <td>2152.676538</td>\n",
       "      <td>9.607837</td>\n",
       "      <td>33.607837</td>\n",
       "      <td>...</td>\n",
       "      <td>0.0</td>\n",
       "      <td>0.28268</td>\n",
       "      <td>0.0</td>\n",
       "      <td>0.0</td>\n",
       "      <td>0.0</td>\n",
       "      <td>1.0</td>\n",
       "      <td>0.0</td>\n",
       "      <td>0.0</td>\n",
       "      <td>1.0</td>\n",
       "      <td>1</td>\n",
       "    </tr>\n",
       "  </tbody>\n",
       "</table>\n",
       "<p>5 rows × 406 columns</p>\n",
       "</div>"
      ],
      "text/plain": [
       "              0        1         2         3              4             5  \\\n",
       "62831   1.00000  2.00000  2.000000  0.000000   42001.000000  39001.000000   \n",
       "129533  1.00000  0.00000  0.407397  0.407397   14611.802065  14611.802065   \n",
       "5427    0.00000  0.00000  1.000000  1.000000   57001.000000      0.000000   \n",
       "60009   2.00000  1.00000  2.000000  1.000000  117001.000000  15001.000000   \n",
       "87947   1.71732  0.71732  1.717320  1.000000   33064.714525  11545.122346   \n",
       "\n",
       "                    6            7          8          9   ...    396  \\\n",
       "62831    33001.000000  6001.000000  13.000000  13.000000   ...    0.0   \n",
       "129533    2389.905154     0.000000  39.222482   2.648078   ...    0.0   \n",
       "5427         0.000000     0.000000   0.000000   0.000000   ...    0.0   \n",
       "60009   105001.000000  3001.000000   1.000000   1.000000   ...    0.0   \n",
       "87947    24912.755307  2152.676538   9.607837  33.607837   ...    0.0   \n",
       "\n",
       "            397  398  399  400  401  402  403  404  TARGET  \n",
       "62831   0.00000  0.0  0.0  1.0  0.0  0.0  0.0  1.0       0  \n",
       "129533  0.00000  0.0  0.0  0.0  1.0  0.0  0.0  1.0       1  \n",
       "5427    0.00000  0.0  0.0  0.0  1.0  0.0  0.0  1.0       0  \n",
       "60009   0.00000  0.0  0.0  1.0  0.0  0.0  0.0  1.0       0  \n",
       "87947   0.28268  0.0  0.0  0.0  1.0  0.0  0.0  1.0       1  \n",
       "\n",
       "[5 rows x 406 columns]"
      ]
     },
     "execution_count": 20,
     "metadata": {},
     "output_type": "execute_result"
    }
   ],
   "source": [
    "df_final = df_final.sample(frac=1)\n",
    "df_final.head()"
   ]
  },
  {
   "cell_type": "code",
   "execution_count": 21,
   "metadata": {
    "collapsed": true
   },
   "outputs": [],
   "source": [
    "train_y = df_final.TARGET\n",
    "train_x = df_final.drop('TARGET',axis=1)"
   ]
  },
  {
   "cell_type": "code",
   "execution_count": 22,
   "metadata": {
    "collapsed": true
   },
   "outputs": [],
   "source": [
    "test_y = df_test.TARGET\n",
    "test_x = df_test.drop('TARGET',axis=1)"
   ]
  },
  {
   "cell_type": "code",
   "execution_count": 23,
   "metadata": {
    "collapsed": true
   },
   "outputs": [],
   "source": [
    "min_max_scaler = preprocessing.MinMaxScaler(feature_range=(0,5))\n",
    "train_x = min_max_scaler.fit_transform(train_x)\n",
    "test_x = min_max_scaler.fit_transform(test_x)"
   ]
  },
  {
   "cell_type": "code",
   "execution_count": 24,
   "metadata": {
    "collapsed": false
   },
   "outputs": [
    {
     "name": "stdout",
     "output_type": "stream",
     "text": [
      "Logistic Regression Accuracy :  0.828\n"
     ]
    }
   ],
   "source": [
    "from sklearn import linear_model\n",
    "reg = linear_model.LogisticRegression()\n",
    "reg.fit(train_x,train_y)\n",
    "score = reg.score(test_x,test_y)\n",
    "print('Logistic Regression Accuracy : ',score)"
   ]
  },
  {
   "cell_type": "code",
   "execution_count": 25,
   "metadata": {
    "collapsed": false
   },
   "outputs": [
    {
     "name": "stdout",
     "output_type": "stream",
     "text": [
      "             precision    recall  f1-score   support\n",
      "\n",
      "          0       0.99      0.83      0.90      1920\n",
      "          1       0.16      0.79      0.27        80\n",
      "\n",
      "avg / total       0.96      0.83      0.88      2000\n",
      "\n"
     ]
    }
   ],
   "source": [
    "from sklearn.metrics import classification_report\n",
    "print(classification_report(test_y,reg.predict(test_x)))"
   ]
  },
  {
   "cell_type": "code",
   "execution_count": 26,
   "metadata": {
    "collapsed": false
   },
   "outputs": [
    {
     "name": "stdout",
     "output_type": "stream",
     "text": [
      "Logistic Regression used class weight  0.849\n",
      "             precision    recall  f1-score   support\n",
      "\n",
      "          0       0.99      0.85      0.92      1920\n",
      "          1       0.18      0.75      0.28        80\n",
      "\n",
      "avg / total       0.96      0.85      0.89      2000\n",
      "\n"
     ]
    }
   ],
   "source": [
    "reg2 = linear_model.LogisticRegression(class_weight='balanced')\n",
    "reg2.fit(train_x,train_y)\n",
    "score2 = reg2.score(test_x,test_y)\n",
    "print('Logistic Regression used class weight ' ,score2)\n",
    "print(classification_report(test_y,reg2.predict(test_x)))"
   ]
  },
  {
   "cell_type": "code",
   "execution_count": 27,
   "metadata": {
    "collapsed": false
   },
   "outputs": [
    {
     "name": "stdout",
     "output_type": "stream",
     "text": [
      "             precision    recall  f1-score   support\n",
      "\n",
      "          0       0.98      0.95      0.96      1920\n",
      "          1       0.29      0.50      0.37        80\n",
      "\n",
      "avg / total       0.95      0.93      0.94      2000\n",
      "\n",
      "ACCURACY: 0.932\n"
     ]
    }
   ],
   "source": [
    "# fit model no training data\n",
    "model = XGBClassifier(learning_rate=0.2,max_depth=7,base_score=0.5,max_delta_step=0,n_estimators=100)\n",
    "\n",
    "pipe = Pipeline([['xg',MinMaxScaler(feature_range=(0,5))],['model',model]])\n",
    "pipe.fit(train_x,train_y)\n",
    "print(classification_report(test_y,pipe.predict(test_x)))\n",
    "print(\"ACCURACY:\",pipe.score(test_x,test_y))"
   ]
  },
  {
   "cell_type": "code",
   "execution_count": null,
   "metadata": {
    "collapsed": true
   },
   "outputs": [],
   "source": []
  },
  {
   "cell_type": "code",
   "execution_count": null,
   "metadata": {
    "collapsed": true
   },
   "outputs": [],
   "source": []
  },
  {
   "cell_type": "code",
   "execution_count": 28,
   "metadata": {
    "collapsed": false
   },
   "outputs": [
    {
     "name": "stdout",
     "output_type": "stream",
     "text": [
      "123\n"
     ]
    }
   ],
   "source": [
    "a = '123123'\n",
    "print(a[:-3])"
   ]
  }
 ],
 "metadata": {
  "anaconda-cloud": {},
  "kernelspec": {
   "display_name": "Python [default]",
   "language": "python",
   "name": "python3"
  },
  "language_info": {
   "codemirror_mode": {
    "name": "ipython",
    "version": 3
   },
   "file_extension": ".py",
   "mimetype": "text/x-python",
   "name": "python",
   "nbconvert_exporter": "python",
   "pygments_lexer": "ipython3",
   "version": "3.5.2"
  }
 },
 "nbformat": 4,
 "nbformat_minor": 2
}
